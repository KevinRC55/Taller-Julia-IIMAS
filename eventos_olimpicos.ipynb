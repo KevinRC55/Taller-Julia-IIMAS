{
 "cells": [
  {
   "cell_type": "markdown",
   "id": "d78f1945",
   "metadata": {},
   "source": [
    "# Uso de Julia en Ciencia de Datos"
   ]
  },
  {
   "cell_type": "code",
   "execution_count": 3,
   "id": "774ab56d",
   "metadata": {},
   "outputs": [],
   "source": [
    "using CSV\n",
    "using HTTP\n",
    "using DataFrames\n",
    "using StatsBase\n",
    "using Plots"
   ]
  },
  {
   "cell_type": "markdown",
   "id": "7d1aa728",
   "metadata": {},
   "source": [
    "## 2016 Olympic Games in Rio de Janeiro Dataset"
   ]
  },
  {
   "cell_type": "code",
   "execution_count": 14,
   "id": "893be40c",
   "metadata": {
    "scrolled": true
   },
   "outputs": [
    {
     "data": {
      "text/html": [
       "<div class=\"data-frame\"><p>306 rows × 6 columns</p><table class=\"data-frame\"><thead><tr><th></th><th>id</th><th>sport</th><th>discipline</th><th>name</th><th>sex</th><th>venues</th></tr><tr><th></th><th title=\"Int64\">Int64</th><th title=\"String\">String</th><th title=\"String\">String</th><th title=\"String\">String</th><th title=\"String\">String</th><th title=\"String\">String</th></tr></thead><tbody><tr><th>1</th><td>701492</td><td>aquatics</td><td>backstroke</td><td>Women&apos;s 100m Backstroke</td><td>female</td><td>Olympic Aquatics Stadium</td></tr><tr><th>2</th><td>305278</td><td>aquatics</td><td>backstroke</td><td>Women&apos;s 200m Backstroke</td><td>female</td><td>Olympic Aquatics Stadium</td></tr><tr><th>3</th><td>708010</td><td>aquatics</td><td>backstroke</td><td>Men&apos;s 100m Backstroke</td><td>male</td><td>Olympic Aquatics Stadium</td></tr><tr><th>4</th><td>729643</td><td>aquatics</td><td>backstroke</td><td>Men&apos;s 200m Backstroke</td><td>male</td><td>Olympic Aquatics Stadium</td></tr><tr><th>5</th><td>567019</td><td>aquatics</td><td>breaststroke</td><td>Women&apos;s 100m Breaststroke</td><td>female</td><td>Olympic Aquatics Stadium</td></tr><tr><th>6</th><td>607924</td><td>aquatics</td><td>breaststroke</td><td>Women&apos;s 200m Breaststroke</td><td>female</td><td>Olympic Aquatics Stadium</td></tr><tr><th>7</th><td>519818</td><td>aquatics</td><td>breaststroke</td><td>Men&apos;s 100m Breaststroke</td><td>male</td><td>Olympic Aquatics Stadium</td></tr><tr><th>8</th><td>778941</td><td>aquatics</td><td>breaststroke</td><td>Men&apos;s 200m Breaststroke</td><td>male</td><td>Olympic Aquatics Stadium</td></tr><tr><th>9</th><td>795006</td><td>aquatics</td><td>butterfly</td><td>Women&apos;s 100m Butterfly</td><td>female</td><td>Olympic Aquatics Stadium</td></tr><tr><th>10</th><td>93436</td><td>aquatics</td><td>butterfly</td><td>Women&apos;s 200m Butterfly</td><td>female</td><td>Olympic Aquatics Stadium</td></tr><tr><th>11</th><td>649324</td><td>aquatics</td><td>butterfly</td><td>Men&apos;s 100m Butterfly</td><td>male</td><td>Olympic Aquatics Stadium</td></tr><tr><th>12</th><td>943021</td><td>aquatics</td><td>butterfly</td><td>Men&apos;s 200m Butterfly</td><td>male</td><td>Olympic Aquatics Stadium</td></tr><tr><th>13</th><td>772359</td><td>aquatics</td><td>diving</td><td>Women&apos;s 10m Platform</td><td>female</td><td>Maria Lenk Aquatics Centre</td></tr><tr><th>14</th><td>228171</td><td>aquatics</td><td>diving</td><td>Women&apos;s 3m Springboard</td><td>female</td><td>Maria Lenk Aquatics Centre</td></tr><tr><th>15</th><td>305987</td><td>aquatics</td><td>diving</td><td>Women&apos;s Synchronised 10m Platform</td><td>female</td><td>Maria Lenk Aquatics Centre</td></tr><tr><th>16</th><td>745896</td><td>aquatics</td><td>diving</td><td>Women&apos;s Synchronised 3m Springboard</td><td>female</td><td>Maria Lenk Aquatics Centre</td></tr><tr><th>17</th><td>574103</td><td>aquatics</td><td>diving</td><td>Men&apos;s 10m Platform</td><td>male</td><td>Maria Lenk Aquatics Centre</td></tr><tr><th>18</th><td>48684</td><td>aquatics</td><td>diving</td><td>Men&apos;s 3m Springboard</td><td>male</td><td>Maria Lenk Aquatics Centre</td></tr><tr><th>19</th><td>524580</td><td>aquatics</td><td>diving</td><td>Men&apos;s Synchronised 10m Platform</td><td>male</td><td>Maria Lenk Aquatics Centre</td></tr><tr><th>20</th><td>694510</td><td>aquatics</td><td>diving</td><td>Men&apos;s Synchronised 3m Springboard</td><td>male</td><td>Maria Lenk Aquatics Centre</td></tr><tr><th>21</th><td>760140</td><td>aquatics</td><td>freestyle</td><td>Women&apos;s 100m Freestyle</td><td>female</td><td>Olympic Aquatics Stadium</td></tr><tr><th>22</th><td>872869</td><td>aquatics</td><td>freestyle</td><td>Women&apos;s 200m Freestyle</td><td>female</td><td>Olympic Aquatics Stadium</td></tr><tr><th>23</th><td>789774</td><td>aquatics</td><td>freestyle</td><td>Women&apos;s 4 x 100m Freestyle Relay</td><td>female</td><td>Olympic Aquatics Stadium</td></tr><tr><th>24</th><td>391049</td><td>aquatics</td><td>freestyle</td><td>Women&apos;s 4 x 200m Freestyle Relay</td><td>female</td><td>Olympic Aquatics Stadium</td></tr><tr><th>25</th><td>568906</td><td>aquatics</td><td>freestyle</td><td>Women&apos;s 400m Freestyle</td><td>female</td><td>Olympic Aquatics Stadium</td></tr><tr><th>26</th><td>229032</td><td>aquatics</td><td>freestyle</td><td>Women&apos;s 50m Freestyle</td><td>female</td><td>Olympic Aquatics Stadium</td></tr><tr><th>27</th><td>121264</td><td>aquatics</td><td>freestyle</td><td>Women&apos;s 800m Freestyle</td><td>female</td><td>Olympic Aquatics Stadium</td></tr><tr><th>28</th><td>82103</td><td>aquatics</td><td>freestyle</td><td>Men&apos;s 100m Freestyle</td><td>male</td><td>Olympic Aquatics Stadium</td></tr><tr><th>29</th><td>338784</td><td>aquatics</td><td>freestyle</td><td>Men&apos;s 1500m Freestyle</td><td>male</td><td>Olympic Aquatics Stadium</td></tr><tr><th>30</th><td>646337</td><td>aquatics</td><td>freestyle</td><td>Men&apos;s 200m Freestyle</td><td>male</td><td>Olympic Aquatics Stadium</td></tr><tr><th>&vellip;</th><td>&vellip;</td><td>&vellip;</td><td>&vellip;</td><td>&vellip;</td><td>&vellip;</td><td>&vellip;</td></tr></tbody></table></div>"
      ],
      "text/latex": [
       "\\begin{tabular}{r|cccccc}\n",
       "\t& id & sport & discipline & name & sex & venues\\\\\n",
       "\t\\hline\n",
       "\t& Int64 & String & String & String & String & String\\\\\n",
       "\t\\hline\n",
       "\t1 & 701492 & aquatics & backstroke & Women's 100m Backstroke & female & Olympic Aquatics Stadium \\\\\n",
       "\t2 & 305278 & aquatics & backstroke & Women's 200m Backstroke & female & Olympic Aquatics Stadium \\\\\n",
       "\t3 & 708010 & aquatics & backstroke & Men's 100m Backstroke & male & Olympic Aquatics Stadium \\\\\n",
       "\t4 & 729643 & aquatics & backstroke & Men's 200m Backstroke & male & Olympic Aquatics Stadium \\\\\n",
       "\t5 & 567019 & aquatics & breaststroke & Women's 100m Breaststroke & female & Olympic Aquatics Stadium \\\\\n",
       "\t6 & 607924 & aquatics & breaststroke & Women's 200m Breaststroke & female & Olympic Aquatics Stadium \\\\\n",
       "\t7 & 519818 & aquatics & breaststroke & Men's 100m Breaststroke & male & Olympic Aquatics Stadium \\\\\n",
       "\t8 & 778941 & aquatics & breaststroke & Men's 200m Breaststroke & male & Olympic Aquatics Stadium \\\\\n",
       "\t9 & 795006 & aquatics & butterfly & Women's 100m Butterfly & female & Olympic Aquatics Stadium \\\\\n",
       "\t10 & 93436 & aquatics & butterfly & Women's 200m Butterfly & female & Olympic Aquatics Stadium \\\\\n",
       "\t11 & 649324 & aquatics & butterfly & Men's 100m Butterfly & male & Olympic Aquatics Stadium \\\\\n",
       "\t12 & 943021 & aquatics & butterfly & Men's 200m Butterfly & male & Olympic Aquatics Stadium \\\\\n",
       "\t13 & 772359 & aquatics & diving & Women's 10m Platform & female & Maria Lenk Aquatics Centre \\\\\n",
       "\t14 & 228171 & aquatics & diving & Women's 3m Springboard & female & Maria Lenk Aquatics Centre \\\\\n",
       "\t15 & 305987 & aquatics & diving & Women's Synchronised 10m Platform & female & Maria Lenk Aquatics Centre \\\\\n",
       "\t16 & 745896 & aquatics & diving & Women's Synchronised 3m Springboard & female & Maria Lenk Aquatics Centre \\\\\n",
       "\t17 & 574103 & aquatics & diving & Men's 10m Platform & male & Maria Lenk Aquatics Centre \\\\\n",
       "\t18 & 48684 & aquatics & diving & Men's 3m Springboard & male & Maria Lenk Aquatics Centre \\\\\n",
       "\t19 & 524580 & aquatics & diving & Men's Synchronised 10m Platform & male & Maria Lenk Aquatics Centre \\\\\n",
       "\t20 & 694510 & aquatics & diving & Men's Synchronised 3m Springboard & male & Maria Lenk Aquatics Centre \\\\\n",
       "\t21 & 760140 & aquatics & freestyle & Women's 100m Freestyle & female & Olympic Aquatics Stadium \\\\\n",
       "\t22 & 872869 & aquatics & freestyle & Women's 200m Freestyle & female & Olympic Aquatics Stadium \\\\\n",
       "\t23 & 789774 & aquatics & freestyle & Women's 4 x 100m Freestyle Relay & female & Olympic Aquatics Stadium \\\\\n",
       "\t24 & 391049 & aquatics & freestyle & Women's 4 x 200m Freestyle Relay & female & Olympic Aquatics Stadium \\\\\n",
       "\t25 & 568906 & aquatics & freestyle & Women's 400m Freestyle & female & Olympic Aquatics Stadium \\\\\n",
       "\t26 & 229032 & aquatics & freestyle & Women's 50m Freestyle & female & Olympic Aquatics Stadium \\\\\n",
       "\t27 & 121264 & aquatics & freestyle & Women's 800m Freestyle & female & Olympic Aquatics Stadium \\\\\n",
       "\t28 & 82103 & aquatics & freestyle & Men's 100m Freestyle & male & Olympic Aquatics Stadium \\\\\n",
       "\t29 & 338784 & aquatics & freestyle & Men's 1500m Freestyle & male & Olympic Aquatics Stadium \\\\\n",
       "\t30 & 646337 & aquatics & freestyle & Men's 200m Freestyle & male & Olympic Aquatics Stadium \\\\\n",
       "\t$\\dots$ & $\\dots$ & $\\dots$ & $\\dots$ & $\\dots$ & $\\dots$ & $\\dots$ \\\\\n",
       "\\end{tabular}\n"
      ],
      "text/plain": [
       "\u001b[1m306×6 DataFrame\u001b[0m\n",
       "\u001b[1m Row \u001b[0m│\u001b[1m id     \u001b[0m\u001b[1m sport     \u001b[0m\u001b[1m discipline   \u001b[0m\u001b[1m name                      \u001b[0m\u001b[1m sex    \u001b[0m\u001b[1m ven\u001b[0m ⋯\n",
       "\u001b[1m     \u001b[0m│\u001b[90m Int64  \u001b[0m\u001b[90m String    \u001b[0m\u001b[90m String       \u001b[0m\u001b[90m String                    \u001b[0m\u001b[90m String \u001b[0m\u001b[90m Str\u001b[0m ⋯\n",
       "─────┼──────────────────────────────────────────────────────────────────────────\n",
       "   1 │ 701492  aquatics   backstroke    Women's 100m Backstroke    female  Oly ⋯\n",
       "   2 │ 305278  aquatics   backstroke    Women's 200m Backstroke    female  Oly\n",
       "   3 │ 708010  aquatics   backstroke    Men's 100m Backstroke      male    Oly\n",
       "   4 │ 729643  aquatics   backstroke    Men's 200m Backstroke      male    Oly\n",
       "   5 │ 567019  aquatics   breaststroke  Women's 100m Breaststroke  female  Oly ⋯\n",
       "   6 │ 607924  aquatics   breaststroke  Women's 200m Breaststroke  female  Oly\n",
       "   7 │ 519818  aquatics   breaststroke  Men's 100m Breaststroke    male    Oly\n",
       "   8 │ 778941  aquatics   breaststroke  Men's 200m Breaststroke    male    Oly\n",
       "   9 │ 795006  aquatics   butterfly     Women's 100m Butterfly     female  Oly ⋯\n",
       "  10 │  93436  aquatics   butterfly     Women's 200m Butterfly     female  Oly\n",
       "  11 │ 649324  aquatics   butterfly     Men's 100m Butterfly       male    Oly\n",
       "  ⋮  │   ⋮         ⋮           ⋮                    ⋮                ⋮         ⋱\n",
       " 297 │ 633484  wrestling  freestyle     Men's Freestyle 65 kg      male    Car\n",
       " 298 │ 525167  wrestling  freestyle     Men's Freestyle 74 kg      male    Car ⋯\n",
       " 299 │ 524420  wrestling  freestyle     Men's Freestyle 86 kg      male    Car\n",
       " 300 │ 716856  wrestling  freestyle     Men's Freestyle 97 kg      male    Car\n",
       " 301 │ 128413  wrestling  greco roman   Men's Greco-Roman 130 kg   male    Car\n",
       " 302 │ 755045  wrestling  greco roman   Men's Greco-Roman 59 kg    male    Car ⋯\n",
       " 303 │ 331407  wrestling  greco roman   Men's Greco-Roman 66 kg    male    Car\n",
       " 304 │ 169856  wrestling  greco roman   Men's Greco-Roman 75 kg    male    Car\n",
       " 305 │ 858736  wrestling  greco roman   Men's Greco-Roman 85 kg    male    Car\n",
       " 306 │ 767420  wrestling  greco roman   Men's Greco-Roman 98 kg    male    Car ⋯\n",
       "\u001b[36m                                                   1 column and 285 rows omitted\u001b[0m"
      ]
     },
     "execution_count": 14,
     "metadata": {},
     "output_type": "execute_result"
    }
   ],
   "source": [
    "url = \"https://raw.githubusercontent.com/flother/rio2016/master/events.csv\"\n",
    "eventos = CSV.read(HTTP.get(url).body, DataFrame)"
   ]
  },
  {
   "cell_type": "code",
   "execution_count": 30,
   "id": "de51d2f0",
   "metadata": {},
   "outputs": [
    {
     "data": {
      "text/plain": [
       "(306, 6)"
      ]
     },
     "execution_count": 30,
     "metadata": {},
     "output_type": "execute_result"
    }
   ],
   "source": [
    "size(eventos)"
   ]
  },
  {
   "cell_type": "markdown",
   "id": "cea5b255",
   "metadata": {},
   "source": [
    "### Visualización de datos"
   ]
  },
  {
   "cell_type": "code",
   "execution_count": 35,
   "id": "67f2e911",
   "metadata": {},
   "outputs": [
    {
     "data": {
      "text/html": [
       "<div class=\"data-frame\"><p>30 rows × 6 columns</p><table class=\"data-frame\"><thead><tr><th></th><th>id</th><th>sport</th><th>discipline</th><th>name</th><th>sex</th><th>venues</th></tr><tr><th></th><th title=\"Int64\">Int64</th><th title=\"String\">String</th><th title=\"String\">String</th><th title=\"String\">String</th><th title=\"String\">String</th><th title=\"String\">String</th></tr></thead><tbody><tr><th>1</th><td>701492</td><td>aquatics</td><td>backstroke</td><td>Women&apos;s 100m Backstroke</td><td>female</td><td>Olympic Aquatics Stadium</td></tr><tr><th>2</th><td>305278</td><td>aquatics</td><td>backstroke</td><td>Women&apos;s 200m Backstroke</td><td>female</td><td>Olympic Aquatics Stadium</td></tr><tr><th>3</th><td>708010</td><td>aquatics</td><td>backstroke</td><td>Men&apos;s 100m Backstroke</td><td>male</td><td>Olympic Aquatics Stadium</td></tr><tr><th>4</th><td>729643</td><td>aquatics</td><td>backstroke</td><td>Men&apos;s 200m Backstroke</td><td>male</td><td>Olympic Aquatics Stadium</td></tr><tr><th>5</th><td>567019</td><td>aquatics</td><td>breaststroke</td><td>Women&apos;s 100m Breaststroke</td><td>female</td><td>Olympic Aquatics Stadium</td></tr><tr><th>6</th><td>607924</td><td>aquatics</td><td>breaststroke</td><td>Women&apos;s 200m Breaststroke</td><td>female</td><td>Olympic Aquatics Stadium</td></tr><tr><th>7</th><td>519818</td><td>aquatics</td><td>breaststroke</td><td>Men&apos;s 100m Breaststroke</td><td>male</td><td>Olympic Aquatics Stadium</td></tr><tr><th>8</th><td>778941</td><td>aquatics</td><td>breaststroke</td><td>Men&apos;s 200m Breaststroke</td><td>male</td><td>Olympic Aquatics Stadium</td></tr><tr><th>9</th><td>795006</td><td>aquatics</td><td>butterfly</td><td>Women&apos;s 100m Butterfly</td><td>female</td><td>Olympic Aquatics Stadium</td></tr><tr><th>10</th><td>93436</td><td>aquatics</td><td>butterfly</td><td>Women&apos;s 200m Butterfly</td><td>female</td><td>Olympic Aquatics Stadium</td></tr><tr><th>11</th><td>649324</td><td>aquatics</td><td>butterfly</td><td>Men&apos;s 100m Butterfly</td><td>male</td><td>Olympic Aquatics Stadium</td></tr><tr><th>12</th><td>943021</td><td>aquatics</td><td>butterfly</td><td>Men&apos;s 200m Butterfly</td><td>male</td><td>Olympic Aquatics Stadium</td></tr><tr><th>13</th><td>772359</td><td>aquatics</td><td>diving</td><td>Women&apos;s 10m Platform</td><td>female</td><td>Maria Lenk Aquatics Centre</td></tr><tr><th>14</th><td>228171</td><td>aquatics</td><td>diving</td><td>Women&apos;s 3m Springboard</td><td>female</td><td>Maria Lenk Aquatics Centre</td></tr><tr><th>15</th><td>305987</td><td>aquatics</td><td>diving</td><td>Women&apos;s Synchronised 10m Platform</td><td>female</td><td>Maria Lenk Aquatics Centre</td></tr><tr><th>16</th><td>745896</td><td>aquatics</td><td>diving</td><td>Women&apos;s Synchronised 3m Springboard</td><td>female</td><td>Maria Lenk Aquatics Centre</td></tr><tr><th>17</th><td>574103</td><td>aquatics</td><td>diving</td><td>Men&apos;s 10m Platform</td><td>male</td><td>Maria Lenk Aquatics Centre</td></tr><tr><th>18</th><td>48684</td><td>aquatics</td><td>diving</td><td>Men&apos;s 3m Springboard</td><td>male</td><td>Maria Lenk Aquatics Centre</td></tr><tr><th>19</th><td>524580</td><td>aquatics</td><td>diving</td><td>Men&apos;s Synchronised 10m Platform</td><td>male</td><td>Maria Lenk Aquatics Centre</td></tr><tr><th>20</th><td>694510</td><td>aquatics</td><td>diving</td><td>Men&apos;s Synchronised 3m Springboard</td><td>male</td><td>Maria Lenk Aquatics Centre</td></tr><tr><th>21</th><td>760140</td><td>aquatics</td><td>freestyle</td><td>Women&apos;s 100m Freestyle</td><td>female</td><td>Olympic Aquatics Stadium</td></tr><tr><th>22</th><td>872869</td><td>aquatics</td><td>freestyle</td><td>Women&apos;s 200m Freestyle</td><td>female</td><td>Olympic Aquatics Stadium</td></tr><tr><th>23</th><td>789774</td><td>aquatics</td><td>freestyle</td><td>Women&apos;s 4 x 100m Freestyle Relay</td><td>female</td><td>Olympic Aquatics Stadium</td></tr><tr><th>24</th><td>391049</td><td>aquatics</td><td>freestyle</td><td>Women&apos;s 4 x 200m Freestyle Relay</td><td>female</td><td>Olympic Aquatics Stadium</td></tr><tr><th>25</th><td>568906</td><td>aquatics</td><td>freestyle</td><td>Women&apos;s 400m Freestyle</td><td>female</td><td>Olympic Aquatics Stadium</td></tr><tr><th>26</th><td>229032</td><td>aquatics</td><td>freestyle</td><td>Women&apos;s 50m Freestyle</td><td>female</td><td>Olympic Aquatics Stadium</td></tr><tr><th>27</th><td>121264</td><td>aquatics</td><td>freestyle</td><td>Women&apos;s 800m Freestyle</td><td>female</td><td>Olympic Aquatics Stadium</td></tr><tr><th>28</th><td>82103</td><td>aquatics</td><td>freestyle</td><td>Men&apos;s 100m Freestyle</td><td>male</td><td>Olympic Aquatics Stadium</td></tr><tr><th>29</th><td>338784</td><td>aquatics</td><td>freestyle</td><td>Men&apos;s 1500m Freestyle</td><td>male</td><td>Olympic Aquatics Stadium</td></tr><tr><th>30</th><td>646337</td><td>aquatics</td><td>freestyle</td><td>Men&apos;s 200m Freestyle</td><td>male</td><td>Olympic Aquatics Stadium</td></tr></tbody></table></div>"
      ],
      "text/latex": [
       "\\begin{tabular}{r|cccccc}\n",
       "\t& id & sport & discipline & name & sex & venues\\\\\n",
       "\t\\hline\n",
       "\t& Int64 & String & String & String & String & String\\\\\n",
       "\t\\hline\n",
       "\t1 & 701492 & aquatics & backstroke & Women's 100m Backstroke & female & Olympic Aquatics Stadium \\\\\n",
       "\t2 & 305278 & aquatics & backstroke & Women's 200m Backstroke & female & Olympic Aquatics Stadium \\\\\n",
       "\t3 & 708010 & aquatics & backstroke & Men's 100m Backstroke & male & Olympic Aquatics Stadium \\\\\n",
       "\t4 & 729643 & aquatics & backstroke & Men's 200m Backstroke & male & Olympic Aquatics Stadium \\\\\n",
       "\t5 & 567019 & aquatics & breaststroke & Women's 100m Breaststroke & female & Olympic Aquatics Stadium \\\\\n",
       "\t6 & 607924 & aquatics & breaststroke & Women's 200m Breaststroke & female & Olympic Aquatics Stadium \\\\\n",
       "\t7 & 519818 & aquatics & breaststroke & Men's 100m Breaststroke & male & Olympic Aquatics Stadium \\\\\n",
       "\t8 & 778941 & aquatics & breaststroke & Men's 200m Breaststroke & male & Olympic Aquatics Stadium \\\\\n",
       "\t9 & 795006 & aquatics & butterfly & Women's 100m Butterfly & female & Olympic Aquatics Stadium \\\\\n",
       "\t10 & 93436 & aquatics & butterfly & Women's 200m Butterfly & female & Olympic Aquatics Stadium \\\\\n",
       "\t11 & 649324 & aquatics & butterfly & Men's 100m Butterfly & male & Olympic Aquatics Stadium \\\\\n",
       "\t12 & 943021 & aquatics & butterfly & Men's 200m Butterfly & male & Olympic Aquatics Stadium \\\\\n",
       "\t13 & 772359 & aquatics & diving & Women's 10m Platform & female & Maria Lenk Aquatics Centre \\\\\n",
       "\t14 & 228171 & aquatics & diving & Women's 3m Springboard & female & Maria Lenk Aquatics Centre \\\\\n",
       "\t15 & 305987 & aquatics & diving & Women's Synchronised 10m Platform & female & Maria Lenk Aquatics Centre \\\\\n",
       "\t16 & 745896 & aquatics & diving & Women's Synchronised 3m Springboard & female & Maria Lenk Aquatics Centre \\\\\n",
       "\t17 & 574103 & aquatics & diving & Men's 10m Platform & male & Maria Lenk Aquatics Centre \\\\\n",
       "\t18 & 48684 & aquatics & diving & Men's 3m Springboard & male & Maria Lenk Aquatics Centre \\\\\n",
       "\t19 & 524580 & aquatics & diving & Men's Synchronised 10m Platform & male & Maria Lenk Aquatics Centre \\\\\n",
       "\t20 & 694510 & aquatics & diving & Men's Synchronised 3m Springboard & male & Maria Lenk Aquatics Centre \\\\\n",
       "\t21 & 760140 & aquatics & freestyle & Women's 100m Freestyle & female & Olympic Aquatics Stadium \\\\\n",
       "\t22 & 872869 & aquatics & freestyle & Women's 200m Freestyle & female & Olympic Aquatics Stadium \\\\\n",
       "\t23 & 789774 & aquatics & freestyle & Women's 4 x 100m Freestyle Relay & female & Olympic Aquatics Stadium \\\\\n",
       "\t24 & 391049 & aquatics & freestyle & Women's 4 x 200m Freestyle Relay & female & Olympic Aquatics Stadium \\\\\n",
       "\t25 & 568906 & aquatics & freestyle & Women's 400m Freestyle & female & Olympic Aquatics Stadium \\\\\n",
       "\t26 & 229032 & aquatics & freestyle & Women's 50m Freestyle & female & Olympic Aquatics Stadium \\\\\n",
       "\t27 & 121264 & aquatics & freestyle & Women's 800m Freestyle & female & Olympic Aquatics Stadium \\\\\n",
       "\t28 & 82103 & aquatics & freestyle & Men's 100m Freestyle & male & Olympic Aquatics Stadium \\\\\n",
       "\t29 & 338784 & aquatics & freestyle & Men's 1500m Freestyle & male & Olympic Aquatics Stadium \\\\\n",
       "\t30 & 646337 & aquatics & freestyle & Men's 200m Freestyle & male & Olympic Aquatics Stadium \\\\\n",
       "\\end{tabular}\n"
      ],
      "text/plain": [
       "\u001b[1m30×6 DataFrame\u001b[0m\n",
       "\u001b[1m Row \u001b[0m│\u001b[1m id     \u001b[0m\u001b[1m sport    \u001b[0m\u001b[1m discipline   \u001b[0m\u001b[1m name                              \u001b[0m\u001b[1m sex \u001b[0m ⋯\n",
       "\u001b[1m     \u001b[0m│\u001b[90m Int64  \u001b[0m\u001b[90m String   \u001b[0m\u001b[90m String       \u001b[0m\u001b[90m String                            \u001b[0m\u001b[90m Stri\u001b[0m ⋯\n",
       "─────┼──────────────────────────────────────────────────────────────────────────\n",
       "   1 │ 701492  aquatics  backstroke    Women's 100m Backstroke            fema ⋯\n",
       "   2 │ 305278  aquatics  backstroke    Women's 200m Backstroke            fema\n",
       "   3 │ 708010  aquatics  backstroke    Men's 100m Backstroke              male\n",
       "   4 │ 729643  aquatics  backstroke    Men's 200m Backstroke              male\n",
       "   5 │ 567019  aquatics  breaststroke  Women's 100m Breaststroke          fema ⋯\n",
       "   6 │ 607924  aquatics  breaststroke  Women's 200m Breaststroke          fema\n",
       "   7 │ 519818  aquatics  breaststroke  Men's 100m Breaststroke            male\n",
       "   8 │ 778941  aquatics  breaststroke  Men's 200m Breaststroke            male\n",
       "   9 │ 795006  aquatics  butterfly     Women's 100m Butterfly             fema ⋯\n",
       "  10 │  93436  aquatics  butterfly     Women's 200m Butterfly             fema\n",
       "  11 │ 649324  aquatics  butterfly     Men's 100m Butterfly               male\n",
       "  ⋮  │   ⋮        ⋮           ⋮                        ⋮                    ⋮  ⋱\n",
       "  21 │ 760140  aquatics  freestyle     Women's 100m Freestyle             fema\n",
       "  22 │ 872869  aquatics  freestyle     Women's 200m Freestyle             fema ⋯\n",
       "  23 │ 789774  aquatics  freestyle     Women's 4 x 100m Freestyle Relay   fema\n",
       "  24 │ 391049  aquatics  freestyle     Women's 4 x 200m Freestyle Relay   fema\n",
       "  25 │ 568906  aquatics  freestyle     Women's 400m Freestyle             fema\n",
       "  26 │ 229032  aquatics  freestyle     Women's 50m Freestyle              fema ⋯\n",
       "  27 │ 121264  aquatics  freestyle     Women's 800m Freestyle             fema\n",
       "  28 │  82103  aquatics  freestyle     Men's 100m Freestyle               male\n",
       "  29 │ 338784  aquatics  freestyle     Men's 1500m Freestyle              male\n",
       "  30 │ 646337  aquatics  freestyle     Men's 200m Freestyle               male ⋯\n",
       "\u001b[36m                                                    2 columns and 9 rows omitted\u001b[0m"
      ]
     },
     "execution_count": 35,
     "metadata": {},
     "output_type": "execute_result"
    }
   ],
   "source": [
    "first(eventos, 30)"
   ]
  },
  {
   "cell_type": "code",
   "execution_count": 36,
   "id": "184a3bc5",
   "metadata": {
    "scrolled": true
   },
   "outputs": [
    {
     "data": {
      "text/html": [
       "<div class=\"data-frame\"><p>30 rows × 6 columns</p><table class=\"data-frame\"><thead><tr><th></th><th>id</th><th>sport</th><th>discipline</th><th>name</th><th>sex</th><th>venues</th></tr><tr><th></th><th title=\"Int64\">Int64</th><th title=\"String\">String</th><th title=\"String\">String</th><th title=\"String\">String</th><th title=\"String\">String</th><th title=\"String\">String</th></tr></thead><tbody><tr><th>1</th><td>797257</td><td>weightlifting</td><td>weightlifting</td><td>Women&apos;s 58kg</td><td>female</td><td>Riocentro - Pavilion 2</td></tr><tr><th>2</th><td>512287</td><td>weightlifting</td><td>weightlifting</td><td>Women&apos;s 63kg</td><td>female</td><td>Riocentro - Pavilion 2</td></tr><tr><th>3</th><td>677718</td><td>weightlifting</td><td>weightlifting</td><td>Women&apos;s 69kg</td><td>female</td><td>Riocentro - Pavilion 2</td></tr><tr><th>4</th><td>417256</td><td>weightlifting</td><td>weightlifting</td><td>Women&apos;s 75kg</td><td>female</td><td>Riocentro - Pavilion 2</td></tr><tr><th>5</th><td>212799</td><td>weightlifting</td><td>weightlifting</td><td>Men&apos;s +105kg</td><td>male</td><td>Riocentro - Pavilion 2</td></tr><tr><th>6</th><td>902263</td><td>weightlifting</td><td>weightlifting</td><td>Men&apos;s 105kg</td><td>male</td><td>Riocentro - Pavilion 2</td></tr><tr><th>7</th><td>182568</td><td>weightlifting</td><td>weightlifting</td><td>Men&apos;s 56kg</td><td>male</td><td>Riocentro - Pavilion 2</td></tr><tr><th>8</th><td>273149</td><td>weightlifting</td><td>weightlifting</td><td>Men&apos;s 62kg</td><td>male</td><td>Riocentro - Pavilion 2</td></tr><tr><th>9</th><td>883392</td><td>weightlifting</td><td>weightlifting</td><td>Men&apos;s 69kg</td><td>male</td><td>Riocentro - Pavilion 2</td></tr><tr><th>10</th><td>82845</td><td>weightlifting</td><td>weightlifting</td><td>Men&apos;s 77kg</td><td>male</td><td>Riocentro - Pavilion 2</td></tr><tr><th>11</th><td>415046</td><td>weightlifting</td><td>weightlifting</td><td>Men&apos;s 85kg</td><td>male</td><td>Riocentro - Pavilion 2</td></tr><tr><th>12</th><td>747577</td><td>weightlifting</td><td>weightlifting</td><td>Men&apos;s 94kg</td><td>male</td><td>Riocentro - Pavilion 2</td></tr><tr><th>13</th><td>400419</td><td>wrestling</td><td>freestyle</td><td>Women&apos;s Freestyle 48 kg</td><td>female</td><td>Carioca Arena 2</td></tr><tr><th>14</th><td>212163</td><td>wrestling</td><td>freestyle</td><td>Women&apos;s Freestyle 53 kg</td><td>female</td><td>Carioca Arena 2</td></tr><tr><th>15</th><td>504233</td><td>wrestling</td><td>freestyle</td><td>Women&apos;s Freestyle 58 kg</td><td>female</td><td>Carioca Arena 2</td></tr><tr><th>16</th><td>848007</td><td>wrestling</td><td>freestyle</td><td>Women&apos;s Freestyle 63 kg</td><td>female</td><td>Carioca Arena 2</td></tr><tr><th>17</th><td>418998</td><td>wrestling</td><td>freestyle</td><td>Women&apos;s Freestyle 69 kg</td><td>female</td><td>Carioca Arena 2</td></tr><tr><th>18</th><td>588362</td><td>wrestling</td><td>freestyle</td><td>Women&apos;s Freestyle 75 kg</td><td>female</td><td>Carioca Arena 2</td></tr><tr><th>19</th><td>808414</td><td>wrestling</td><td>freestyle</td><td>Men&apos;s Freestyle 125 kg</td><td>male</td><td>Carioca Arena 2</td></tr><tr><th>20</th><td>834744</td><td>wrestling</td><td>freestyle</td><td>Men&apos;s Freestyle 57 kg</td><td>male</td><td>Carioca Arena 2</td></tr><tr><th>21</th><td>633484</td><td>wrestling</td><td>freestyle</td><td>Men&apos;s Freestyle 65 kg</td><td>male</td><td>Carioca Arena 2</td></tr><tr><th>22</th><td>525167</td><td>wrestling</td><td>freestyle</td><td>Men&apos;s Freestyle 74 kg</td><td>male</td><td>Carioca Arena 2</td></tr><tr><th>23</th><td>524420</td><td>wrestling</td><td>freestyle</td><td>Men&apos;s Freestyle 86 kg</td><td>male</td><td>Carioca Arena 2</td></tr><tr><th>24</th><td>716856</td><td>wrestling</td><td>freestyle</td><td>Men&apos;s Freestyle 97 kg</td><td>male</td><td>Carioca Arena 2</td></tr><tr><th>25</th><td>128413</td><td>wrestling</td><td>greco roman</td><td>Men&apos;s Greco-Roman 130 kg</td><td>male</td><td>Carioca Arena 2</td></tr><tr><th>26</th><td>755045</td><td>wrestling</td><td>greco roman</td><td>Men&apos;s Greco-Roman 59 kg</td><td>male</td><td>Carioca Arena 2</td></tr><tr><th>27</th><td>331407</td><td>wrestling</td><td>greco roman</td><td>Men&apos;s Greco-Roman 66 kg</td><td>male</td><td>Carioca Arena 2</td></tr><tr><th>28</th><td>169856</td><td>wrestling</td><td>greco roman</td><td>Men&apos;s Greco-Roman 75 kg</td><td>male</td><td>Carioca Arena 2</td></tr><tr><th>29</th><td>858736</td><td>wrestling</td><td>greco roman</td><td>Men&apos;s Greco-Roman 85 kg</td><td>male</td><td>Carioca Arena 2</td></tr><tr><th>30</th><td>767420</td><td>wrestling</td><td>greco roman</td><td>Men&apos;s Greco-Roman 98 kg</td><td>male</td><td>Carioca Arena 2</td></tr></tbody></table></div>"
      ],
      "text/latex": [
       "\\begin{tabular}{r|cccccc}\n",
       "\t& id & sport & discipline & name & sex & venues\\\\\n",
       "\t\\hline\n",
       "\t& Int64 & String & String & String & String & String\\\\\n",
       "\t\\hline\n",
       "\t1 & 797257 & weightlifting & weightlifting & Women's 58kg & female & Riocentro - Pavilion 2 \\\\\n",
       "\t2 & 512287 & weightlifting & weightlifting & Women's 63kg & female & Riocentro - Pavilion 2 \\\\\n",
       "\t3 & 677718 & weightlifting & weightlifting & Women's 69kg & female & Riocentro - Pavilion 2 \\\\\n",
       "\t4 & 417256 & weightlifting & weightlifting & Women's 75kg & female & Riocentro - Pavilion 2 \\\\\n",
       "\t5 & 212799 & weightlifting & weightlifting & Men's +105kg & male & Riocentro - Pavilion 2 \\\\\n",
       "\t6 & 902263 & weightlifting & weightlifting & Men's 105kg & male & Riocentro - Pavilion 2 \\\\\n",
       "\t7 & 182568 & weightlifting & weightlifting & Men's 56kg & male & Riocentro - Pavilion 2 \\\\\n",
       "\t8 & 273149 & weightlifting & weightlifting & Men's 62kg & male & Riocentro - Pavilion 2 \\\\\n",
       "\t9 & 883392 & weightlifting & weightlifting & Men's 69kg & male & Riocentro - Pavilion 2 \\\\\n",
       "\t10 & 82845 & weightlifting & weightlifting & Men's 77kg & male & Riocentro - Pavilion 2 \\\\\n",
       "\t11 & 415046 & weightlifting & weightlifting & Men's 85kg & male & Riocentro - Pavilion 2 \\\\\n",
       "\t12 & 747577 & weightlifting & weightlifting & Men's 94kg & male & Riocentro - Pavilion 2 \\\\\n",
       "\t13 & 400419 & wrestling & freestyle & Women's Freestyle 48 kg & female & Carioca Arena 2 \\\\\n",
       "\t14 & 212163 & wrestling & freestyle & Women's Freestyle 53 kg & female & Carioca Arena 2 \\\\\n",
       "\t15 & 504233 & wrestling & freestyle & Women's Freestyle 58 kg & female & Carioca Arena 2 \\\\\n",
       "\t16 & 848007 & wrestling & freestyle & Women's Freestyle 63 kg & female & Carioca Arena 2 \\\\\n",
       "\t17 & 418998 & wrestling & freestyle & Women's Freestyle 69 kg & female & Carioca Arena 2 \\\\\n",
       "\t18 & 588362 & wrestling & freestyle & Women's Freestyle 75 kg & female & Carioca Arena 2 \\\\\n",
       "\t19 & 808414 & wrestling & freestyle & Men's Freestyle 125 kg & male & Carioca Arena 2 \\\\\n",
       "\t20 & 834744 & wrestling & freestyle & Men's Freestyle 57 kg & male & Carioca Arena 2 \\\\\n",
       "\t21 & 633484 & wrestling & freestyle & Men's Freestyle 65 kg & male & Carioca Arena 2 \\\\\n",
       "\t22 & 525167 & wrestling & freestyle & Men's Freestyle 74 kg & male & Carioca Arena 2 \\\\\n",
       "\t23 & 524420 & wrestling & freestyle & Men's Freestyle 86 kg & male & Carioca Arena 2 \\\\\n",
       "\t24 & 716856 & wrestling & freestyle & Men's Freestyle 97 kg & male & Carioca Arena 2 \\\\\n",
       "\t25 & 128413 & wrestling & greco roman & Men's Greco-Roman 130 kg & male & Carioca Arena 2 \\\\\n",
       "\t26 & 755045 & wrestling & greco roman & Men's Greco-Roman 59 kg & male & Carioca Arena 2 \\\\\n",
       "\t27 & 331407 & wrestling & greco roman & Men's Greco-Roman 66 kg & male & Carioca Arena 2 \\\\\n",
       "\t28 & 169856 & wrestling & greco roman & Men's Greco-Roman 75 kg & male & Carioca Arena 2 \\\\\n",
       "\t29 & 858736 & wrestling & greco roman & Men's Greco-Roman 85 kg & male & Carioca Arena 2 \\\\\n",
       "\t30 & 767420 & wrestling & greco roman & Men's Greco-Roman 98 kg & male & Carioca Arena 2 \\\\\n",
       "\\end{tabular}\n"
      ],
      "text/plain": [
       "\u001b[1m30×6 DataFrame\u001b[0m\n",
       "\u001b[1m Row \u001b[0m│\u001b[1m id     \u001b[0m\u001b[1m sport         \u001b[0m\u001b[1m discipline    \u001b[0m\u001b[1m name                     \u001b[0m\u001b[1m sex    \u001b[0m\u001b[1m\u001b[0m ⋯\n",
       "\u001b[1m     \u001b[0m│\u001b[90m Int64  \u001b[0m\u001b[90m String        \u001b[0m\u001b[90m String        \u001b[0m\u001b[90m String                   \u001b[0m\u001b[90m String \u001b[0m\u001b[90m\u001b[0m ⋯\n",
       "─────┼──────────────────────────────────────────────────────────────────────────\n",
       "   1 │ 797257  weightlifting  weightlifting  Women's 58kg              female  ⋯\n",
       "   2 │ 512287  weightlifting  weightlifting  Women's 63kg              female\n",
       "   3 │ 677718  weightlifting  weightlifting  Women's 69kg              female\n",
       "   4 │ 417256  weightlifting  weightlifting  Women's 75kg              female\n",
       "   5 │ 212799  weightlifting  weightlifting  Men's +105kg              male    ⋯\n",
       "   6 │ 902263  weightlifting  weightlifting  Men's 105kg               male\n",
       "   7 │ 182568  weightlifting  weightlifting  Men's 56kg                male\n",
       "   8 │ 273149  weightlifting  weightlifting  Men's 62kg                male\n",
       "   9 │ 883392  weightlifting  weightlifting  Men's 69kg                male    ⋯\n",
       "  10 │  82845  weightlifting  weightlifting  Men's 77kg                male\n",
       "  11 │ 415046  weightlifting  weightlifting  Men's 85kg                male\n",
       "  ⋮  │   ⋮           ⋮              ⋮                   ⋮                ⋮     ⋱\n",
       "  21 │ 633484  wrestling      freestyle      Men's Freestyle 65 kg     male\n",
       "  22 │ 525167  wrestling      freestyle      Men's Freestyle 74 kg     male    ⋯\n",
       "  23 │ 524420  wrestling      freestyle      Men's Freestyle 86 kg     male\n",
       "  24 │ 716856  wrestling      freestyle      Men's Freestyle 97 kg     male\n",
       "  25 │ 128413  wrestling      greco roman    Men's Greco-Roman 130 kg  male\n",
       "  26 │ 755045  wrestling      greco roman    Men's Greco-Roman 59 kg   male    ⋯\n",
       "  27 │ 331407  wrestling      greco roman    Men's Greco-Roman 66 kg   male\n",
       "  28 │ 169856  wrestling      greco roman    Men's Greco-Roman 75 kg   male\n",
       "  29 │ 858736  wrestling      greco roman    Men's Greco-Roman 85 kg   male\n",
       "  30 │ 767420  wrestling      greco roman    Men's Greco-Roman 98 kg   male    ⋯\n",
       "\u001b[36m                                                     1 column and 9 rows omitted\u001b[0m"
      ]
     },
     "execution_count": 36,
     "metadata": {},
     "output_type": "execute_result"
    }
   ],
   "source": [
    "last(eventos,30)"
   ]
  },
  {
   "cell_type": "code",
   "execution_count": 60,
   "id": "99185607",
   "metadata": {},
   "outputs": [
    {
     "data": {
      "text/html": [
       "<p><b>GroupedDataFrame with 3 groups based on key: sex</b></p><p><i>First Group (136 rows): sex = &quot;female&quot;</i></p><div class=\"data-frame\"><table class=\"data-frame\"><thead><tr><th></th><th>id</th><th>sport</th><th>discipline</th><th>name</th><th>sex</th></tr><tr><th></th><th title=\"Int64\">Int64</th><th title=\"String\">String</th><th title=\"String\">String</th><th title=\"String\">String</th><th title=\"String\">String</th></tr></thead><tbody><tr><th>1</th><td>701492</td><td>aquatics</td><td>backstroke</td><td>Women&apos;s 100m Backstroke</td><td>female</td></tr><tr><th>2</th><td>305278</td><td>aquatics</td><td>backstroke</td><td>Women&apos;s 200m Backstroke</td><td>female</td></tr><tr><th>3</th><td>567019</td><td>aquatics</td><td>breaststroke</td><td>Women&apos;s 100m Breaststroke</td><td>female</td></tr><tr><th>4</th><td>607924</td><td>aquatics</td><td>breaststroke</td><td>Women&apos;s 200m Breaststroke</td><td>female</td></tr><tr><th>5</th><td>795006</td><td>aquatics</td><td>butterfly</td><td>Women&apos;s 100m Butterfly</td><td>female</td></tr><tr><th>6</th><td>93436</td><td>aquatics</td><td>butterfly</td><td>Women&apos;s 200m Butterfly</td><td>female</td></tr><tr><th>7</th><td>772359</td><td>aquatics</td><td>diving</td><td>Women&apos;s 10m Platform</td><td>female</td></tr><tr><th>8</th><td>228171</td><td>aquatics</td><td>diving</td><td>Women&apos;s 3m Springboard</td><td>female</td></tr><tr><th>9</th><td>305987</td><td>aquatics</td><td>diving</td><td>Women&apos;s Synchronised 10m Platform</td><td>female</td></tr><tr><th>10</th><td>745896</td><td>aquatics</td><td>diving</td><td>Women&apos;s Synchronised 3m Springboard</td><td>female</td></tr><tr><th>11</th><td>760140</td><td>aquatics</td><td>freestyle</td><td>Women&apos;s 100m Freestyle</td><td>female</td></tr><tr><th>12</th><td>872869</td><td>aquatics</td><td>freestyle</td><td>Women&apos;s 200m Freestyle</td><td>female</td></tr><tr><th>13</th><td>789774</td><td>aquatics</td><td>freestyle</td><td>Women&apos;s 4 x 100m Freestyle Relay</td><td>female</td></tr><tr><th>14</th><td>391049</td><td>aquatics</td><td>freestyle</td><td>Women&apos;s 4 x 200m Freestyle Relay</td><td>female</td></tr><tr><th>15</th><td>568906</td><td>aquatics</td><td>freestyle</td><td>Women&apos;s 400m Freestyle</td><td>female</td></tr><tr><th>16</th><td>229032</td><td>aquatics</td><td>freestyle</td><td>Women&apos;s 50m Freestyle</td><td>female</td></tr><tr><th>17</th><td>121264</td><td>aquatics</td><td>freestyle</td><td>Women&apos;s 800m Freestyle</td><td>female</td></tr><tr><th>18</th><td>327702</td><td>aquatics</td><td>marathon swimming</td><td>Women&apos;s 10km</td><td>female</td></tr><tr><th>19</th><td>484043</td><td>aquatics</td><td>medley</td><td>Women&apos;s 200m Individual Medley</td><td>female</td></tr><tr><th>20</th><td>370610</td><td>aquatics</td><td>medley</td><td>Women&apos;s 4 x 100m Medley Relay</td><td>female</td></tr><tr><th>21</th><td>339538</td><td>aquatics</td><td>medley</td><td>Women&apos;s 400m Individual Medley</td><td>female</td></tr><tr><th>22</th><td>492931</td><td>aquatics</td><td>synchronised swimming</td><td>Duets</td><td>female</td></tr><tr><th>23</th><td>746451</td><td>aquatics</td><td>synchronised swimming</td><td>Teams</td><td>female</td></tr><tr><th>24</th><td>183313</td><td>aquatics</td><td>water polo</td><td>Women</td><td>female</td></tr><tr><th>25</th><td>177885</td><td>archery</td><td>archery</td><td>Women&apos;s Individual</td><td>female</td></tr><tr><th>26</th><td>590313</td><td>archery</td><td>archery</td><td>Women&apos;s Team</td><td>female</td></tr><tr><th>27</th><td>272651</td><td>athletics</td><td>combined</td><td>Women&apos;s Heptathlon</td><td>female</td></tr><tr><th>28</th><td>628221</td><td>athletics</td><td>jumps</td><td>Women&apos;s High Jump</td><td>female</td></tr><tr><th>29</th><td>757567</td><td>athletics</td><td>jumps</td><td>Women&apos;s Long Jump</td><td>female</td></tr><tr><th>30</th><td>647207</td><td>athletics</td><td>jumps</td><td>Women&apos;s Pole Vault</td><td>female</td></tr><tr><th>&vellip;</th><td>&vellip;</td><td>&vellip;</td><td>&vellip;</td><td>&vellip;</td><td>&vellip;</td></tr></tbody></table></div><p>&vellip;</p><p><i>Last Group (9 rows): sex = &quot;mixed&quot;</i></p><div class=\"data-frame\"><table class=\"data-frame\"><thead><tr><th></th><th>id</th><th>sport</th><th>discipline</th><th>name</th><th>sex</th><th>venues</th></tr><tr><th></th><th title=\"Int64\">Int64</th><th title=\"String\">String</th><th title=\"String\">String</th><th title=\"String\">String</th><th title=\"String\">String</th><th title=\"String\">String</th></tr></thead><tbody><tr><th>1</th><td>206559</td><td>badminton</td><td>badminton</td><td>Mixed Doubles</td><td>mixed</td><td>Riocentro - Pavilion 4</td></tr><tr><th>2</th><td>195034</td><td>equestrian</td><td>dressage</td><td>Dressage Individual</td><td>mixed</td><td>Olympic Equestrian Centre</td></tr><tr><th>3</th><td>278761</td><td>equestrian</td><td>dressage</td><td>Dressage Team</td><td>mixed</td><td>Olympic Equestrian Centre</td></tr><tr><th>4</th><td>462390</td><td>equestrian</td><td>eventing</td><td>Eventing Individual</td><td>mixed</td><td>Olympic Equestrian Centre</td></tr><tr><th>5</th><td>692313</td><td>equestrian</td><td>eventing</td><td>Eventing Team</td><td>mixed</td><td>Olympic Equestrian Centre</td></tr><tr><th>6</th><td>770871</td><td>equestrian</td><td>jumping</td><td>Jumping Individual</td><td>mixed</td><td>Olympic Equestrian Centre</td></tr><tr><th>7</th><td>371159</td><td>equestrian</td><td>jumping</td><td>Jumping Team</td><td>mixed</td><td>Olympic Equestrian Centre</td></tr><tr><th>8</th><td>406751</td><td>sailing</td><td>sailing</td><td>Nacra 17 Mixed</td><td>mixed</td><td>Marina da Glória</td></tr><tr><th>9</th><td>376905</td><td>tennis</td><td>tennis</td><td>Mixed Doubles</td><td>mixed</td><td>Olympic Tennis Centre</td></tr></tbody></table></div>"
      ],
      "text/latex": [
       "GroupedDataFrame with 3 groups based on key: sex\n",
       "\n",
       "First Group (136 rows): sex = \"female\"\n",
       "\n",
       "\\begin{tabular}{r|cccccc}\n",
       "\t& id & sport & discipline & name & sex & \\\\\n",
       "\t\\hline\n",
       "\t& Int64 & String & String & String & String & \\\\\n",
       "\t\\hline\n",
       "\t1 & 701492 & aquatics & backstroke & Women's 100m Backstroke & female & $\\dots$ \\\\\n",
       "\t2 & 305278 & aquatics & backstroke & Women's 200m Backstroke & female & $\\dots$ \\\\\n",
       "\t3 & 567019 & aquatics & breaststroke & Women's 100m Breaststroke & female & $\\dots$ \\\\\n",
       "\t4 & 607924 & aquatics & breaststroke & Women's 200m Breaststroke & female & $\\dots$ \\\\\n",
       "\t5 & 795006 & aquatics & butterfly & Women's 100m Butterfly & female & $\\dots$ \\\\\n",
       "\t6 & 93436 & aquatics & butterfly & Women's 200m Butterfly & female & $\\dots$ \\\\\n",
       "\t7 & 772359 & aquatics & diving & Women's 10m Platform & female & $\\dots$ \\\\\n",
       "\t8 & 228171 & aquatics & diving & Women's 3m Springboard & female & $\\dots$ \\\\\n",
       "\t9 & 305987 & aquatics & diving & Women's Synchronised 10m Platform & female & $\\dots$ \\\\\n",
       "\t10 & 745896 & aquatics & diving & Women's Synchronised 3m Springboard & female & $\\dots$ \\\\\n",
       "\t11 & 760140 & aquatics & freestyle & Women's 100m Freestyle & female & $\\dots$ \\\\\n",
       "\t12 & 872869 & aquatics & freestyle & Women's 200m Freestyle & female & $\\dots$ \\\\\n",
       "\t13 & 789774 & aquatics & freestyle & Women's 4 x 100m Freestyle Relay & female & $\\dots$ \\\\\n",
       "\t14 & 391049 & aquatics & freestyle & Women's 4 x 200m Freestyle Relay & female & $\\dots$ \\\\\n",
       "\t15 & 568906 & aquatics & freestyle & Women's 400m Freestyle & female & $\\dots$ \\\\\n",
       "\t16 & 229032 & aquatics & freestyle & Women's 50m Freestyle & female & $\\dots$ \\\\\n",
       "\t17 & 121264 & aquatics & freestyle & Women's 800m Freestyle & female & $\\dots$ \\\\\n",
       "\t18 & 327702 & aquatics & marathon swimming & Women's 10km & female & $\\dots$ \\\\\n",
       "\t19 & 484043 & aquatics & medley & Women's 200m Individual Medley & female & $\\dots$ \\\\\n",
       "\t20 & 370610 & aquatics & medley & Women's 4 x 100m Medley Relay & female & $\\dots$ \\\\\n",
       "\t21 & 339538 & aquatics & medley & Women's 400m Individual Medley & female & $\\dots$ \\\\\n",
       "\t22 & 492931 & aquatics & synchronised swimming & Duets & female & $\\dots$ \\\\\n",
       "\t23 & 746451 & aquatics & synchronised swimming & Teams & female & $\\dots$ \\\\\n",
       "\t24 & 183313 & aquatics & water polo & Women & female & $\\dots$ \\\\\n",
       "\t25 & 177885 & archery & archery & Women's Individual & female & $\\dots$ \\\\\n",
       "\t26 & 590313 & archery & archery & Women's Team & female & $\\dots$ \\\\\n",
       "\t27 & 272651 & athletics & combined & Women's Heptathlon & female & $\\dots$ \\\\\n",
       "\t28 & 628221 & athletics & jumps & Women's High Jump & female & $\\dots$ \\\\\n",
       "\t29 & 757567 & athletics & jumps & Women's Long Jump & female & $\\dots$ \\\\\n",
       "\t30 & 647207 & athletics & jumps & Women's Pole Vault & female & $\\dots$ \\\\\n",
       "\t$\\dots$ & $\\dots$ & $\\dots$ & $\\dots$ & $\\dots$ & $\\dots$ &  \\\\\n",
       "\\end{tabular}\n",
       "\n",
       "$\\dots$\n",
       "\n",
       "Last Group (9 rows): sex = \"mixed\"\n",
       "\n",
       "\\begin{tabular}{r|cccccc}\n",
       "\t& id & sport & discipline & name & sex & venues\\\\\n",
       "\t\\hline\n",
       "\t& Int64 & String & String & String & String & String\\\\\n",
       "\t\\hline\n",
       "\t1 & 206559 & badminton & badminton & Mixed Doubles & mixed & Riocentro - Pavilion 4 \\\\\n",
       "\t2 & 195034 & equestrian & dressage & Dressage Individual & mixed & Olympic Equestrian Centre \\\\\n",
       "\t3 & 278761 & equestrian & dressage & Dressage Team & mixed & Olympic Equestrian Centre \\\\\n",
       "\t4 & 462390 & equestrian & eventing & Eventing Individual & mixed & Olympic Equestrian Centre \\\\\n",
       "\t5 & 692313 & equestrian & eventing & Eventing Team & mixed & Olympic Equestrian Centre \\\\\n",
       "\t6 & 770871 & equestrian & jumping & Jumping Individual & mixed & Olympic Equestrian Centre \\\\\n",
       "\t7 & 371159 & equestrian & jumping & Jumping Team & mixed & Olympic Equestrian Centre \\\\\n",
       "\t8 & 406751 & sailing & sailing & Nacra 17 Mixed & mixed & Marina da Glória \\\\\n",
       "\t9 & 376905 & tennis & tennis & Mixed Doubles & mixed & Olympic Tennis Centre \\\\\n",
       "\\end{tabular}\n"
      ],
      "text/plain": [
       "GroupedDataFrame with 3 groups based on key: sex\n",
       "First Group (136 rows): sex = \"female\"\n",
       "\u001b[1m Row \u001b[0m│\u001b[1m id     \u001b[0m\u001b[1m sport         \u001b[0m\u001b[1m discipline    \u001b[0m\u001b[1m name                             \u001b[0m ⋯\n",
       "\u001b[1m     \u001b[0m│\u001b[90m Int64  \u001b[0m\u001b[90m String        \u001b[0m\u001b[90m String        \u001b[0m\u001b[90m String                           \u001b[0m ⋯\n",
       "─────┼──────────────────────────────────────────────────────────────────────────\n",
       "   1 │ 701492  aquatics       backstroke     Women's 100m Backstroke           ⋯\n",
       "   2 │ 305278  aquatics       backstroke     Women's 200m Backstroke\n",
       "   3 │ 567019  aquatics       breaststroke   Women's 100m Breaststroke\n",
       "   4 │ 607924  aquatics       breaststroke   Women's 200m Breaststroke\n",
       "   5 │ 795006  aquatics       butterfly      Women's 100m Butterfly            ⋯\n",
       "   6 │  93436  aquatics       butterfly      Women's 200m Butterfly\n",
       "   7 │ 772359  aquatics       diving         Women's 10m Platform\n",
       "   8 │ 228171  aquatics       diving         Women's 3m Springboard\n",
       "   9 │ 305987  aquatics       diving         Women's Synchronised 10m Platform ⋯\n",
       "  10 │ 745896  aquatics       diving         Women's Synchronised 3m Springbo…\n",
       "  11 │ 760140  aquatics       freestyle      Women's 100m Freestyle\n",
       "  ⋮  │   ⋮           ⋮              ⋮                        ⋮                 ⋱\n",
       " 126 │  54259  weightlifting  weightlifting  Women's 53kg\n",
       " 127 │ 797257  weightlifting  weightlifting  Women's 58kg                      ⋯\n",
       " 128 │ 512287  weightlifting  weightlifting  Women's 63kg\n",
       " 129 │ 677718  weightlifting  weightlifting  Women's 69kg\n",
       " 130 │ 417256  weightlifting  weightlifting  Women's 75kg\n",
       " 131 │ 400419  wrestling      freestyle      Women's Freestyle 48 kg           ⋯\n",
       " 132 │ 212163  wrestling      freestyle      Women's Freestyle 53 kg\n",
       " 133 │ 504233  wrestling      freestyle      Women's Freestyle 58 kg\n",
       " 134 │ 848007  wrestling      freestyle      Women's Freestyle 63 kg\n",
       " 135 │ 418998  wrestling      freestyle      Women's Freestyle 69 kg           ⋯\n",
       " 136 │ 588362  wrestling      freestyle      Women's Freestyle 75 kg\n",
       "\u001b[36m                                                  2 columns and 114 rows omitted\u001b[0m\n",
       "⋮\n",
       "Last Group (9 rows): sex = \"mixed\"\n",
       "\u001b[1m Row \u001b[0m│\u001b[1m id     \u001b[0m\u001b[1m sport      \u001b[0m\u001b[1m discipline \u001b[0m\u001b[1m name                \u001b[0m\u001b[1m sex    \u001b[0m\u001b[1m venues    \u001b[0m ⋯\n",
       "\u001b[1m     \u001b[0m│\u001b[90m Int64  \u001b[0m\u001b[90m String     \u001b[0m\u001b[90m String     \u001b[0m\u001b[90m String              \u001b[0m\u001b[90m String \u001b[0m\u001b[90m String    \u001b[0m ⋯\n",
       "─────┼──────────────────────────────────────────────────────────────────────────\n",
       "   1 │ 206559  badminton   badminton   Mixed Doubles        mixed   Riocentro  ⋯\n",
       "   2 │ 195034  equestrian  dressage    Dressage Individual  mixed   Olympic Eq\n",
       "   3 │ 278761  equestrian  dressage    Dressage Team        mixed   Olympic Eq\n",
       "   4 │ 462390  equestrian  eventing    Eventing Individual  mixed   Olympic Eq\n",
       "   5 │ 692313  equestrian  eventing    Eventing Team        mixed   Olympic Eq ⋯\n",
       "   6 │ 770871  equestrian  jumping     Jumping Individual   mixed   Olympic Eq\n",
       "   7 │ 371159  equestrian  jumping     Jumping Team         mixed   Olympic Eq\n",
       "   8 │ 406751  sailing     sailing     Nacra 17 Mixed       mixed   Marina da\n",
       "   9 │ 376905  tennis      tennis      Mixed Doubles        mixed   Olympic Te ⋯\n",
       "\u001b[36m                                                                1 column omitted\u001b[0m"
      ]
     },
     "execution_count": 60,
     "metadata": {},
     "output_type": "execute_result"
    }
   ],
   "source": [
    "groupby(eventos, :sex)"
   ]
  },
  {
   "cell_type": "code",
   "execution_count": 38,
   "id": "84211e62",
   "metadata": {},
   "outputs": [
    {
     "data": {
      "text/html": [
       "<div class=\"data-frame\"><p>10 rows × 2 columns</p><table class=\"data-frame\"><thead><tr><th></th><th>sport</th><th>discipline</th></tr><tr><th></th><th title=\"String\">String</th><th title=\"String\">String</th></tr></thead><tbody><tr><th>1</th><td>aquatics</td><td>backstroke</td></tr><tr><th>2</th><td>aquatics</td><td>backstroke</td></tr><tr><th>3</th><td>aquatics</td><td>backstroke</td></tr><tr><th>4</th><td>aquatics</td><td>backstroke</td></tr><tr><th>5</th><td>aquatics</td><td>breaststroke</td></tr><tr><th>6</th><td>aquatics</td><td>breaststroke</td></tr><tr><th>7</th><td>aquatics</td><td>breaststroke</td></tr><tr><th>8</th><td>aquatics</td><td>breaststroke</td></tr><tr><th>9</th><td>aquatics</td><td>butterfly</td></tr><tr><th>10</th><td>aquatics</td><td>butterfly</td></tr></tbody></table></div>"
      ],
      "text/latex": [
       "\\begin{tabular}{r|cc}\n",
       "\t& sport & discipline\\\\\n",
       "\t\\hline\n",
       "\t& String & String\\\\\n",
       "\t\\hline\n",
       "\t1 & aquatics & backstroke \\\\\n",
       "\t2 & aquatics & backstroke \\\\\n",
       "\t3 & aquatics & backstroke \\\\\n",
       "\t4 & aquatics & backstroke \\\\\n",
       "\t5 & aquatics & breaststroke \\\\\n",
       "\t6 & aquatics & breaststroke \\\\\n",
       "\t7 & aquatics & breaststroke \\\\\n",
       "\t8 & aquatics & breaststroke \\\\\n",
       "\t9 & aquatics & butterfly \\\\\n",
       "\t10 & aquatics & butterfly \\\\\n",
       "\\end{tabular}\n"
      ],
      "text/plain": [
       "\u001b[1m10×2 DataFrame\u001b[0m\n",
       "\u001b[1m Row \u001b[0m│\u001b[1m sport    \u001b[0m\u001b[1m discipline   \u001b[0m\n",
       "\u001b[1m     \u001b[0m│\u001b[90m String   \u001b[0m\u001b[90m String       \u001b[0m\n",
       "─────┼────────────────────────\n",
       "   1 │ aquatics  backstroke\n",
       "   2 │ aquatics  backstroke\n",
       "   3 │ aquatics  backstroke\n",
       "   4 │ aquatics  backstroke\n",
       "   5 │ aquatics  breaststroke\n",
       "   6 │ aquatics  breaststroke\n",
       "   7 │ aquatics  breaststroke\n",
       "   8 │ aquatics  breaststroke\n",
       "   9 │ aquatics  butterfly\n",
       "  10 │ aquatics  butterfly"
      ]
     },
     "execution_count": 38,
     "metadata": {},
     "output_type": "execute_result"
    }
   ],
   "source": [
    "eventos[1:10, [:sport, :discipline]]"
   ]
  },
  {
   "cell_type": "code",
   "execution_count": 15,
   "id": "a8bf27e8",
   "metadata": {},
   "outputs": [
    {
     "data": {
      "text/plain": [
       "6-element Vector{String}:\n",
       " \"id\"\n",
       " \"sport\"\n",
       " \"discipline\"\n",
       " \"name\"\n",
       " \"sex\"\n",
       " \"venues\""
      ]
     },
     "execution_count": 15,
     "metadata": {},
     "output_type": "execute_result"
    }
   ],
   "source": [
    "names(eventos)"
   ]
  },
  {
   "cell_type": "code",
   "execution_count": 28,
   "id": "0744b82c",
   "metadata": {
    "scrolled": false
   },
   "outputs": [
    {
     "data": {
      "text/plain": [
       "306-element PooledArrays.PooledVector{String, UInt32, Vector{UInt32}}:\n",
       " \"aquatics\"\n",
       " \"aquatics\"\n",
       " \"aquatics\"\n",
       " \"aquatics\"\n",
       " \"aquatics\"\n",
       " \"aquatics\"\n",
       " \"aquatics\"\n",
       " \"aquatics\"\n",
       " \"aquatics\"\n",
       " \"aquatics\"\n",
       " \"aquatics\"\n",
       " \"aquatics\"\n",
       " \"aquatics\"\n",
       " ⋮\n",
       " \"wrestling\"\n",
       " \"wrestling\"\n",
       " \"wrestling\"\n",
       " \"wrestling\"\n",
       " \"wrestling\"\n",
       " \"wrestling\"\n",
       " \"wrestling\"\n",
       " \"wrestling\"\n",
       " \"wrestling\"\n",
       " \"wrestling\"\n",
       " \"wrestling\"\n",
       " \"wrestling\""
      ]
     },
     "execution_count": 28,
     "metadata": {},
     "output_type": "execute_result"
    }
   ],
   "source": [
    "eventos.sport"
   ]
  },
  {
   "cell_type": "code",
   "execution_count": 43,
   "id": "f152fbba",
   "metadata": {},
   "outputs": [
    {
     "data": {
      "text/plain": [
       "28-element Vector{String}:\n",
       " \"aquatics\"\n",
       " \"archery\"\n",
       " \"athletics\"\n",
       " \"badminton\"\n",
       " \"basketball\"\n",
       " \"boxing\"\n",
       " \"canoe\"\n",
       " \"cycling\"\n",
       " \"equestrian\"\n",
       " \"fencing\"\n",
       " \"football\"\n",
       " \"golf\"\n",
       " \"gymnastics\"\n",
       " ⋮\n",
       " \"modern pentathlon\"\n",
       " \"rowing\"\n",
       " \"rugby sevens\"\n",
       " \"sailing\"\n",
       " \"shooting\"\n",
       " \"table tennis\"\n",
       " \"taekwondo\"\n",
       " \"tennis\"\n",
       " \"triathlon\"\n",
       " \"volleyball\"\n",
       " \"weightlifting\"\n",
       " \"wrestling\""
      ]
     },
     "execution_count": 43,
     "metadata": {},
     "output_type": "execute_result"
    }
   ],
   "source": [
    "unique(eventos.sport)"
   ]
  },
  {
   "cell_type": "code",
   "execution_count": 55,
   "id": "5847263b",
   "metadata": {},
   "outputs": [
    {
     "data": {
      "text/plain": [
       "50-element Vector{String}:\n",
       " \"backstroke\"\n",
       " \"breaststroke\"\n",
       " \"butterfly\"\n",
       " \"diving\"\n",
       " \"freestyle\"\n",
       " \"marathon swimming\"\n",
       " \"medley\"\n",
       " \"synchronised swimming\"\n",
       " \"water polo\"\n",
       " \"archery\"\n",
       " \"combined\"\n",
       " \"jumps\"\n",
       " \"road\"\n",
       " ⋮\n",
       " \"rowing\"\n",
       " \"rugby sevens\"\n",
       " \"sailing\"\n",
       " \"shooting\"\n",
       " \"table tennis\"\n",
       " \"taekwondo\"\n",
       " \"tennis\"\n",
       " \"triathlon\"\n",
       " \"beach volleyball\"\n",
       " \"volleyball\"\n",
       " \"weightlifting\"\n",
       " \"greco roman\""
      ]
     },
     "execution_count": 55,
     "metadata": {},
     "output_type": "execute_result"
    }
   ],
   "source": [
    "unique(eventos.discipline)"
   ]
  },
  {
   "cell_type": "markdown",
   "id": "9a86ec74",
   "metadata": {},
   "source": [
    "### Análisis de datos"
   ]
  },
  {
   "cell_type": "code",
   "execution_count": 31,
   "id": "b24fb919",
   "metadata": {},
   "outputs": [
    {
     "data": {
      "text/html": [
       "<div class=\"data-frame\"><p>6 rows × 7 columns (omitted printing of 1 columns)</p><table class=\"data-frame\"><thead><tr><th></th><th>variable</th><th>mean</th><th>min</th><th>median</th><th>max</th><th>nmissing</th></tr><tr><th></th><th title=\"Symbol\">Symbol</th><th title=\"Union{Nothing, Float64}\">Union…</th><th title=\"Any\">Any</th><th title=\"Union{Nothing, Float64}\">Union…</th><th title=\"Any\">Any</th><th title=\"Int64\">Int64</th></tr></thead><tbody><tr><th>1</th><td>id</td><td>4.95682e5</td><td>617</td><td>5.20446e5</td><td>981370</td><td>0</td></tr><tr><th>2</th><td>sport</td><td></td><td>aquatics</td><td></td><td>wrestling</td><td>0</td></tr><tr><th>3</th><td>discipline</td><td></td><td>archery</td><td></td><td>weightlifting</td><td>0</td></tr><tr><th>4</th><td>name</td><td></td><td>10m Air Pistol Men</td><td></td><td>Women&apos;s Épée Team</td><td>0</td></tr><tr><th>5</th><td>sex</td><td></td><td>female</td><td></td><td>mixed</td><td>0</td></tr><tr><th>6</th><td>venues</td><td></td><td>Beach Volleyball Arena</td><td></td><td>Whitewater Stadium</td><td>0</td></tr></tbody></table></div>"
      ],
      "text/latex": [
       "\\begin{tabular}{r|ccccccc}\n",
       "\t& variable & mean & min & median & max & nmissing & \\\\\n",
       "\t\\hline\n",
       "\t& Symbol & Union… & Any & Union… & Any & Int64 & \\\\\n",
       "\t\\hline\n",
       "\t1 & id & 4.95682e5 & 617 & 5.20446e5 & 981370 & 0 & $\\dots$ \\\\\n",
       "\t2 & sport &  & aquatics &  & wrestling & 0 & $\\dots$ \\\\\n",
       "\t3 & discipline &  & archery &  & weightlifting & 0 & $\\dots$ \\\\\n",
       "\t4 & name &  & 10m Air Pistol Men &  & Women's Épée Team & 0 & $\\dots$ \\\\\n",
       "\t5 & sex &  & female &  & mixed & 0 & $\\dots$ \\\\\n",
       "\t6 & venues &  & Beach Volleyball Arena &  & Whitewater Stadium & 0 & $\\dots$ \\\\\n",
       "\\end{tabular}\n"
      ],
      "text/plain": [
       "\u001b[1m6×7 DataFrame\u001b[0m\n",
       "\u001b[1m Row \u001b[0m│\u001b[1m variable   \u001b[0m\u001b[1m mean      \u001b[0m\u001b[1m min                    \u001b[0m\u001b[1m median    \u001b[0m\u001b[1m max          \u001b[0m ⋯\n",
       "\u001b[1m     \u001b[0m│\u001b[90m Symbol     \u001b[0m\u001b[90m Union…    \u001b[0m\u001b[90m Any                    \u001b[0m\u001b[90m Union…    \u001b[0m\u001b[90m Any          \u001b[0m ⋯\n",
       "─────┼──────────────────────────────────────────────────────────────────────────\n",
       "   1 │ id          4.95682e5  617                     5.20446e5  981370        ⋯\n",
       "   2 │ sport      \u001b[90m           \u001b[0m aquatics               \u001b[90m           \u001b[0m wrestling\n",
       "   3 │ discipline \u001b[90m           \u001b[0m archery                \u001b[90m           \u001b[0m weightlifting\n",
       "   4 │ name       \u001b[90m           \u001b[0m 10m Air Pistol Men     \u001b[90m           \u001b[0m Women's Épée\n",
       "   5 │ sex        \u001b[90m           \u001b[0m female                 \u001b[90m           \u001b[0m mixed         ⋯\n",
       "   6 │ venues     \u001b[90m           \u001b[0m Beach Volleyball Arena \u001b[90m           \u001b[0m Whitewater St\n",
       "\u001b[36m                                                               3 columns omitted\u001b[0m"
      ]
     },
     "execution_count": 31,
     "metadata": {},
     "output_type": "execute_result"
    }
   ],
   "source": [
    "describe(eventos, cols=1:6)"
   ]
  },
  {
   "cell_type": "code",
   "execution_count": 33,
   "id": "376bec73",
   "metadata": {},
   "outputs": [
    {
     "data": {
      "text/html": [
       "<div class=\"data-frame\"><p>6 rows × 2 columns</p><table class=\"data-frame\"><thead><tr><th></th><th>variable</th><th>nmissing</th></tr><tr><th></th><th title=\"Symbol\">Symbol</th><th title=\"Int64\">Int64</th></tr></thead><tbody><tr><th>1</th><td>id</td><td>0</td></tr><tr><th>2</th><td>sport</td><td>0</td></tr><tr><th>3</th><td>discipline</td><td>0</td></tr><tr><th>4</th><td>name</td><td>0</td></tr><tr><th>5</th><td>sex</td><td>0</td></tr><tr><th>6</th><td>venues</td><td>0</td></tr></tbody></table></div>"
      ],
      "text/latex": [
       "\\begin{tabular}{r|cc}\n",
       "\t& variable & nmissing\\\\\n",
       "\t\\hline\n",
       "\t& Symbol & Int64\\\\\n",
       "\t\\hline\n",
       "\t1 & id & 0 \\\\\n",
       "\t2 & sport & 0 \\\\\n",
       "\t3 & discipline & 0 \\\\\n",
       "\t4 & name & 0 \\\\\n",
       "\t5 & sex & 0 \\\\\n",
       "\t6 & venues & 0 \\\\\n",
       "\\end{tabular}\n"
      ],
      "text/plain": [
       "\u001b[1m6×2 DataFrame\u001b[0m\n",
       "\u001b[1m Row \u001b[0m│\u001b[1m variable   \u001b[0m\u001b[1m nmissing \u001b[0m\n",
       "\u001b[1m     \u001b[0m│\u001b[90m Symbol     \u001b[0m\u001b[90m Int64    \u001b[0m\n",
       "─────┼──────────────────────\n",
       "   1 │ id                 0\n",
       "   2 │ sport              0\n",
       "   3 │ discipline         0\n",
       "   4 │ name               0\n",
       "   5 │ sex                0\n",
       "   6 │ venues             0"
      ]
     },
     "execution_count": 33,
     "metadata": {},
     "output_type": "execute_result"
    }
   ],
   "source": [
    "describe(eventos, cols=1:6, :nmissing)"
   ]
  },
  {
   "cell_type": "code",
   "execution_count": 56,
   "id": "0c5d6050",
   "metadata": {
    "scrolled": true
   },
   "outputs": [
    {
     "data": {
      "text/plain": [
       "Dict{String, Int64} with 28 entries:\n",
       "  \"equestrian\"        => 6\n",
       "  \"cycling\"           => 18\n",
       "  \"football\"          => 2\n",
       "  \"gymnastics\"        => 18\n",
       "  \"handball\"          => 2\n",
       "  \"hockey\"            => 2\n",
       "  \"archery\"           => 4\n",
       "  \"fencing\"           => 10\n",
       "  \"judo\"              => 14\n",
       "  \"rugby sevens\"      => 2\n",
       "  \"shooting\"          => 15\n",
       "  \"tennis\"            => 5\n",
       "  \"modern pentathlon\" => 2\n",
       "  \"weightlifting\"     => 15\n",
       "  \"canoe\"             => 16\n",
       "  \"badminton\"         => 5\n",
       "  \"aquatics\"          => 46\n",
       "  \"athletics\"         => 47\n",
       "  \"golf\"              => 2\n",
       "  \"rowing\"            => 14\n",
       "  \"sailing\"           => 10\n",
       "  \"triathlon\"         => 2\n",
       "  \"volleyball\"        => 4\n",
       "  \"taekwondo\"         => 8\n",
       "  \"boxing\"            => 13\n",
       "  ⋮                   => ⋮"
      ]
     },
     "execution_count": 56,
     "metadata": {},
     "output_type": "execute_result"
    }
   ],
   "source": [
    "countmap(eventos.sport)"
   ]
  },
  {
   "cell_type": "code",
   "execution_count": 57,
   "id": "ee207a0d",
   "metadata": {},
   "outputs": [
    {
     "data": {
      "text/plain": [
       "Dict{String, Int64} with 3 entries:\n",
       "  \"male\"   => 161\n",
       "  \"female\" => 136\n",
       "  \"mixed\"  => 9"
      ]
     },
     "execution_count": 57,
     "metadata": {},
     "output_type": "execute_result"
    }
   ],
   "source": [
    "countmap(eventos.sex)"
   ]
  },
  {
   "cell_type": "markdown",
   "id": "64860ebd",
   "metadata": {},
   "source": [
    "### Gráficas"
   ]
  },
  {
   "cell_type": "code",
   "execution_count": 70,
   "id": "acbb17c7",
   "metadata": {},
   "outputs": [
    {
     "data": {
      "text/plain": [
       "Dict{String, Int64} with 3 entries:\n",
       "  \"male\"   => 161\n",
       "  \"female\" => 136\n",
       "  \"mixed\"  => 9"
      ]
     },
     "execution_count": 70,
     "metadata": {},
     "output_type": "execute_result"
    }
   ],
   "source": [
    "sx = countmap(eventos.sex)"
   ]
  },
  {
   "cell_type": "code",
   "execution_count": 121,
   "id": "d8a8ccd9",
   "metadata": {},
   "outputs": [
    {
     "data": {
      "image/svg+xml": [
       "<?xml version=\"1.0\" encoding=\"utf-8\"?>\n",
       "<svg xmlns=\"http://www.w3.org/2000/svg\" xmlns:xlink=\"http://www.w3.org/1999/xlink\" width=\"600\" height=\"400\" viewBox=\"0 0 2400 1600\">\n",
       "<defs>\n",
       "  <clipPath id=\"clip930\">\n",
       "    <rect x=\"0\" y=\"0\" width=\"2400\" height=\"1600\"/>\n",
       "  </clipPath>\n",
       "</defs>\n",
       "<path clip-path=\"url(#clip930)\" d=\"\n",
       "M0 1600 L2400 1600 L2400 0 L0 0  Z\n",
       "  \" fill=\"#ffffff\" fill-rule=\"evenodd\" fill-opacity=\"1\"/>\n",
       "<defs>\n",
       "  <clipPath id=\"clip931\">\n",
       "    <rect x=\"480\" y=\"0\" width=\"1681\" height=\"1600\"/>\n",
       "  </clipPath>\n",
       "</defs>\n",
       "<path clip-path=\"url(#clip930)\" d=\"\n",
       "M193.936 1486.45 L2352.76 1486.45 L2352.76 123.472 L193.936 123.472  Z\n",
       "  \" fill=\"#ffffff\" fill-rule=\"evenodd\" fill-opacity=\"1\"/>\n",
       "<defs>\n",
       "  <clipPath id=\"clip932\">\n",
       "    <rect x=\"193\" y=\"123\" width=\"2160\" height=\"1364\"/>\n",
       "  </clipPath>\n",
       "</defs>\n",
       "<path clip-path=\"url(#clip930)\" d=\"M923.672 12.096 L961.912 12.096 L961.912 18.9825 L931.855 18.9825 L931.855 36.8875 L960.657 36.8875 L960.657 43.7741 L931.855 43.7741 L931.855 65.6895 L962.642 65.6895 L962.642 72.576 L923.672 72.576 L923.672 12.096 Z\" fill=\"#000000\" fill-rule=\"evenodd\" fill-opacity=\"1\" /><path clip-path=\"url(#clip930)\" d=\"M970.419 27.2059 L978.319 27.2059 L992.497 65.2844 L1006.67 27.2059 L1014.57 27.2059 L997.56 72.576 L987.433 72.576 L970.419 27.2059 Z\" fill=\"#000000\" fill-rule=\"evenodd\" fill-opacity=\"1\" /><path clip-path=\"url(#clip930)\" d=\"M1063.67 48.0275 L1063.67 51.6733 L1029.4 51.6733 Q1029.89 59.3701 1034.02 63.421 Q1038.19 67.4314 1045.6 67.4314 Q1049.9 67.4314 1053.91 66.3781 Q1057.96 65.3249 1061.93 63.2184 L1061.93 70.267 Q1057.92 71.9684 1053.71 72.8596 Q1049.49 73.7508 1045.16 73.7508 Q1034.3 73.7508 1027.94 67.4314 Q1021.62 61.1119 1021.62 50.3365 Q1021.62 39.1965 1027.62 32.6746 Q1033.65 26.1121 1043.86 26.1121 Q1053.02 26.1121 1058.32 32.0264 Q1063.67 37.9003 1063.67 48.0275 M1056.22 45.84 Q1056.14 39.7232 1052.77 36.0774 Q1049.45 32.4315 1043.94 32.4315 Q1037.7 32.4315 1033.94 35.9558 Q1030.21 39.4801 1029.64 45.8805 L1056.22 45.84 Z\" fill=\"#000000\" fill-rule=\"evenodd\" fill-opacity=\"1\" /><path clip-path=\"url(#clip930)\" d=\"M1113.62 45.1919 L1113.62 72.576 L1106.17 72.576 L1106.17 45.4349 Q1106.17 38.994 1103.65 35.7938 Q1101.14 32.5936 1096.12 32.5936 Q1090.08 32.5936 1086.6 36.4419 Q1083.12 40.2903 1083.12 46.9338 L1083.12 72.576 L1075.62 72.576 L1075.62 27.2059 L1083.12 27.2059 L1083.12 34.2544 Q1085.79 30.163 1089.39 28.1376 Q1093.04 26.1121 1097.78 26.1121 Q1105.6 26.1121 1109.61 30.9732 Q1113.62 35.7938 1113.62 45.1919 Z\" fill=\"#000000\" fill-rule=\"evenodd\" fill-opacity=\"1\" /><path clip-path=\"url(#clip930)\" d=\"M1135.86 14.324 L1135.86 27.2059 L1151.21 27.2059 L1151.21 32.9987 L1135.86 32.9987 L1135.86 57.6282 Q1135.86 63.1779 1137.36 64.7578 Q1138.9 66.3376 1143.55 66.3376 L1151.21 66.3376 L1151.21 72.576 L1143.55 72.576 Q1134.93 72.576 1131.65 69.3758 Q1128.36 66.1351 1128.36 57.6282 L1128.36 32.9987 L1122.9 32.9987 L1122.9 27.2059 L1128.36 27.2059 L1128.36 14.324 L1135.86 14.324 Z\" fill=\"#000000\" fill-rule=\"evenodd\" fill-opacity=\"1\" /><path clip-path=\"url(#clip930)\" d=\"M1178.6 32.4315 Q1172.6 32.4315 1169.12 37.1306 Q1165.63 41.7891 1165.63 49.9314 Q1165.63 58.0738 1169.08 62.7728 Q1172.56 67.4314 1178.6 67.4314 Q1184.55 67.4314 1188.03 62.7323 Q1191.52 58.0333 1191.52 49.9314 Q1191.52 41.8701 1188.03 37.1711 Q1184.55 32.4315 1178.6 32.4315 M1178.6 26.1121 Q1188.32 26.1121 1193.87 32.4315 Q1199.42 38.7509 1199.42 49.9314 Q1199.42 61.0714 1193.87 67.4314 Q1188.32 73.7508 1178.6 73.7508 Q1168.83 73.7508 1163.28 67.4314 Q1157.77 61.0714 1157.77 49.9314 Q1157.77 38.7509 1163.28 32.4315 Q1168.83 26.1121 1178.6 26.1121 Z\" fill=\"#000000\" fill-rule=\"evenodd\" fill-opacity=\"1\" /><path clip-path=\"url(#clip930)\" d=\"M1240.7 28.5427 L1240.7 35.5912 Q1237.54 33.9709 1234.13 33.1607 Q1230.73 32.3505 1227.08 32.3505 Q1221.53 32.3505 1218.74 34.0519 Q1215.99 35.7533 1215.99 39.156 Q1215.99 41.7486 1217.97 43.2475 Q1219.96 44.7058 1225.95 46.0426 L1228.5 46.6097 Q1236.44 48.3111 1239.76 51.4303 Q1243.13 54.509 1243.13 60.0587 Q1243.13 66.3781 1238.1 70.0644 Q1233.12 73.7508 1224.37 73.7508 Q1220.72 73.7508 1216.75 73.0216 Q1212.83 72.3329 1208.45 70.9151 L1208.45 63.2184 Q1212.58 65.3654 1216.59 66.4591 Q1220.6 67.5124 1224.53 67.5124 Q1229.8 67.5124 1232.63 65.73 Q1235.47 63.9071 1235.47 60.6258 Q1235.47 57.5877 1233.4 55.9673 Q1231.38 54.3469 1224.45 52.8481 L1221.86 52.2405 Q1214.93 50.7821 1211.85 47.7845 Q1208.77 44.7463 1208.77 39.4801 Q1208.77 33.0797 1213.31 29.5959 Q1217.85 26.1121 1226.19 26.1121 Q1230.33 26.1121 1233.97 26.7198 Q1237.62 27.3274 1240.7 28.5427 Z\" fill=\"#000000\" fill-rule=\"evenodd\" fill-opacity=\"1\" /><path clip-path=\"url(#clip930)\" d=\"M1288.58 65.7705 L1288.58 89.8329 L1281.08 89.8329 L1281.08 27.2059 L1288.58 27.2059 L1288.58 34.0924 Q1290.93 30.0415 1294.49 28.0971 Q1298.1 26.1121 1303.08 26.1121 Q1311.34 26.1121 1316.49 32.6746 Q1321.67 39.2371 1321.67 49.9314 Q1321.67 60.6258 1316.49 67.1883 Q1311.34 73.7508 1303.08 73.7508 Q1298.1 73.7508 1294.49 71.8063 Q1290.93 69.8214 1288.58 65.7705 M1313.94 49.9314 Q1313.94 41.7081 1310.53 37.0496 Q1307.17 32.3505 1301.26 32.3505 Q1295.34 32.3505 1291.94 37.0496 Q1288.58 41.7081 1288.58 49.9314 Q1288.58 58.1548 1291.94 62.8538 Q1295.34 67.5124 1301.26 67.5124 Q1307.17 67.5124 1310.53 62.8538 Q1313.94 58.1548 1313.94 49.9314 Z\" fill=\"#000000\" fill-rule=\"evenodd\" fill-opacity=\"1\" /><path clip-path=\"url(#clip930)\" d=\"M1351.61 32.4315 Q1345.61 32.4315 1342.13 37.1306 Q1338.65 41.7891 1338.65 49.9314 Q1338.65 58.0738 1342.09 62.7728 Q1345.57 67.4314 1351.61 67.4314 Q1357.56 67.4314 1361.05 62.7323 Q1364.53 58.0333 1364.53 49.9314 Q1364.53 41.8701 1361.05 37.1711 Q1357.56 32.4315 1351.61 32.4315 M1351.61 26.1121 Q1361.33 26.1121 1366.88 32.4315 Q1372.43 38.7509 1372.43 49.9314 Q1372.43 61.0714 1366.88 67.4314 Q1361.33 73.7508 1351.61 73.7508 Q1341.85 73.7508 1336.3 67.4314 Q1330.79 61.0714 1330.79 49.9314 Q1330.79 38.7509 1336.3 32.4315 Q1341.85 26.1121 1351.61 26.1121 Z\" fill=\"#000000\" fill-rule=\"evenodd\" fill-opacity=\"1\" /><path clip-path=\"url(#clip930)\" d=\"M1411.08 34.1734 Q1409.82 33.4443 1408.32 33.1202 Q1406.86 32.7556 1405.08 32.7556 Q1398.76 32.7556 1395.36 36.8875 Q1392 40.9789 1392 48.6757 L1392 72.576 L1384.5 72.576 L1384.5 27.2059 L1392 27.2059 L1392 34.2544 Q1394.35 30.1225 1398.11 28.1376 Q1401.88 26.1121 1407.27 26.1121 Q1408.04 26.1121 1408.97 26.2337 Q1409.9 26.3147 1411.04 26.5172 L1411.08 34.1734 Z\" fill=\"#000000\" fill-rule=\"evenodd\" fill-opacity=\"1\" /><path clip-path=\"url(#clip930)\" d=\"M1474.19 28.5427 L1474.19 35.5912 Q1471.03 33.9709 1467.63 33.1607 Q1464.22 32.3505 1460.58 32.3505 Q1455.03 32.3505 1452.23 34.0519 Q1449.48 35.7533 1449.48 39.156 Q1449.48 41.7486 1451.46 43.2475 Q1453.45 44.7058 1459.44 46.0426 L1462 46.6097 Q1469.94 48.3111 1473.26 51.4303 Q1476.62 54.509 1476.62 60.0587 Q1476.62 66.3781 1471.6 70.0644 Q1466.61 73.7508 1457.86 73.7508 Q1454.22 73.7508 1450.25 73.0216 Q1446.32 72.3329 1441.94 70.9151 L1441.94 63.2184 Q1446.08 65.3654 1450.09 66.4591 Q1454.1 67.5124 1458.03 67.5124 Q1463.29 67.5124 1466.13 65.73 Q1468.96 63.9071 1468.96 60.6258 Q1468.96 57.5877 1466.9 55.9673 Q1464.87 54.3469 1457.95 52.8481 L1455.35 52.2405 Q1448.43 50.7821 1445.35 47.7845 Q1442.27 44.7463 1442.27 39.4801 Q1442.27 33.0797 1446.81 29.5959 Q1451.34 26.1121 1459.69 26.1121 Q1463.82 26.1121 1467.47 26.7198 Q1471.11 27.3274 1474.19 28.5427 Z\" fill=\"#000000\" fill-rule=\"evenodd\" fill-opacity=\"1\" /><path clip-path=\"url(#clip930)\" d=\"M1527.3 48.0275 L1527.3 51.6733 L1493.03 51.6733 Q1493.51 59.3701 1497.64 63.421 Q1501.82 67.4314 1509.23 67.4314 Q1513.52 67.4314 1517.53 66.3781 Q1521.59 65.3249 1525.56 63.2184 L1525.56 70.267 Q1521.54 71.9684 1517.33 72.8596 Q1513.12 73.7508 1508.78 73.7508 Q1497.93 73.7508 1491.57 67.4314 Q1485.25 61.1119 1485.25 50.3365 Q1485.25 39.1965 1491.24 32.6746 Q1497.28 26.1121 1507.49 26.1121 Q1516.64 26.1121 1521.95 32.0264 Q1527.3 37.9003 1527.3 48.0275 M1519.84 45.84 Q1519.76 39.7232 1516.4 36.0774 Q1513.08 32.4315 1507.57 32.4315 Q1501.33 32.4315 1497.56 35.9558 Q1493.84 39.4801 1493.27 45.8805 L1519.84 45.84 Z\" fill=\"#000000\" fill-rule=\"evenodd\" fill-opacity=\"1\" /><path clip-path=\"url(#clip930)\" d=\"M1575.79 27.2059 L1559.38 49.2833 L1576.64 72.576 L1567.85 72.576 L1554.64 54.752 L1541.43 72.576 L1532.64 72.576 L1550.27 48.8377 L1534.14 27.2059 L1542.93 27.2059 L1554.96 43.369 L1567 27.2059 L1575.79 27.2059 Z\" fill=\"#000000\" fill-rule=\"evenodd\" fill-opacity=\"1\" /><path clip-path=\"url(#clip930)\" d=\"M1602.2 32.4315 Q1596.2 32.4315 1592.72 37.1306 Q1589.24 41.7891 1589.24 49.9314 Q1589.24 58.0738 1592.68 62.7728 Q1596.16 67.4314 1602.2 67.4314 Q1608.15 67.4314 1611.64 62.7323 Q1615.12 58.0333 1615.12 49.9314 Q1615.12 41.8701 1611.64 37.1711 Q1608.15 32.4315 1602.2 32.4315 M1602.2 26.1121 Q1611.92 26.1121 1617.47 32.4315 Q1623.02 38.7509 1623.02 49.9314 Q1623.02 61.0714 1617.47 67.4314 Q1611.92 73.7508 1602.2 73.7508 Q1592.44 73.7508 1586.89 67.4314 Q1581.38 61.0714 1581.38 49.9314 Q1581.38 38.7509 1586.89 32.4315 Q1592.44 26.1121 1602.2 26.1121 Z\" fill=\"#000000\" fill-rule=\"evenodd\" fill-opacity=\"1\" /><path clip-path=\"url(#clip932)\" d=\"\n",
       "M1273.21 804.955 L1916.23 804.955 L1914.77 761.605 L1910.39 718.453 L1903.11 675.694 L1892.96 633.523 L1879.99 592.132 L1864.26 551.71 L1845.85 512.44 L1824.82 474.5 \n",
       "  L1801.29 438.065 L1775.36 403.299 L1747.14 370.36 L1716.76 339.398 L1684.36 310.555 L1650.1 283.962 L1614.12 259.739 L1576.59 237.997 L1537.68 218.834 L1497.56 202.338 \n",
       "  L1456.42 188.584 L1414.45 177.635 L1371.84 169.54 L1328.78 164.336 L1285.47 162.047 L1242.1 162.683 L1198.87 166.242 L1155.98 172.706 L1113.62 182.047 L1071.99 194.223 \n",
       "  L1031.28 209.178 L991.663 226.843 L953.33 247.138 L916.452 269.972 L881.198 295.24 L847.727 322.827 L816.192 352.608 L786.737 384.447 L759.495 418.199 L734.59 453.711 \n",
       "  L712.136 490.821 L692.235 529.361 L674.978 569.154 L660.442 610.02 L648.695 651.774 L639.789 694.224 L633.765 737.178 L630.65 780.44 L630.459 823.814 L633.193 867.102 \n",
       "  L638.839 910.108 L1273.21 804.955  Z\n",
       "  \" fill=\"#009af9\" fill-rule=\"evenodd\" fill-opacity=\"1\"/>\n",
       "<polyline clip-path=\"url(#clip932)\" style=\"stroke:#000000; stroke-linecap:butt; stroke-linejoin:round; stroke-width:4; stroke-opacity:0.5; fill:none\" points=\"\n",
       "  1273.21,804.955 1916.23,804.955 1914.77,761.605 1910.39,718.453 1903.11,675.694 1892.96,633.523 1879.99,592.132 1864.26,551.71 1845.85,512.44 1824.82,474.5 \n",
       "  1801.29,438.065 1775.36,403.299 1747.14,370.36 1716.76,339.398 1684.36,310.555 1650.1,283.962 1614.12,259.739 1576.59,237.997 1537.68,218.834 1497.56,202.338 \n",
       "  1456.42,188.584 1414.45,177.635 1371.84,169.54 1328.78,164.336 1285.47,162.047 1242.1,162.683 1198.87,166.242 1155.98,172.706 1113.62,182.047 1071.99,194.223 \n",
       "  1031.28,209.178 991.663,226.843 953.33,247.138 916.452,269.972 881.198,295.24 847.727,322.827 816.192,352.608 786.737,384.447 759.495,418.199 734.59,453.711 \n",
       "  712.136,490.821 692.235,529.361 674.978,569.154 660.442,610.02 648.695,651.774 639.789,694.224 633.765,737.178 630.65,780.44 630.459,823.814 633.193,867.102 \n",
       "  638.839,910.108 1273.21,804.955 \n",
       "  \"/>\n",
       "<path clip-path=\"url(#clip932)\" d=\"\n",
       "M1273.21 804.955 L638.839 910.108 L645.858 946.071 L654.914 981.575 L665.978 1016.51 L679.014 1050.75 L693.979 1084.2 L710.825 1116.74 L729.497 1148.26 L749.934 1178.67 \n",
       "  L772.071 1207.87 L795.834 1235.76 L821.148 1262.25 L847.929 1287.26 L876.092 1310.7 L905.543 1332.5 L936.189 1352.59 L967.929 1370.89 L1000.66 1387.36 L1034.28 1401.94 \n",
       "  L1068.67 1414.58 L1103.72 1425.24 L1139.33 1433.89 L1175.37 1440.49 L1211.73 1445.03 L1248.29 1447.5 L1284.93 1447.87 L1321.53 1446.16 L1357.97 1442.37 L1394.14 1436.51 \n",
       "  L1429.92 1428.59 L1465.19 1418.65 L1499.83 1406.72 L1533.74 1392.84 L1566.8 1377.04 L1598.91 1359.39 L1629.96 1339.94 L1659.86 1318.75 L1688.49 1295.89 L1715.78 1271.44 \n",
       "  L1741.64 1245.47 L1765.97 1218.08 L1788.7 1189.34 L1809.76 1159.35 L1829.07 1128.22 L1846.58 1096.03 L1862.23 1062.9 L1875.97 1028.93 L1887.74 994.232 L1897.53 958.921 \n",
       "  L1905.28 923.11 L1273.21 804.955  Z\n",
       "  \" fill=\"#e26f46\" fill-rule=\"evenodd\" fill-opacity=\"1\"/>\n",
       "<polyline clip-path=\"url(#clip932)\" style=\"stroke:#000000; stroke-linecap:butt; stroke-linejoin:round; stroke-width:4; stroke-opacity:0.5; fill:none\" points=\"\n",
       "  1273.21,804.955 638.839,910.108 645.858,946.071 654.914,981.575 665.978,1016.51 679.014,1050.75 693.979,1084.2 710.825,1116.74 729.497,1148.26 749.934,1178.67 \n",
       "  772.071,1207.87 795.834,1235.76 821.148,1262.25 847.929,1287.26 876.092,1310.7 905.543,1332.5 936.189,1352.59 967.929,1370.89 1000.66,1387.36 1034.28,1401.94 \n",
       "  1068.67,1414.58 1103.72,1425.24 1139.33,1433.89 1175.37,1440.49 1211.73,1445.03 1248.29,1447.5 1284.93,1447.87 1321.53,1446.16 1357.97,1442.37 1394.14,1436.51 \n",
       "  1429.92,1428.59 1465.19,1418.65 1499.83,1406.72 1533.74,1392.84 1566.8,1377.04 1598.91,1359.39 1629.96,1339.94 1659.86,1318.75 1688.49,1295.89 1715.78,1271.44 \n",
       "  1741.64,1245.47 1765.97,1218.08 1788.7,1189.34 1809.76,1159.35 1829.07,1128.22 1846.58,1096.03 1862.23,1062.9 1875.97,1028.93 1887.74,994.232 1897.53,958.921 \n",
       "  1905.28,923.11 1273.21,804.955 \n",
       "  \"/>\n",
       "<path clip-path=\"url(#clip932)\" d=\"\n",
       "M1273.21 804.955 L1905.28 923.11 L1905.72 920.726 L1906.16 918.34 L1906.58 915.952 L1906.99 913.562 L1907.4 911.171 L1907.8 908.779 L1908.18 906.384 L1908.56 903.989 \n",
       "  L1908.93 901.592 L1909.29 899.194 L1909.64 896.794 L1909.98 894.393 L1910.31 891.991 L1910.64 889.588 L1910.95 887.183 L1911.26 884.777 L1911.56 882.37 L1911.84 879.962 \n",
       "  L1912.12 877.553 L1912.39 875.143 L1912.65 872.732 L1912.9 870.32 L1913.14 867.907 L1913.38 865.493 L1913.6 863.078 L1913.81 860.663 L1914.02 858.246 L1914.22 855.829 \n",
       "  L1914.4 853.411 L1914.58 850.993 L1914.75 848.574 L1914.91 846.154 L1915.06 843.733 L1915.2 841.312 L1915.34 838.891 L1915.46 836.469 L1915.57 834.046 L1915.68 831.624 \n",
       "  L1915.78 829.2 L1915.86 826.777 L1915.94 824.353 L1916.01 821.929 L1916.07 819.504 L1916.12 817.08 L1916.16 814.655 L1916.19 812.23 L1916.21 809.805 L1916.23 807.38 \n",
       "  L1916.23 804.955 L1273.21 804.955  Z\n",
       "  \" fill=\"#3da44d\" fill-rule=\"evenodd\" fill-opacity=\"1\"/>\n",
       "<polyline clip-path=\"url(#clip932)\" style=\"stroke:#000000; stroke-linecap:butt; stroke-linejoin:round; stroke-width:4; stroke-opacity:0.5; fill:none\" points=\"\n",
       "  1273.21,804.955 1905.28,923.11 1905.72,920.726 1906.16,918.34 1906.58,915.952 1906.99,913.562 1907.4,911.171 1907.8,908.779 1908.18,906.384 1908.56,903.989 \n",
       "  1908.93,901.592 1909.29,899.194 1909.64,896.794 1909.98,894.393 1910.31,891.991 1910.64,889.588 1910.95,887.183 1911.26,884.777 1911.56,882.37 1911.84,879.962 \n",
       "  1912.12,877.553 1912.39,875.143 1912.65,872.732 1912.9,870.32 1913.14,867.907 1913.38,865.493 1913.6,863.078 1913.81,860.663 1914.02,858.246 1914.22,855.829 \n",
       "  1914.4,853.411 1914.58,850.993 1914.75,848.574 1914.91,846.154 1915.06,843.733 1915.2,841.312 1915.34,838.891 1915.46,836.469 1915.57,834.046 1915.68,831.624 \n",
       "  1915.78,829.2 1915.86,826.777 1915.94,824.353 1916.01,821.929 1916.07,819.504 1916.12,817.08 1916.16,814.655 1916.19,812.23 1916.21,809.805 1916.23,807.38 \n",
       "  1916.23,804.955 1273.21,804.955 \n",
       "  \"/>\n",
       "<path clip-path=\"url(#clip930)\" d=\"\n",
       "M1881.11 376.265 L2280.8 376.265 L2280.8 168.905 L1881.11 168.905  Z\n",
       "  \" fill=\"#ffffff\" fill-rule=\"evenodd\" fill-opacity=\"1\"/>\n",
       "<polyline clip-path=\"url(#clip930)\" style=\"stroke:#000000; stroke-linecap:butt; stroke-linejoin:round; stroke-width:4; stroke-opacity:1; fill:none\" points=\"\n",
       "  1881.11,376.265 2280.8,376.265 2280.8,168.905 1881.11,168.905 1881.11,376.265 \n",
       "  \"/>\n",
       "<path clip-path=\"url(#clip930)\" d=\"\n",
       "M1905.1 241.481 L2049.02 241.481 L2049.02 200.009 L1905.1 200.009 L1905.1 241.481  Z\n",
       "  \" fill=\"#009af9\" fill-rule=\"evenodd\" fill-opacity=\"1\"/>\n",
       "<polyline clip-path=\"url(#clip930)\" style=\"stroke:#000000; stroke-linecap:butt; stroke-linejoin:round; stroke-width:4; stroke-opacity:1; fill:none\" points=\"\n",
       "  1905.1,241.481 2049.02,241.481 2049.02,200.009 1905.1,200.009 1905.1,241.481 \n",
       "  \"/>\n",
       "<path clip-path=\"url(#clip930)\" d=\"M2093.35 217.076 Q2094.95 214.205 2097.17 212.84 Q2099.4 211.474 2102.41 211.474 Q2106.46 211.474 2108.66 214.321 Q2110.85 217.145 2110.85 222.377 L2110.85 238.025 L2106.57 238.025 L2106.57 222.515 Q2106.57 218.789 2105.25 216.983 Q2103.93 215.178 2101.22 215.178 Q2097.91 215.178 2095.99 217.377 Q2094.07 219.576 2094.07 223.372 L2094.07 238.025 L2089.79 238.025 L2089.79 222.515 Q2089.79 218.765 2088.47 216.983 Q2087.15 215.178 2084.4 215.178 Q2081.13 215.178 2079.21 217.4 Q2077.29 219.599 2077.29 223.372 L2077.29 238.025 L2073.01 238.025 L2073.01 212.099 L2077.29 212.099 L2077.29 216.127 Q2078.75 213.742 2080.79 212.608 Q2082.82 211.474 2085.62 211.474 Q2088.45 211.474 2090.41 212.909 Q2092.41 214.344 2093.35 217.076 Z\" fill=\"#000000\" fill-rule=\"evenodd\" fill-opacity=\"1\" /><path clip-path=\"url(#clip930)\" d=\"M2131.13 224.992 Q2125.97 224.992 2123.98 226.173 Q2121.99 227.353 2121.99 230.201 Q2121.99 232.469 2123.47 233.812 Q2124.97 235.131 2127.54 235.131 Q2131.09 235.131 2133.22 232.631 Q2135.37 230.108 2135.37 225.941 L2135.37 224.992 L2131.13 224.992 M2139.63 223.233 L2139.63 238.025 L2135.37 238.025 L2135.37 234.089 Q2133.91 236.451 2131.73 237.585 Q2129.56 238.696 2126.41 238.696 Q2122.43 238.696 2120.07 236.474 Q2117.73 234.228 2117.73 230.478 Q2117.73 226.103 2120.65 223.881 Q2123.59 221.659 2129.4 221.659 L2135.37 221.659 L2135.37 221.242 Q2135.37 218.303 2133.42 216.705 Q2131.5 215.085 2128.01 215.085 Q2125.79 215.085 2123.68 215.617 Q2121.57 216.15 2119.63 217.215 L2119.63 213.279 Q2121.97 212.377 2124.16 211.937 Q2126.36 211.474 2128.45 211.474 Q2134.07 211.474 2136.85 214.391 Q2139.63 217.307 2139.63 223.233 Z\" fill=\"#000000\" fill-rule=\"evenodd\" fill-opacity=\"1\" /><path clip-path=\"url(#clip930)\" d=\"M2148.4 202.006 L2152.66 202.006 L2152.66 238.025 L2148.4 238.025 L2148.4 202.006 Z\" fill=\"#000000\" fill-rule=\"evenodd\" fill-opacity=\"1\" /><path clip-path=\"url(#clip930)\" d=\"M2183.75 223.997 L2183.75 226.08 L2164.16 226.08 Q2164.44 230.478 2166.8 232.793 Q2169.19 235.085 2173.42 235.085 Q2175.88 235.085 2178.17 234.483 Q2180.48 233.881 2182.75 232.677 L2182.75 236.705 Q2180.46 237.677 2178.05 238.187 Q2175.65 238.696 2173.17 238.696 Q2166.97 238.696 2163.33 235.085 Q2159.72 231.474 2159.72 225.316 Q2159.72 218.951 2163.15 215.224 Q2166.59 211.474 2172.43 211.474 Q2177.66 211.474 2180.69 214.853 Q2183.75 218.21 2183.75 223.997 M2179.49 222.747 Q2179.44 219.252 2177.52 217.168 Q2175.62 215.085 2172.47 215.085 Q2168.91 215.085 2166.76 217.099 Q2164.63 219.113 2164.3 222.77 L2179.49 222.747 Z\" fill=\"#000000\" fill-rule=\"evenodd\" fill-opacity=\"1\" /><path clip-path=\"url(#clip930)\" d=\"\n",
       "M1905.1 293.321 L2049.02 293.321 L2049.02 251.849 L1905.1 251.849 L1905.1 293.321  Z\n",
       "  \" fill=\"#e26f46\" fill-rule=\"evenodd\" fill-opacity=\"1\"/>\n",
       "<polyline clip-path=\"url(#clip930)\" style=\"stroke:#000000; stroke-linecap:butt; stroke-linejoin:round; stroke-width:4; stroke-opacity:1; fill:none\" points=\"\n",
       "  1905.1,293.321 2049.02,293.321 2049.02,251.849 1905.1,251.849 1905.1,293.321 \n",
       "  \"/>\n",
       "<path clip-path=\"url(#clip930)\" d=\"M2089.51 253.846 L2089.51 257.388 L2085.44 257.388 Q2083.15 257.388 2082.24 258.314 Q2081.36 259.24 2081.36 261.647 L2081.36 263.939 L2088.38 263.939 L2088.38 267.249 L2081.36 267.249 L2081.36 289.865 L2077.08 289.865 L2077.08 267.249 L2073.01 267.249 L2073.01 263.939 L2077.08 263.939 L2077.08 262.133 Q2077.08 257.805 2079.1 255.837 Q2081.11 253.846 2085.48 253.846 L2089.51 253.846 Z\" fill=\"#000000\" fill-rule=\"evenodd\" fill-opacity=\"1\" /><path clip-path=\"url(#clip930)\" d=\"M2115.25 275.837 L2115.25 277.92 L2095.67 277.92 Q2095.95 282.318 2098.31 284.633 Q2100.69 286.925 2104.93 286.925 Q2107.38 286.925 2109.67 286.323 Q2111.99 285.721 2114.26 284.517 L2114.26 288.545 Q2111.97 289.517 2109.56 290.027 Q2107.15 290.536 2104.67 290.536 Q2098.47 290.536 2094.84 286.925 Q2091.23 283.314 2091.23 277.156 Q2091.23 270.791 2094.65 267.064 Q2098.1 263.314 2103.93 263.314 Q2109.16 263.314 2112.2 266.693 Q2115.25 270.05 2115.25 275.837 M2110.99 274.587 Q2110.95 271.092 2109.03 269.008 Q2107.13 266.925 2103.98 266.925 Q2100.41 266.925 2098.26 268.939 Q2096.13 270.953 2095.81 274.61 L2110.99 274.587 Z\" fill=\"#000000\" fill-rule=\"evenodd\" fill-opacity=\"1\" /><path clip-path=\"url(#clip930)\" d=\"M2142.43 268.916 Q2144.03 266.045 2146.25 264.68 Q2148.47 263.314 2151.48 263.314 Q2155.53 263.314 2157.73 266.161 Q2159.93 268.985 2159.93 274.217 L2159.93 289.865 L2155.65 289.865 L2155.65 274.355 Q2155.65 270.629 2154.33 268.823 Q2153.01 267.018 2150.3 267.018 Q2146.99 267.018 2145.07 269.217 Q2143.15 271.416 2143.15 275.212 L2143.15 289.865 L2138.86 289.865 L2138.86 274.355 Q2138.86 270.605 2137.54 268.823 Q2136.22 267.018 2133.47 267.018 Q2130.21 267.018 2128.28 269.24 Q2126.36 271.439 2126.36 275.212 L2126.36 289.865 L2122.08 289.865 L2122.08 263.939 L2126.36 263.939 L2126.36 267.967 Q2127.82 265.582 2129.86 264.448 Q2131.9 263.314 2134.7 263.314 Q2137.52 263.314 2139.49 264.749 Q2141.48 266.184 2142.43 268.916 Z\" fill=\"#000000\" fill-rule=\"evenodd\" fill-opacity=\"1\" /><path clip-path=\"url(#clip930)\" d=\"M2180.21 276.832 Q2175.04 276.832 2173.05 278.013 Q2171.06 279.193 2171.06 282.041 Q2171.06 284.309 2172.54 285.652 Q2174.05 286.971 2176.62 286.971 Q2180.16 286.971 2182.29 284.471 Q2184.44 281.948 2184.44 277.781 L2184.44 276.832 L2180.21 276.832 M2188.7 275.073 L2188.7 289.865 L2184.44 289.865 L2184.44 285.929 Q2182.98 288.291 2180.81 289.425 Q2178.63 290.536 2175.48 290.536 Q2171.5 290.536 2169.14 288.314 Q2166.8 286.068 2166.8 282.318 Q2166.8 277.943 2169.72 275.721 Q2172.66 273.499 2178.47 273.499 L2184.44 273.499 L2184.44 273.082 Q2184.44 270.143 2182.5 268.545 Q2180.58 266.925 2177.08 266.925 Q2174.86 266.925 2172.75 267.457 Q2170.65 267.99 2168.7 269.055 L2168.7 265.119 Q2171.04 264.217 2173.24 263.777 Q2175.44 263.314 2177.52 263.314 Q2183.15 263.314 2185.92 266.231 Q2188.7 269.147 2188.7 275.073 Z\" fill=\"#000000\" fill-rule=\"evenodd\" fill-opacity=\"1\" /><path clip-path=\"url(#clip930)\" d=\"M2197.47 253.846 L2201.73 253.846 L2201.73 289.865 L2197.47 289.865 L2197.47 253.846 Z\" fill=\"#000000\" fill-rule=\"evenodd\" fill-opacity=\"1\" /><path clip-path=\"url(#clip930)\" d=\"M2232.82 275.837 L2232.82 277.92 L2213.24 277.92 Q2213.52 282.318 2215.88 284.633 Q2218.26 286.925 2222.5 286.925 Q2224.95 286.925 2227.24 286.323 Q2229.56 285.721 2231.83 284.517 L2231.83 288.545 Q2229.53 289.517 2227.13 290.027 Q2224.72 290.536 2222.24 290.536 Q2216.04 290.536 2212.4 286.925 Q2208.79 283.314 2208.79 277.156 Q2208.79 270.791 2212.22 267.064 Q2215.67 263.314 2221.5 263.314 Q2226.73 263.314 2229.77 266.693 Q2232.82 270.05 2232.82 275.837 M2228.56 274.587 Q2228.52 271.092 2226.59 269.008 Q2224.7 266.925 2221.55 266.925 Q2217.98 266.925 2215.83 268.939 Q2213.7 270.953 2213.38 274.61 L2228.56 274.587 Z\" fill=\"#000000\" fill-rule=\"evenodd\" fill-opacity=\"1\" /><path clip-path=\"url(#clip930)\" d=\"\n",
       "M1905.1 345.161 L2049.02 345.161 L2049.02 303.689 L1905.1 303.689 L1905.1 345.161  Z\n",
       "  \" fill=\"#3da44d\" fill-rule=\"evenodd\" fill-opacity=\"1\"/>\n",
       "<polyline clip-path=\"url(#clip930)\" style=\"stroke:#000000; stroke-linecap:butt; stroke-linejoin:round; stroke-width:4; stroke-opacity:1; fill:none\" points=\"\n",
       "  1905.1,345.161 2049.02,345.161 2049.02,303.689 1905.1,303.689 1905.1,345.161 \n",
       "  \"/>\n",
       "<path clip-path=\"url(#clip930)\" d=\"M2093.35 320.756 Q2094.95 317.885 2097.17 316.52 Q2099.4 315.154 2102.41 315.154 Q2106.46 315.154 2108.66 318.001 Q2110.85 320.825 2110.85 326.057 L2110.85 341.705 L2106.57 341.705 L2106.57 326.195 Q2106.57 322.469 2105.25 320.663 Q2103.93 318.858 2101.22 318.858 Q2097.91 318.858 2095.99 321.057 Q2094.07 323.256 2094.07 327.052 L2094.07 341.705 L2089.79 341.705 L2089.79 326.195 Q2089.79 322.445 2088.47 320.663 Q2087.15 318.858 2084.4 318.858 Q2081.13 318.858 2079.21 321.08 Q2077.29 323.279 2077.29 327.052 L2077.29 341.705 L2073.01 341.705 L2073.01 315.779 L2077.29 315.779 L2077.29 319.807 Q2078.75 317.422 2080.79 316.288 Q2082.82 315.154 2085.62 315.154 Q2088.45 315.154 2090.41 316.589 Q2092.41 318.024 2093.35 320.756 Z\" fill=\"#000000\" fill-rule=\"evenodd\" fill-opacity=\"1\" /><path clip-path=\"url(#clip930)\" d=\"M2119.35 315.779 L2123.61 315.779 L2123.61 341.705 L2119.35 341.705 L2119.35 315.779 M2119.35 305.686 L2123.61 305.686 L2123.61 311.08 L2119.35 311.08 L2119.35 305.686 Z\" fill=\"#000000\" fill-rule=\"evenodd\" fill-opacity=\"1\" /><path clip-path=\"url(#clip930)\" d=\"M2154.07 315.779 L2144.7 328.395 L2154.56 341.705 L2149.53 341.705 L2141.99 331.52 L2134.44 341.705 L2129.42 341.705 L2139.49 328.14 L2130.28 315.779 L2135.3 315.779 L2142.17 325.015 L2149.05 315.779 L2154.07 315.779 Z\" fill=\"#000000\" fill-rule=\"evenodd\" fill-opacity=\"1\" /><path clip-path=\"url(#clip930)\" d=\"M2181.29 327.677 L2181.29 329.76 L2161.71 329.76 Q2161.99 334.158 2164.35 336.473 Q2166.73 338.765 2170.97 338.765 Q2173.42 338.765 2175.72 338.163 Q2178.03 337.561 2180.3 336.357 L2180.3 340.385 Q2178.01 341.357 2175.6 341.867 Q2173.19 342.376 2170.72 342.376 Q2164.51 342.376 2160.88 338.765 Q2157.27 335.154 2157.27 328.996 Q2157.27 322.631 2160.69 318.904 Q2164.14 315.154 2169.97 315.154 Q2175.21 315.154 2178.24 318.533 Q2181.29 321.89 2181.29 327.677 M2177.03 326.427 Q2176.99 322.932 2175.07 320.848 Q2173.17 318.765 2170.02 318.765 Q2166.46 318.765 2164.3 320.779 Q2162.17 322.793 2161.85 326.45 L2177.03 326.427 Z\" fill=\"#000000\" fill-rule=\"evenodd\" fill-opacity=\"1\" /><path clip-path=\"url(#clip930)\" d=\"M2205.34 319.714 L2205.34 305.686 L2209.6 305.686 L2209.6 341.705 L2205.34 341.705 L2205.34 337.816 Q2204 340.131 2201.94 341.265 Q2199.9 342.376 2197.03 342.376 Q2192.34 342.376 2189.37 338.626 Q2186.43 334.876 2186.43 328.765 Q2186.43 322.654 2189.37 318.904 Q2192.34 315.154 2197.03 315.154 Q2199.9 315.154 2201.94 316.288 Q2204 317.399 2205.34 319.714 M2190.83 328.765 Q2190.83 333.464 2192.75 336.149 Q2194.7 338.811 2198.08 338.811 Q2201.46 338.811 2203.4 336.149 Q2205.34 333.464 2205.34 328.765 Q2205.34 324.066 2203.4 321.404 Q2201.46 318.719 2198.08 318.719 Q2194.7 318.719 2192.75 321.404 Q2190.83 324.066 2190.83 328.765 Z\" fill=\"#000000\" fill-rule=\"evenodd\" fill-opacity=\"1\" /></svg>\n"
      ]
     },
     "execution_count": 121,
     "metadata": {},
     "output_type": "execute_result"
    }
   ],
   "source": [
    "Plots.gr() \n",
    "x = collect(keys(sx))\n",
    "y = collect(values(sx))\n",
    "pie(x, y, title=\"Eventos por sexo\", l=0.5, shadow=true,)"
   ]
  },
  {
   "cell_type": "code",
   "execution_count": 152,
   "id": "b765e096",
   "metadata": {},
   "outputs": [
    {
     "data": {
      "text/plain": [
       "Dict{String, Int64} with 28 entries:\n",
       "  \"equestrian\"        => 6\n",
       "  \"cycling\"           => 18\n",
       "  \"football\"          => 2\n",
       "  \"gymnastics\"        => 18\n",
       "  \"handball\"          => 2\n",
       "  \"hockey\"            => 2\n",
       "  \"archery\"           => 4\n",
       "  \"fencing\"           => 10\n",
       "  \"judo\"              => 14\n",
       "  \"rugby sevens\"      => 2\n",
       "  \"shooting\"          => 15\n",
       "  \"tennis\"            => 5\n",
       "  \"modern pentathlon\" => 2\n",
       "  \"weightlifting\"     => 15\n",
       "  \"canoe\"             => 16\n",
       "  \"badminton\"         => 5\n",
       "  \"aquatics\"          => 46\n",
       "  \"athletics\"         => 47\n",
       "  \"golf\"              => 2\n",
       "  \"rowing\"            => 14\n",
       "  \"sailing\"           => 10\n",
       "  \"triathlon\"         => 2\n",
       "  \"volleyball\"        => 4\n",
       "  \"taekwondo\"         => 8\n",
       "  \"boxing\"            => 13\n",
       "  ⋮                   => ⋮"
      ]
     },
     "execution_count": 152,
     "metadata": {},
     "output_type": "execute_result"
    }
   ],
   "source": [
    "sprt = countmap(eventos.sport)"
   ]
  },
  {
   "cell_type": "code",
   "execution_count": 153,
   "id": "8201dce6",
   "metadata": {},
   "outputs": [
    {
     "data": {
      "image/svg+xml": [
       "<?xml version=\"1.0\" encoding=\"utf-8\"?>\n",
       "<svg xmlns=\"http://www.w3.org/2000/svg\" xmlns:xlink=\"http://www.w3.org/1999/xlink\" width=\"600\" height=\"400\" viewBox=\"0 0 2400 1600\">\n",
       "<defs>\n",
       "  <clipPath id=\"clip130\">\n",
       "    <rect x=\"0\" y=\"0\" width=\"2400\" height=\"1600\"/>\n",
       "  </clipPath>\n",
       "</defs>\n",
       "<path clip-path=\"url(#clip130)\" d=\"\n",
       "M0 1600 L2400 1600 L2400 0 L0 0  Z\n",
       "  \" fill=\"#ffffff\" fill-rule=\"evenodd\" fill-opacity=\"1\"/>\n",
       "<defs>\n",
       "  <clipPath id=\"clip131\">\n",
       "    <rect x=\"480\" y=\"0\" width=\"1681\" height=\"1600\"/>\n",
       "  </clipPath>\n",
       "</defs>\n",
       "<path clip-path=\"url(#clip130)\" d=\"\n",
       "M344.306 1486.45 L2352.76 1486.45 L2352.76 123.472 L344.306 123.472  Z\n",
       "  \" fill=\"#ffffff\" fill-rule=\"evenodd\" fill-opacity=\"1\"/>\n",
       "<defs>\n",
       "  <clipPath id=\"clip132\">\n",
       "    <rect x=\"344\" y=\"123\" width=\"2009\" height=\"1364\"/>\n",
       "  </clipPath>\n",
       "</defs>\n",
       "<polyline clip-path=\"url(#clip132)\" style=\"stroke:#000000; stroke-linecap:butt; stroke-linejoin:round; stroke-width:2; stroke-opacity:0.1; fill:none\" points=\"\n",
       "  401.148,1486.45 401.148,123.472 \n",
       "  \"/>\n",
       "<polyline clip-path=\"url(#clip132)\" style=\"stroke:#000000; stroke-linecap:butt; stroke-linejoin:round; stroke-width:2; stroke-opacity:0.1; fill:none\" points=\"\n",
       "  804.29,1486.45 804.29,123.472 \n",
       "  \"/>\n",
       "<polyline clip-path=\"url(#clip132)\" style=\"stroke:#000000; stroke-linecap:butt; stroke-linejoin:round; stroke-width:2; stroke-opacity:0.1; fill:none\" points=\"\n",
       "  1207.43,1486.45 1207.43,123.472 \n",
       "  \"/>\n",
       "<polyline clip-path=\"url(#clip132)\" style=\"stroke:#000000; stroke-linecap:butt; stroke-linejoin:round; stroke-width:2; stroke-opacity:0.1; fill:none\" points=\"\n",
       "  1610.57,1486.45 1610.57,123.472 \n",
       "  \"/>\n",
       "<polyline clip-path=\"url(#clip132)\" style=\"stroke:#000000; stroke-linecap:butt; stroke-linejoin:round; stroke-width:2; stroke-opacity:0.1; fill:none\" points=\"\n",
       "  2013.71,1486.45 2013.71,123.472 \n",
       "  \"/>\n",
       "<polyline clip-path=\"url(#clip130)\" style=\"stroke:#000000; stroke-linecap:butt; stroke-linejoin:round; stroke-width:4; stroke-opacity:1; fill:none\" points=\"\n",
       "  344.306,1486.45 2352.76,1486.45 \n",
       "  \"/>\n",
       "<polyline clip-path=\"url(#clip130)\" style=\"stroke:#000000; stroke-linecap:butt; stroke-linejoin:round; stroke-width:4; stroke-opacity:1; fill:none\" points=\"\n",
       "  401.148,1486.45 401.148,1467.55 \n",
       "  \"/>\n",
       "<polyline clip-path=\"url(#clip130)\" style=\"stroke:#000000; stroke-linecap:butt; stroke-linejoin:round; stroke-width:4; stroke-opacity:1; fill:none\" points=\"\n",
       "  804.29,1486.45 804.29,1467.55 \n",
       "  \"/>\n",
       "<polyline clip-path=\"url(#clip130)\" style=\"stroke:#000000; stroke-linecap:butt; stroke-linejoin:round; stroke-width:4; stroke-opacity:1; fill:none\" points=\"\n",
       "  1207.43,1486.45 1207.43,1467.55 \n",
       "  \"/>\n",
       "<polyline clip-path=\"url(#clip130)\" style=\"stroke:#000000; stroke-linecap:butt; stroke-linejoin:round; stroke-width:4; stroke-opacity:1; fill:none\" points=\"\n",
       "  1610.57,1486.45 1610.57,1467.55 \n",
       "  \"/>\n",
       "<polyline clip-path=\"url(#clip130)\" style=\"stroke:#000000; stroke-linecap:butt; stroke-linejoin:round; stroke-width:4; stroke-opacity:1; fill:none\" points=\"\n",
       "  2013.71,1486.45 2013.71,1467.55 \n",
       "  \"/>\n",
       "<path clip-path=\"url(#clip130)\" d=\"M401.148 1515.64 Q397.537 1515.64 395.709 1519.2 Q393.903 1522.75 393.903 1529.87 Q393.903 1536.98 395.709 1540.55 Q397.537 1544.09 401.148 1544.09 Q404.783 1544.09 406.588 1540.55 Q408.417 1536.98 408.417 1529.87 Q408.417 1522.75 406.588 1519.2 Q404.783 1515.64 401.148 1515.64 M401.148 1511.93 Q406.959 1511.93 410.014 1516.54 Q413.093 1521.12 413.093 1529.87 Q413.093 1538.6 410.014 1543.21 Q406.959 1547.79 401.148 1547.79 Q395.338 1547.79 392.26 1543.21 Q389.204 1538.6 389.204 1529.87 Q389.204 1521.12 392.26 1516.54 Q395.338 1511.93 401.148 1511.93 Z\" fill=\"#000000\" fill-rule=\"evenodd\" fill-opacity=\"1\" /><path clip-path=\"url(#clip130)\" d=\"M778.978 1543.18 L786.616 1543.18 L786.616 1516.82 L778.306 1518.49 L778.306 1514.23 L786.57 1512.56 L791.246 1512.56 L791.246 1543.18 L798.885 1543.18 L798.885 1547.12 L778.978 1547.12 L778.978 1543.18 Z\" fill=\"#000000\" fill-rule=\"evenodd\" fill-opacity=\"1\" /><path clip-path=\"url(#clip130)\" d=\"M818.329 1515.64 Q814.718 1515.64 812.889 1519.2 Q811.084 1522.75 811.084 1529.87 Q811.084 1536.98 812.889 1540.55 Q814.718 1544.09 818.329 1544.09 Q821.963 1544.09 823.769 1540.55 Q825.598 1536.98 825.598 1529.87 Q825.598 1522.75 823.769 1519.2 Q821.963 1515.64 818.329 1515.64 M818.329 1511.93 Q824.139 1511.93 827.195 1516.54 Q830.274 1521.12 830.274 1529.87 Q830.274 1538.6 827.195 1543.21 Q824.139 1547.79 818.329 1547.79 Q812.519 1547.79 809.44 1543.21 Q806.385 1538.6 806.385 1529.87 Q806.385 1521.12 809.44 1516.54 Q812.519 1511.93 818.329 1511.93 Z\" fill=\"#000000\" fill-rule=\"evenodd\" fill-opacity=\"1\" /><path clip-path=\"url(#clip130)\" d=\"M1186.2 1543.18 L1202.52 1543.18 L1202.52 1547.12 L1180.58 1547.12 L1180.58 1543.18 Q1183.24 1540.43 1187.82 1535.8 Q1192.43 1531.15 1193.61 1529.81 Q1195.86 1527.28 1196.74 1525.55 Q1197.64 1523.79 1197.64 1522.1 Q1197.64 1519.34 1195.7 1517.61 Q1193.77 1515.87 1190.67 1515.87 Q1188.47 1515.87 1186.02 1516.63 Q1183.59 1517.4 1180.81 1518.95 L1180.81 1514.23 Q1183.64 1513.09 1186.09 1512.51 Q1188.54 1511.93 1190.58 1511.93 Q1195.95 1511.93 1199.14 1514.62 Q1202.34 1517.31 1202.34 1521.8 Q1202.34 1523.93 1201.53 1525.85 Q1200.74 1527.74 1198.64 1530.34 Q1198.06 1531.01 1194.95 1534.23 Q1191.85 1537.42 1186.2 1543.18 Z\" fill=\"#000000\" fill-rule=\"evenodd\" fill-opacity=\"1\" /><path clip-path=\"url(#clip130)\" d=\"M1222.34 1515.64 Q1218.73 1515.64 1216.9 1519.2 Q1215.09 1522.75 1215.09 1529.87 Q1215.09 1536.98 1216.9 1540.55 Q1218.73 1544.09 1222.34 1544.09 Q1225.97 1544.09 1227.78 1540.55 Q1229.61 1536.98 1229.61 1529.87 Q1229.61 1522.75 1227.78 1519.2 Q1225.97 1515.64 1222.34 1515.64 M1222.34 1511.93 Q1228.15 1511.93 1231.2 1516.54 Q1234.28 1521.12 1234.28 1529.87 Q1234.28 1538.6 1231.2 1543.21 Q1228.15 1547.79 1222.34 1547.79 Q1216.53 1547.79 1213.45 1543.21 Q1210.39 1538.6 1210.39 1529.87 Q1210.39 1521.12 1213.45 1516.54 Q1216.53 1511.93 1222.34 1511.93 Z\" fill=\"#000000\" fill-rule=\"evenodd\" fill-opacity=\"1\" /><path clip-path=\"url(#clip130)\" d=\"M1599.42 1528.49 Q1602.77 1529.2 1604.65 1531.47 Q1606.54 1533.74 1606.54 1537.07 Q1606.54 1542.19 1603.03 1544.99 Q1599.51 1547.79 1593.03 1547.79 Q1590.85 1547.79 1588.54 1547.35 Q1586.24 1546.93 1583.79 1546.08 L1583.79 1541.56 Q1585.73 1542.7 1588.05 1543.28 Q1590.36 1543.86 1592.89 1543.86 Q1597.29 1543.86 1599.58 1542.12 Q1601.89 1540.38 1601.89 1537.07 Q1601.89 1534.02 1599.74 1532.31 Q1597.61 1530.57 1593.79 1530.57 L1589.76 1530.57 L1589.76 1526.73 L1593.98 1526.73 Q1597.42 1526.73 1599.25 1525.36 Q1601.08 1523.97 1601.08 1521.38 Q1601.08 1518.72 1599.18 1517.31 Q1597.31 1515.87 1593.79 1515.87 Q1591.87 1515.87 1589.67 1516.29 Q1587.47 1516.7 1584.83 1517.58 L1584.83 1513.42 Q1587.49 1512.68 1589.81 1512.31 Q1592.15 1511.93 1594.21 1511.93 Q1599.53 1511.93 1602.63 1514.37 Q1605.73 1516.77 1605.73 1520.89 Q1605.73 1523.76 1604.09 1525.75 Q1602.45 1527.72 1599.42 1528.49 Z\" fill=\"#000000\" fill-rule=\"evenodd\" fill-opacity=\"1\" /><path clip-path=\"url(#clip130)\" d=\"M1625.41 1515.64 Q1621.8 1515.64 1619.97 1519.2 Q1618.17 1522.75 1618.17 1529.87 Q1618.17 1536.98 1619.97 1540.55 Q1621.8 1544.09 1625.41 1544.09 Q1629.04 1544.09 1630.85 1540.55 Q1632.68 1536.98 1632.68 1529.87 Q1632.68 1522.75 1630.85 1519.2 Q1629.04 1515.64 1625.41 1515.64 M1625.41 1511.93 Q1631.22 1511.93 1634.28 1516.54 Q1637.35 1521.12 1637.35 1529.87 Q1637.35 1538.6 1634.28 1543.21 Q1631.22 1547.79 1625.41 1547.79 Q1619.6 1547.79 1616.52 1543.21 Q1613.47 1538.6 1613.47 1529.87 Q1613.47 1521.12 1616.52 1516.54 Q1619.6 1511.93 1625.41 1511.93 Z\" fill=\"#000000\" fill-rule=\"evenodd\" fill-opacity=\"1\" /><path clip-path=\"url(#clip130)\" d=\"M2001.89 1516.63 L1990.08 1535.08 L2001.89 1535.08 L2001.89 1516.63 M2000.66 1512.56 L2006.54 1512.56 L2006.54 1535.08 L2011.47 1535.08 L2011.47 1538.97 L2006.54 1538.97 L2006.54 1547.12 L2001.89 1547.12 L2001.89 1538.97 L1986.28 1538.97 L1986.28 1534.46 L2000.66 1512.56 Z\" fill=\"#000000\" fill-rule=\"evenodd\" fill-opacity=\"1\" /><path clip-path=\"url(#clip130)\" d=\"M2029.2 1515.64 Q2025.59 1515.64 2023.76 1519.2 Q2021.95 1522.75 2021.95 1529.87 Q2021.95 1536.98 2023.76 1540.55 Q2025.59 1544.09 2029.2 1544.09 Q2032.83 1544.09 2034.64 1540.55 Q2036.47 1536.98 2036.47 1529.87 Q2036.47 1522.75 2034.64 1519.2 Q2032.83 1515.64 2029.2 1515.64 M2029.2 1511.93 Q2035.01 1511.93 2038.07 1516.54 Q2041.14 1521.12 2041.14 1529.87 Q2041.14 1538.6 2038.07 1543.21 Q2035.01 1547.79 2029.2 1547.79 Q2023.39 1547.79 2020.31 1543.21 Q2017.26 1538.6 2017.26 1529.87 Q2017.26 1521.12 2020.31 1516.54 Q2023.39 1511.93 2029.2 1511.93 Z\" fill=\"#000000\" fill-rule=\"evenodd\" fill-opacity=\"1\" /><polyline clip-path=\"url(#clip132)\" style=\"stroke:#000000; stroke-linecap:butt; stroke-linejoin:round; stroke-width:2; stroke-opacity:0.1; fill:none\" points=\"\n",
       "  344.306,1306.76 2352.76,1306.76 \n",
       "  \"/>\n",
       "<polyline clip-path=\"url(#clip132)\" style=\"stroke:#000000; stroke-linecap:butt; stroke-linejoin:round; stroke-width:2; stroke-opacity:0.1; fill:none\" points=\"\n",
       "  344.306,1175.85 2352.76,1175.85 \n",
       "  \"/>\n",
       "<polyline clip-path=\"url(#clip132)\" style=\"stroke:#000000; stroke-linecap:butt; stroke-linejoin:round; stroke-width:2; stroke-opacity:0.1; fill:none\" points=\"\n",
       "  344.306,1044.95 2352.76,1044.95 \n",
       "  \"/>\n",
       "<polyline clip-path=\"url(#clip132)\" style=\"stroke:#000000; stroke-linecap:butt; stroke-linejoin:round; stroke-width:2; stroke-opacity:0.1; fill:none\" points=\"\n",
       "  344.306,914.047 2352.76,914.047 \n",
       "  \"/>\n",
       "<polyline clip-path=\"url(#clip132)\" style=\"stroke:#000000; stroke-linecap:butt; stroke-linejoin:round; stroke-width:2; stroke-opacity:0.1; fill:none\" points=\"\n",
       "  344.306,783.143 2352.76,783.143 \n",
       "  \"/>\n",
       "<polyline clip-path=\"url(#clip132)\" style=\"stroke:#000000; stroke-linecap:butt; stroke-linejoin:round; stroke-width:2; stroke-opacity:0.1; fill:none\" points=\"\n",
       "  344.306,652.239 2352.76,652.239 \n",
       "  \"/>\n",
       "<polyline clip-path=\"url(#clip132)\" style=\"stroke:#000000; stroke-linecap:butt; stroke-linejoin:round; stroke-width:2; stroke-opacity:0.1; fill:none\" points=\"\n",
       "  344.306,521.335 2352.76,521.335 \n",
       "  \"/>\n",
       "<polyline clip-path=\"url(#clip132)\" style=\"stroke:#000000; stroke-linecap:butt; stroke-linejoin:round; stroke-width:2; stroke-opacity:0.1; fill:none\" points=\"\n",
       "  344.306,390.431 2352.76,390.431 \n",
       "  \"/>\n",
       "<polyline clip-path=\"url(#clip132)\" style=\"stroke:#000000; stroke-linecap:butt; stroke-linejoin:round; stroke-width:2; stroke-opacity:0.1; fill:none\" points=\"\n",
       "  344.306,259.527 2352.76,259.527 \n",
       "  \"/>\n",
       "<polyline clip-path=\"url(#clip130)\" style=\"stroke:#000000; stroke-linecap:butt; stroke-linejoin:round; stroke-width:4; stroke-opacity:1; fill:none\" points=\"\n",
       "  344.306,1486.45 344.306,123.472 \n",
       "  \"/>\n",
       "<polyline clip-path=\"url(#clip130)\" style=\"stroke:#000000; stroke-linecap:butt; stroke-linejoin:round; stroke-width:4; stroke-opacity:1; fill:none\" points=\"\n",
       "  344.306,1306.76 363.203,1306.76 \n",
       "  \"/>\n",
       "<polyline clip-path=\"url(#clip130)\" style=\"stroke:#000000; stroke-linecap:butt; stroke-linejoin:round; stroke-width:4; stroke-opacity:1; fill:none\" points=\"\n",
       "  344.306,1175.85 363.203,1175.85 \n",
       "  \"/>\n",
       "<polyline clip-path=\"url(#clip130)\" style=\"stroke:#000000; stroke-linecap:butt; stroke-linejoin:round; stroke-width:4; stroke-opacity:1; fill:none\" points=\"\n",
       "  344.306,1044.95 363.203,1044.95 \n",
       "  \"/>\n",
       "<polyline clip-path=\"url(#clip130)\" style=\"stroke:#000000; stroke-linecap:butt; stroke-linejoin:round; stroke-width:4; stroke-opacity:1; fill:none\" points=\"\n",
       "  344.306,914.047 363.203,914.047 \n",
       "  \"/>\n",
       "<polyline clip-path=\"url(#clip130)\" style=\"stroke:#000000; stroke-linecap:butt; stroke-linejoin:round; stroke-width:4; stroke-opacity:1; fill:none\" points=\"\n",
       "  344.306,783.143 363.203,783.143 \n",
       "  \"/>\n",
       "<polyline clip-path=\"url(#clip130)\" style=\"stroke:#000000; stroke-linecap:butt; stroke-linejoin:round; stroke-width:4; stroke-opacity:1; fill:none\" points=\"\n",
       "  344.306,652.239 363.203,652.239 \n",
       "  \"/>\n",
       "<polyline clip-path=\"url(#clip130)\" style=\"stroke:#000000; stroke-linecap:butt; stroke-linejoin:round; stroke-width:4; stroke-opacity:1; fill:none\" points=\"\n",
       "  344.306,521.335 363.203,521.335 \n",
       "  \"/>\n",
       "<polyline clip-path=\"url(#clip130)\" style=\"stroke:#000000; stroke-linecap:butt; stroke-linejoin:round; stroke-width:4; stroke-opacity:1; fill:none\" points=\"\n",
       "  344.306,390.431 363.203,390.431 \n",
       "  \"/>\n",
       "<polyline clip-path=\"url(#clip130)\" style=\"stroke:#000000; stroke-linecap:butt; stroke-linejoin:round; stroke-width:4; stroke-opacity:1; fill:none\" points=\"\n",
       "  344.306,259.527 363.203,259.527 \n",
       "  \"/>\n",
       "<path clip-path=\"url(#clip130)\" d=\"M151.57 1288.02 L151.57 1291.56 L147.496 1291.56 Q145.205 1291.56 144.302 1292.49 Q143.422 1293.41 143.422 1295.82 L143.422 1298.11 L150.436 1298.11 L150.436 1301.42 L143.422 1301.42 L143.422 1324.04 L139.14 1324.04 L139.14 1301.42 L135.066 1301.42 L135.066 1298.11 L139.14 1298.11 L139.14 1296.31 Q139.14 1291.98 141.154 1290.01 Q143.168 1288.02 147.543 1288.02 L151.57 1288.02 Z\" fill=\"#000000\" fill-rule=\"evenodd\" fill-opacity=\"1\" /><path clip-path=\"url(#clip130)\" d=\"M165.181 1301.1 Q161.755 1301.1 159.765 1303.78 Q157.774 1306.45 157.774 1311.1 Q157.774 1315.75 159.742 1318.44 Q161.732 1321.1 165.181 1321.1 Q168.584 1321.1 170.575 1318.41 Q172.566 1315.73 172.566 1311.1 Q172.566 1306.49 170.575 1303.81 Q168.584 1301.1 165.181 1301.1 M165.181 1297.49 Q170.737 1297.49 173.908 1301.1 Q177.079 1304.71 177.079 1311.1 Q177.079 1317.46 173.908 1321.1 Q170.737 1324.71 165.181 1324.71 Q159.603 1324.71 156.431 1321.1 Q153.283 1317.46 153.283 1311.1 Q153.283 1304.71 156.431 1301.1 Q159.603 1297.49 165.181 1297.49 Z\" fill=\"#000000\" fill-rule=\"evenodd\" fill-opacity=\"1\" /><path clip-path=\"url(#clip130)\" d=\"M194.186 1301.1 Q190.76 1301.1 188.769 1303.78 Q186.778 1306.45 186.778 1311.1 Q186.778 1315.75 188.746 1318.44 Q190.737 1321.1 194.186 1321.1 Q197.589 1321.1 199.579 1318.41 Q201.57 1315.73 201.57 1311.1 Q201.57 1306.49 199.579 1303.81 Q197.589 1301.1 194.186 1301.1 M194.186 1297.49 Q199.741 1297.49 202.913 1301.1 Q206.084 1304.71 206.084 1311.1 Q206.084 1317.46 202.913 1321.1 Q199.741 1324.71 194.186 1324.71 Q188.607 1324.71 185.436 1321.1 Q182.288 1317.46 182.288 1311.1 Q182.288 1304.71 185.436 1301.1 Q188.607 1297.49 194.186 1297.49 Z\" fill=\"#000000\" fill-rule=\"evenodd\" fill-opacity=\"1\" /><path clip-path=\"url(#clip130)\" d=\"M217.357 1290.75 L217.357 1298.11 L226.13 1298.11 L226.13 1301.42 L217.357 1301.42 L217.357 1315.5 Q217.357 1318.67 218.213 1319.57 Q219.093 1320.47 221.755 1320.47 L226.13 1320.47 L226.13 1324.04 L221.755 1324.04 Q216.825 1324.04 214.95 1322.21 Q213.075 1320.36 213.075 1315.5 L213.075 1301.42 L209.95 1301.42 L209.95 1298.11 L213.075 1298.11 L213.075 1290.75 L217.357 1290.75 Z\" fill=\"#000000\" fill-rule=\"evenodd\" fill-opacity=\"1\" /><path clip-path=\"url(#clip130)\" d=\"M250.343 1311.1 Q250.343 1306.4 248.398 1303.74 Q246.477 1301.05 243.098 1301.05 Q239.718 1301.05 237.774 1303.74 Q235.852 1306.4 235.852 1311.1 Q235.852 1315.8 237.774 1318.48 Q239.718 1321.15 243.098 1321.15 Q246.477 1321.15 248.398 1318.48 Q250.343 1315.8 250.343 1311.1 M235.852 1302.05 Q237.195 1299.73 239.232 1298.62 Q241.292 1297.49 244.139 1297.49 Q248.861 1297.49 251.801 1301.24 Q254.764 1304.99 254.764 1311.1 Q254.764 1317.21 251.801 1320.96 Q248.861 1324.71 244.139 1324.71 Q241.292 1324.71 239.232 1323.6 Q237.195 1322.46 235.852 1320.15 L235.852 1324.04 L231.57 1324.04 L231.57 1288.02 L235.852 1288.02 L235.852 1302.05 Z\" fill=\"#000000\" fill-rule=\"evenodd\" fill-opacity=\"1\" /><path clip-path=\"url(#clip130)\" d=\"M273.607 1311.01 Q268.445 1311.01 266.454 1312.19 Q264.463 1313.37 264.463 1316.21 Q264.463 1318.48 265.945 1319.83 Q267.449 1321.15 270.019 1321.15 Q273.56 1321.15 275.69 1318.65 Q277.843 1316.12 277.843 1311.96 L277.843 1311.01 L273.607 1311.01 M282.102 1309.25 L282.102 1324.04 L277.843 1324.04 L277.843 1320.1 Q276.384 1322.46 274.209 1323.6 Q272.033 1324.71 268.884 1324.71 Q264.903 1324.71 262.542 1322.49 Q260.204 1320.24 260.204 1316.49 Q260.204 1312.12 263.121 1309.9 Q266.06 1307.67 271.871 1307.67 L277.843 1307.67 L277.843 1307.26 Q277.843 1304.32 275.898 1302.72 Q273.977 1301.1 270.482 1301.1 Q268.259 1301.1 266.153 1301.63 Q264.047 1302.16 262.102 1303.23 L262.102 1299.29 Q264.44 1298.39 266.639 1297.95 Q268.838 1297.49 270.922 1297.49 Q276.546 1297.49 279.324 1300.4 Q282.102 1303.32 282.102 1309.25 Z\" fill=\"#000000\" fill-rule=\"evenodd\" fill-opacity=\"1\" /><path clip-path=\"url(#clip130)\" d=\"M290.875 1288.02 L295.134 1288.02 L295.134 1324.04 L290.875 1324.04 L290.875 1288.02 Z\" fill=\"#000000\" fill-rule=\"evenodd\" fill-opacity=\"1\" /><path clip-path=\"url(#clip130)\" d=\"M304.046 1288.02 L308.306 1288.02 L308.306 1324.04 L304.046 1324.04 L304.046 1288.02 Z\" fill=\"#000000\" fill-rule=\"evenodd\" fill-opacity=\"1\" /><path clip-path=\"url(#clip130)\" d=\"M167.635 1177.49 L167.635 1193.13 L163.376 1193.13 L163.376 1177.63 Q163.376 1173.94 161.941 1172.12 Q160.505 1170.29 157.635 1170.29 Q154.186 1170.29 152.195 1172.49 Q150.205 1174.69 150.205 1178.48 L150.205 1193.13 L145.922 1193.13 L145.922 1157.12 L150.205 1157.12 L150.205 1171.24 Q151.732 1168.9 153.793 1167.74 Q155.876 1166.58 158.584 1166.58 Q163.052 1166.58 165.343 1169.36 Q167.635 1172.12 167.635 1177.49 Z\" fill=\"#000000\" fill-rule=\"evenodd\" fill-opacity=\"1\" /><path clip-path=\"url(#clip130)\" d=\"M186.177 1170.19 Q182.751 1170.19 180.76 1172.88 Q178.769 1175.54 178.769 1180.19 Q178.769 1184.85 180.737 1187.53 Q182.728 1190.19 186.177 1190.19 Q189.579 1190.19 191.57 1187.51 Q193.561 1184.82 193.561 1180.19 Q193.561 1175.59 191.57 1172.9 Q189.579 1170.19 186.177 1170.19 M186.177 1166.58 Q191.732 1166.58 194.903 1170.19 Q198.075 1173.81 198.075 1180.19 Q198.075 1186.56 194.903 1190.19 Q191.732 1193.81 186.177 1193.81 Q180.598 1193.81 177.427 1190.19 Q174.279 1186.56 174.279 1180.19 Q174.279 1173.81 177.427 1170.19 Q180.598 1166.58 186.177 1166.58 Z\" fill=\"#000000\" fill-rule=\"evenodd\" fill-opacity=\"1\" /><path clip-path=\"url(#clip130)\" d=\"M223.792 1168.2 L223.792 1172.19 Q221.987 1171.19 220.158 1170.7 Q218.352 1170.19 216.5 1170.19 Q212.357 1170.19 210.065 1172.83 Q207.774 1175.45 207.774 1180.19 Q207.774 1184.94 210.065 1187.58 Q212.357 1190.19 216.5 1190.19 Q218.352 1190.19 220.158 1189.71 Q221.987 1189.2 223.792 1188.2 L223.792 1192.14 Q222.01 1192.97 220.088 1193.39 Q218.19 1193.81 216.038 1193.81 Q210.181 1193.81 206.732 1190.13 Q203.283 1186.44 203.283 1180.19 Q203.283 1173.85 206.755 1170.22 Q210.251 1166.58 216.315 1166.58 Q218.283 1166.58 220.158 1167 Q222.033 1167.39 223.792 1168.2 Z\" fill=\"#000000\" fill-rule=\"evenodd\" fill-opacity=\"1\" /><path clip-path=\"url(#clip130)\" d=\"M231.037 1157.12 L235.32 1157.12 L235.32 1178.39 L248.028 1167.21 L253.468 1167.21 L239.718 1179.34 L254.047 1193.13 L248.491 1193.13 L235.32 1180.47 L235.32 1193.13 L231.037 1193.13 L231.037 1157.12 Z\" fill=\"#000000\" fill-rule=\"evenodd\" fill-opacity=\"1\" /><path clip-path=\"url(#clip130)\" d=\"M279.139 1179.11 L279.139 1181.19 L259.556 1181.19 Q259.834 1185.59 262.195 1187.9 Q264.579 1190.19 268.815 1190.19 Q271.269 1190.19 273.56 1189.59 Q275.875 1188.99 278.144 1187.79 L278.144 1191.82 Q275.852 1192.79 273.445 1193.3 Q271.037 1193.81 268.56 1193.81 Q262.357 1193.81 258.722 1190.19 Q255.111 1186.58 255.111 1180.43 Q255.111 1174.06 258.537 1170.33 Q261.986 1166.58 267.82 1166.58 Q273.051 1166.58 276.084 1169.96 Q279.139 1173.32 279.139 1179.11 M274.88 1177.86 Q274.834 1174.36 272.912 1172.28 Q271.014 1170.19 267.866 1170.19 Q264.301 1170.19 262.148 1172.21 Q260.019 1174.22 259.695 1177.88 L274.88 1177.86 Z\" fill=\"#000000\" fill-rule=\"evenodd\" fill-opacity=\"1\" /><path clip-path=\"url(#clip130)\" d=\"M296.917 1195.54 Q295.111 1200.17 293.398 1201.58 Q291.685 1203 288.815 1203 L285.412 1203 L285.412 1199.43 L287.912 1199.43 Q289.671 1199.43 290.644 1198.6 Q291.616 1197.76 292.796 1194.66 L293.56 1192.72 L283.074 1167.21 L287.588 1167.21 L295.69 1187.49 L303.792 1167.21 L308.306 1167.21 L296.917 1195.54 Z\" fill=\"#000000\" fill-rule=\"evenodd\" fill-opacity=\"1\" /><path clip-path=\"url(#clip130)\" d=\"M213.051 1036.3 L217.311 1036.3 L217.311 1062.69 Q217.311 1067.65 215.413 1069.87 Q213.538 1072.09 209.348 1072.09 L207.727 1072.09 L207.727 1068.48 L208.862 1068.48 Q211.292 1068.48 212.172 1067.35 Q213.051 1066.24 213.051 1062.69 L213.051 1036.3 M213.051 1026.21 L217.311 1026.21 L217.311 1031.61 L213.051 1031.61 L213.051 1026.21 Z\" fill=\"#000000\" fill-rule=\"evenodd\" fill-opacity=\"1\" /><path clip-path=\"url(#clip130)\" d=\"M225.783 1052 L225.783 1036.3 L230.042 1036.3 L230.042 1051.84 Q230.042 1055.52 231.477 1057.37 Q232.912 1059.2 235.783 1059.2 Q239.232 1059.2 241.223 1057 Q243.236 1054.8 243.236 1051 L243.236 1036.3 L247.496 1036.3 L247.496 1062.23 L243.236 1062.23 L243.236 1058.25 Q241.686 1060.61 239.625 1061.77 Q237.588 1062.9 234.88 1062.9 Q230.412 1062.9 228.098 1060.12 Q225.783 1057.35 225.783 1052 M236.5 1035.68 L236.5 1035.68 Z\" fill=\"#000000\" fill-rule=\"evenodd\" fill-opacity=\"1\" /><path clip-path=\"url(#clip130)\" d=\"M273.329 1040.24 L273.329 1026.21 L277.588 1026.21 L277.588 1062.23 L273.329 1062.23 L273.329 1058.34 Q271.986 1060.66 269.926 1061.79 Q267.889 1062.9 265.019 1062.9 Q260.32 1062.9 257.357 1059.15 Q254.417 1055.4 254.417 1049.29 Q254.417 1043.18 257.357 1039.43 Q260.32 1035.68 265.019 1035.68 Q267.889 1035.68 269.926 1036.81 Q271.986 1037.93 273.329 1040.24 M258.815 1049.29 Q258.815 1053.99 260.736 1056.68 Q262.681 1059.34 266.06 1059.34 Q269.44 1059.34 271.384 1056.68 Q273.329 1053.99 273.329 1049.29 Q273.329 1044.59 271.384 1041.93 Q269.44 1039.24 266.06 1039.24 Q262.681 1039.24 260.736 1041.93 Q258.815 1044.59 258.815 1049.29 Z\" fill=\"#000000\" fill-rule=\"evenodd\" fill-opacity=\"1\" /><path clip-path=\"url(#clip130)\" d=\"M296.407 1039.29 Q292.982 1039.29 290.991 1041.98 Q289 1044.64 289 1049.29 Q289 1053.94 290.968 1056.63 Q292.958 1059.29 296.407 1059.29 Q299.81 1059.29 301.801 1056.61 Q303.792 1053.92 303.792 1049.29 Q303.792 1044.68 301.801 1042 Q299.81 1039.29 296.407 1039.29 M296.407 1035.68 Q301.963 1035.68 305.134 1039.29 Q308.306 1042.9 308.306 1049.29 Q308.306 1055.66 305.134 1059.29 Q301.963 1062.9 296.407 1062.9 Q290.829 1062.9 287.658 1059.29 Q284.509 1055.66 284.509 1049.29 Q284.509 1042.9 287.658 1039.29 Q290.829 1035.68 296.407 1035.68 Z\" fill=\"#000000\" fill-rule=\"evenodd\" fill-opacity=\"1\" /><path clip-path=\"url(#clip130)\" d=\"M173.584 898.04 L173.584 905.401 L182.357 905.401 L182.357 908.711 L173.584 908.711 L173.584 922.785 Q173.584 925.956 174.441 926.859 Q175.32 927.762 177.982 927.762 L182.357 927.762 L182.357 931.327 L177.982 931.327 Q173.052 931.327 171.177 929.498 Q169.302 927.646 169.302 922.785 L169.302 908.711 L166.177 908.711 L166.177 905.401 L169.302 905.401 L169.302 898.04 L173.584 898.04 Z\" fill=\"#000000\" fill-rule=\"evenodd\" fill-opacity=\"1\" /><path clip-path=\"url(#clip130)\" d=\"M210.135 917.299 L210.135 919.382 L190.552 919.382 Q190.829 923.78 193.19 926.095 Q195.575 928.387 199.811 928.387 Q202.264 928.387 204.556 927.785 Q206.871 927.183 209.139 925.979 L209.139 930.007 Q206.848 930.979 204.44 931.489 Q202.033 931.998 199.556 931.998 Q193.352 931.998 189.718 928.387 Q186.107 924.776 186.107 918.618 Q186.107 912.253 189.533 908.526 Q192.982 904.776 198.815 904.776 Q204.047 904.776 207.079 908.155 Q210.135 911.512 210.135 917.299 M205.876 916.049 Q205.829 912.554 203.908 910.47 Q202.01 908.387 198.862 908.387 Q195.297 908.387 193.144 910.401 Q191.015 912.415 190.69 916.072 L205.876 916.049 Z\" fill=\"#000000\" fill-rule=\"evenodd\" fill-opacity=\"1\" /><path clip-path=\"url(#clip130)\" d=\"M238.676 915.679 L238.676 931.327 L234.417 931.327 L234.417 915.817 Q234.417 912.137 232.982 910.308 Q231.547 908.48 228.676 908.48 Q225.227 908.48 223.237 910.679 Q221.246 912.878 221.246 916.674 L221.246 931.327 L216.963 931.327 L216.963 905.401 L221.246 905.401 L221.246 909.429 Q222.774 907.091 224.834 905.933 Q226.917 904.776 229.625 904.776 Q234.093 904.776 236.385 907.554 Q238.676 910.308 238.676 915.679 Z\" fill=\"#000000\" fill-rule=\"evenodd\" fill-opacity=\"1\" /><path clip-path=\"url(#clip130)\" d=\"M268.722 915.679 L268.722 931.327 L264.463 931.327 L264.463 915.817 Q264.463 912.137 263.028 910.308 Q261.593 908.48 258.722 908.48 Q255.273 908.48 253.283 910.679 Q251.292 912.878 251.292 916.674 L251.292 931.327 L247.01 931.327 L247.01 905.401 L251.292 905.401 L251.292 909.429 Q252.82 907.091 254.88 905.933 Q256.963 904.776 259.672 904.776 Q264.139 904.776 266.431 907.554 Q268.722 910.308 268.722 915.679 Z\" fill=\"#000000\" fill-rule=\"evenodd\" fill-opacity=\"1\" /><path clip-path=\"url(#clip130)\" d=\"M277.218 905.401 L281.477 905.401 L281.477 931.327 L277.218 931.327 L277.218 905.401 M277.218 895.308 L281.477 895.308 L281.477 900.702 L277.218 900.702 L277.218 895.308 Z\" fill=\"#000000\" fill-rule=\"evenodd\" fill-opacity=\"1\" /><path clip-path=\"url(#clip130)\" d=\"M306.917 906.165 L306.917 910.193 Q305.111 909.267 303.167 908.804 Q301.222 908.341 299.139 908.341 Q295.968 908.341 294.37 909.313 Q292.796 910.285 292.796 912.23 Q292.796 913.711 293.931 914.567 Q295.065 915.401 298.491 916.165 L299.949 916.489 Q304.486 917.461 306.384 919.243 Q308.306 921.003 308.306 924.174 Q308.306 927.785 305.435 929.891 Q302.588 931.998 297.588 931.998 Q295.505 931.998 293.236 931.581 Q290.991 931.188 288.491 930.378 L288.491 925.979 Q290.852 927.206 293.144 927.831 Q295.435 928.433 297.681 928.433 Q300.69 928.433 302.31 927.415 Q303.931 926.373 303.931 924.498 Q303.931 922.762 302.75 921.836 Q301.593 920.91 297.634 920.054 L296.153 919.706 Q292.195 918.873 290.435 917.16 Q288.676 915.424 288.676 912.415 Q288.676 908.757 291.269 906.767 Q293.861 904.776 298.63 904.776 Q300.991 904.776 303.074 905.123 Q305.157 905.47 306.917 906.165 Z\" fill=\"#000000\" fill-rule=\"evenodd\" fill-opacity=\"1\" /><path clip-path=\"url(#clip130)\" d=\"M190.621 775.492 L190.621 779.474 Q188.815 778.478 186.987 777.992 Q185.181 777.483 183.329 777.483 Q179.186 777.483 176.894 780.122 Q174.603 782.738 174.603 787.483 Q174.603 792.228 176.894 794.867 Q179.186 797.483 183.329 797.483 Q185.181 797.483 186.987 796.997 Q188.815 796.488 190.621 795.492 L190.621 799.427 Q188.839 800.261 186.917 800.677 Q185.019 801.094 182.866 801.094 Q177.01 801.094 173.561 797.413 Q170.112 793.733 170.112 787.483 Q170.112 781.14 173.584 777.506 Q177.079 773.872 183.144 773.872 Q185.112 773.872 186.987 774.289 Q188.862 774.682 190.621 775.492 Z\" fill=\"#000000\" fill-rule=\"evenodd\" fill-opacity=\"1\" /><path clip-path=\"url(#clip130)\" d=\"M209.811 787.39 Q204.649 787.39 202.658 788.571 Q200.667 789.751 200.667 792.599 Q200.667 794.867 202.149 796.21 Q203.653 797.529 206.223 797.529 Q209.764 797.529 211.894 795.029 Q214.047 792.506 214.047 788.339 L214.047 787.39 L209.811 787.39 M218.306 785.631 L218.306 800.423 L214.047 800.423 L214.047 796.488 Q212.588 798.849 210.413 799.983 Q208.237 801.094 205.089 801.094 Q201.107 801.094 198.746 798.872 Q196.408 796.626 196.408 792.876 Q196.408 788.501 199.325 786.279 Q202.264 784.057 208.075 784.057 L214.047 784.057 L214.047 783.64 Q214.047 780.701 212.102 779.103 Q210.181 777.483 206.686 777.483 Q204.464 777.483 202.357 778.015 Q200.251 778.548 198.306 779.613 L198.306 775.677 Q200.644 774.775 202.843 774.335 Q205.042 773.872 207.126 773.872 Q212.751 773.872 215.528 776.789 Q218.306 779.705 218.306 785.631 Z\" fill=\"#000000\" fill-rule=\"evenodd\" fill-opacity=\"1\" /><path clip-path=\"url(#clip130)\" d=\"M248.63 784.775 L248.63 800.423 L244.371 800.423 L244.371 784.913 Q244.371 781.233 242.936 779.404 Q241.5 777.576 238.63 777.576 Q235.181 777.576 233.19 779.775 Q231.199 781.974 231.199 785.77 L231.199 800.423 L226.917 800.423 L226.917 774.497 L231.199 774.497 L231.199 778.525 Q232.727 776.187 234.787 775.029 Q236.871 773.872 239.579 773.872 Q244.047 773.872 246.338 776.65 Q248.63 779.404 248.63 784.775 Z\" fill=\"#000000\" fill-rule=\"evenodd\" fill-opacity=\"1\" /><path clip-path=\"url(#clip130)\" d=\"M267.172 777.483 Q263.746 777.483 261.755 780.168 Q259.764 782.83 259.764 787.483 Q259.764 792.136 261.732 794.821 Q263.722 797.483 267.172 797.483 Q270.574 797.483 272.565 794.798 Q274.556 792.113 274.556 787.483 Q274.556 782.876 272.565 780.191 Q270.574 777.483 267.172 777.483 M267.172 773.872 Q272.727 773.872 275.898 777.483 Q279.07 781.094 279.07 787.483 Q279.07 793.849 275.898 797.483 Q272.727 801.094 267.172 801.094 Q261.593 801.094 258.422 797.483 Q255.273 793.849 255.273 787.483 Q255.273 781.094 258.422 777.483 Q261.593 773.872 267.172 773.872 Z\" fill=\"#000000\" fill-rule=\"evenodd\" fill-opacity=\"1\" /><path clip-path=\"url(#clip130)\" d=\"M308.306 786.395 L308.306 788.478 L288.722 788.478 Q289 792.876 291.361 795.191 Q293.745 797.483 297.982 797.483 Q300.435 797.483 302.727 796.881 Q305.042 796.279 307.31 795.075 L307.31 799.103 Q305.019 800.075 302.611 800.585 Q300.204 801.094 297.727 801.094 Q291.523 801.094 287.889 797.483 Q284.278 793.872 284.278 787.714 Q284.278 781.349 287.704 777.622 Q291.153 773.872 296.986 773.872 Q302.218 773.872 305.25 777.251 Q308.306 780.608 308.306 786.395 M304.046 785.145 Q304 781.65 302.079 779.566 Q300.181 777.483 297.032 777.483 Q293.468 777.483 291.315 779.497 Q289.185 781.511 288.861 785.168 L304.046 785.145 Z\" fill=\"#000000\" fill-rule=\"evenodd\" fill-opacity=\"1\" /><path clip-path=\"url(#clip130)\" d=\"M124.325 656.486 Q119.163 656.486 117.172 657.667 Q115.182 658.847 115.182 661.695 Q115.182 663.963 116.663 665.306 Q118.168 666.625 120.737 666.625 Q124.279 666.625 126.408 664.125 Q128.561 661.602 128.561 657.435 L128.561 656.486 L124.325 656.486 M132.82 654.727 L132.82 669.519 L128.561 669.519 L128.561 665.584 Q127.103 667.945 124.927 669.079 Q122.751 670.19 119.603 670.19 Q115.621 670.19 113.26 667.968 Q110.922 665.722 110.922 661.972 Q110.922 657.597 113.839 655.375 Q116.779 653.153 122.589 653.153 L128.561 653.153 L128.561 652.736 Q128.561 649.797 126.617 648.199 Q124.695 646.579 121.2 646.579 Q118.978 646.579 116.871 647.111 Q114.765 647.644 112.82 648.709 L112.82 644.773 Q115.158 643.871 117.358 643.431 Q119.557 642.968 121.64 642.968 Q127.265 642.968 130.043 645.885 Q132.82 648.801 132.82 654.727 Z\" fill=\"#000000\" fill-rule=\"evenodd\" fill-opacity=\"1\" /><path clip-path=\"url(#clip130)\" d=\"M145.806 636.232 L145.806 643.593 L154.58 643.593 L154.58 646.903 L145.806 646.903 L145.806 660.977 Q145.806 664.148 146.663 665.051 Q147.543 665.954 150.205 665.954 L154.58 665.954 L154.58 669.519 L150.205 669.519 Q145.274 669.519 143.399 667.69 Q141.524 665.838 141.524 660.977 L141.524 646.903 L138.399 646.903 L138.399 643.593 L141.524 643.593 L141.524 636.232 L145.806 636.232 Z\" fill=\"#000000\" fill-rule=\"evenodd\" fill-opacity=\"1\" /><path clip-path=\"url(#clip130)\" d=\"M181.732 653.871 L181.732 669.519 L177.473 669.519 L177.473 654.01 Q177.473 650.329 176.038 648.5 Q174.603 646.672 171.732 646.672 Q168.283 646.672 166.292 648.871 Q164.302 651.07 164.302 654.866 L164.302 669.519 L160.019 669.519 L160.019 633.5 L164.302 633.5 L164.302 647.621 Q165.829 645.283 167.89 644.125 Q169.973 642.968 172.681 642.968 Q177.149 642.968 179.441 645.746 Q181.732 648.5 181.732 653.871 Z\" fill=\"#000000\" fill-rule=\"evenodd\" fill-opacity=\"1\" /><path clip-path=\"url(#clip130)\" d=\"M190.227 633.5 L194.487 633.5 L194.487 669.519 L190.227 669.519 L190.227 633.5 Z\" fill=\"#000000\" fill-rule=\"evenodd\" fill-opacity=\"1\" /><path clip-path=\"url(#clip130)\" d=\"M225.575 655.491 L225.575 657.574 L205.991 657.574 Q206.269 661.972 208.63 664.287 Q211.014 666.579 215.251 666.579 Q217.704 666.579 219.996 665.977 Q222.311 665.375 224.579 664.171 L224.579 668.199 Q222.288 669.171 219.88 669.681 Q217.473 670.19 214.996 670.19 Q208.792 670.19 205.158 666.579 Q201.547 662.968 201.547 656.81 Q201.547 650.445 204.973 646.718 Q208.422 642.968 214.255 642.968 Q219.487 642.968 222.519 646.348 Q225.575 649.704 225.575 655.491 M221.315 654.241 Q221.269 650.746 219.348 648.662 Q217.45 646.579 214.301 646.579 Q210.737 646.579 208.584 648.593 Q206.454 650.607 206.13 654.264 L221.315 654.241 Z\" fill=\"#000000\" fill-rule=\"evenodd\" fill-opacity=\"1\" /><path clip-path=\"url(#clip130)\" d=\"M236.778 636.232 L236.778 643.593 L245.551 643.593 L245.551 646.903 L236.778 646.903 L236.778 660.977 Q236.778 664.148 237.635 665.051 Q238.514 665.954 241.176 665.954 L245.551 665.954 L245.551 669.519 L241.176 669.519 Q236.246 669.519 234.371 667.69 Q232.496 665.838 232.496 660.977 L232.496 646.903 L229.371 646.903 L229.371 643.593 L232.496 643.593 L232.496 636.232 L236.778 636.232 Z\" fill=\"#000000\" fill-rule=\"evenodd\" fill-opacity=\"1\" /><path clip-path=\"url(#clip130)\" d=\"M251.153 643.593 L255.412 643.593 L255.412 669.519 L251.153 669.519 L251.153 643.593 M251.153 633.5 L255.412 633.5 L255.412 638.894 L251.153 638.894 L251.153 633.5 Z\" fill=\"#000000\" fill-rule=\"evenodd\" fill-opacity=\"1\" /><path clip-path=\"url(#clip130)\" d=\"M282.982 644.588 L282.982 648.57 Q281.176 647.574 279.347 647.088 Q277.542 646.579 275.69 646.579 Q271.546 646.579 269.255 649.218 Q266.963 651.834 266.963 656.579 Q266.963 661.324 269.255 663.963 Q271.546 666.579 275.69 666.579 Q277.542 666.579 279.347 666.093 Q281.176 665.584 282.982 664.588 L282.982 668.523 Q281.199 669.357 279.278 669.773 Q277.38 670.19 275.227 670.19 Q269.371 670.19 265.922 666.509 Q262.472 662.829 262.472 656.579 Q262.472 650.236 265.945 646.602 Q269.44 642.968 275.505 642.968 Q277.472 642.968 279.347 643.385 Q281.222 643.778 282.982 644.588 Z\" fill=\"#000000\" fill-rule=\"evenodd\" fill-opacity=\"1\" /><path clip-path=\"url(#clip130)\" d=\"M306.917 644.357 L306.917 648.385 Q305.111 647.459 303.167 646.996 Q301.222 646.533 299.139 646.533 Q295.968 646.533 294.37 647.505 Q292.796 648.477 292.796 650.422 Q292.796 651.903 293.931 652.76 Q295.065 653.593 298.491 654.357 L299.949 654.681 Q304.486 655.653 306.384 657.435 Q308.306 659.195 308.306 662.366 Q308.306 665.977 305.435 668.084 Q302.588 670.19 297.588 670.19 Q295.505 670.19 293.236 669.773 Q290.991 669.38 288.491 668.57 L288.491 664.171 Q290.852 665.398 293.144 666.023 Q295.435 666.625 297.681 666.625 Q300.69 666.625 302.31 665.607 Q303.931 664.565 303.931 662.69 Q303.931 660.954 302.75 660.028 Q301.593 659.102 297.634 658.246 L296.153 657.898 Q292.195 657.065 290.435 655.352 Q288.676 653.616 288.676 650.607 Q288.676 646.949 291.269 644.959 Q293.861 642.968 298.63 642.968 Q300.991 642.968 303.074 643.315 Q305.157 643.662 306.917 644.357 Z\" fill=\"#000000\" fill-rule=\"evenodd\" fill-opacity=\"1\" /><path clip-path=\"url(#clip130)\" d=\"M180.204 513.453 L180.204 517.481 Q178.399 516.555 176.454 516.092 Q174.51 515.629 172.427 515.629 Q169.255 515.629 167.658 516.601 Q166.084 517.573 166.084 519.518 Q166.084 520.999 167.218 521.856 Q168.353 522.689 171.779 523.453 L173.237 523.777 Q177.774 524.749 179.672 526.531 Q181.593 528.291 181.593 531.462 Q181.593 535.073 178.723 537.18 Q175.876 539.286 170.876 539.286 Q168.792 539.286 166.524 538.869 Q164.279 538.476 161.779 537.666 L161.779 533.268 Q164.14 534.494 166.431 535.119 Q168.723 535.721 170.968 535.721 Q173.978 535.721 175.598 534.703 Q177.218 533.661 177.218 531.786 Q177.218 530.05 176.038 529.124 Q174.88 528.198 170.922 527.342 L169.441 526.994 Q165.482 526.161 163.723 524.448 Q161.964 522.712 161.964 519.703 Q161.964 516.045 164.556 514.055 Q167.149 512.064 171.917 512.064 Q174.279 512.064 176.362 512.411 Q178.445 512.758 180.204 513.453 Z\" fill=\"#000000\" fill-rule=\"evenodd\" fill-opacity=\"1\" /><path clip-path=\"url(#clip130)\" d=\"M200.158 525.582 Q194.996 525.582 193.005 526.763 Q191.015 527.943 191.015 530.791 Q191.015 533.059 192.496 534.402 Q194.001 535.721 196.57 535.721 Q200.112 535.721 202.241 533.221 Q204.394 530.698 204.394 526.531 L204.394 525.582 L200.158 525.582 M208.653 523.823 L208.653 538.615 L204.394 538.615 L204.394 534.68 Q202.936 537.041 200.76 538.175 Q198.584 539.286 195.436 539.286 Q191.454 539.286 189.093 537.064 Q186.755 534.818 186.755 531.068 Q186.755 526.693 189.672 524.471 Q192.612 522.249 198.422 522.249 L204.394 522.249 L204.394 521.832 Q204.394 518.893 202.45 517.295 Q200.528 515.675 197.033 515.675 Q194.811 515.675 192.704 516.207 Q190.598 516.74 188.653 517.805 L188.653 513.869 Q190.991 512.967 193.19 512.527 Q195.39 512.064 197.473 512.064 Q203.098 512.064 205.876 514.981 Q208.653 517.897 208.653 523.823 Z\" fill=\"#000000\" fill-rule=\"evenodd\" fill-opacity=\"1\" /><path clip-path=\"url(#clip130)\" d=\"M217.426 512.689 L221.686 512.689 L221.686 538.615 L217.426 538.615 L217.426 512.689 M217.426 502.596 L221.686 502.596 L221.686 507.99 L217.426 507.99 L217.426 502.596 Z\" fill=\"#000000\" fill-rule=\"evenodd\" fill-opacity=\"1\" /><path clip-path=\"url(#clip130)\" d=\"M230.598 502.596 L234.857 502.596 L234.857 538.615 L230.598 538.615 L230.598 502.596 Z\" fill=\"#000000\" fill-rule=\"evenodd\" fill-opacity=\"1\" /><path clip-path=\"url(#clip130)\" d=\"M243.769 512.689 L248.028 512.689 L248.028 538.615 L243.769 538.615 L243.769 512.689 M243.769 502.596 L248.028 502.596 L248.028 507.99 L243.769 507.99 L243.769 502.596 Z\" fill=\"#000000\" fill-rule=\"evenodd\" fill-opacity=\"1\" /><path clip-path=\"url(#clip130)\" d=\"M278.491 522.967 L278.491 538.615 L274.232 538.615 L274.232 523.106 Q274.232 519.425 272.796 517.596 Q271.361 515.768 268.491 515.768 Q265.042 515.768 263.051 517.967 Q261.06 520.166 261.06 523.962 L261.06 538.615 L256.778 538.615 L256.778 512.689 L261.06 512.689 L261.06 516.717 Q262.588 514.379 264.648 513.221 Q266.732 512.064 269.44 512.064 Q273.908 512.064 276.199 514.842 Q278.491 517.596 278.491 522.967 Z\" fill=\"#000000\" fill-rule=\"evenodd\" fill-opacity=\"1\" /><path clip-path=\"url(#clip130)\" d=\"M304.046 525.351 Q304.046 520.721 302.125 518.175 Q300.227 515.629 296.778 515.629 Q293.352 515.629 291.431 518.175 Q289.533 520.721 289.533 525.351 Q289.533 529.957 291.431 532.504 Q293.352 535.05 296.778 535.05 Q300.227 535.05 302.125 532.504 Q304.046 529.957 304.046 525.351 M308.306 535.397 Q308.306 542.017 305.366 545.235 Q302.426 548.476 296.361 548.476 Q294.116 548.476 292.125 548.129 Q290.134 547.804 288.259 547.11 L288.259 542.967 Q290.134 543.985 291.963 544.471 Q293.792 544.957 295.69 544.957 Q299.88 544.957 301.963 542.758 Q304.046 540.582 304.046 536.161 L304.046 534.055 Q302.727 536.346 300.667 537.48 Q298.607 538.615 295.736 538.615 Q290.968 538.615 288.051 534.98 Q285.134 531.346 285.134 525.351 Q285.134 519.332 288.051 515.698 Q290.968 512.064 295.736 512.064 Q298.607 512.064 300.667 513.198 Q302.727 514.332 304.046 516.624 L304.046 512.689 L308.306 512.689 L308.306 535.397 Z\" fill=\"#000000\" fill-rule=\"evenodd\" fill-opacity=\"1\" /><path clip-path=\"url(#clip130)\" d=\"M58.3995 374.424 L58.3995 381.785 L67.1726 381.785 L67.1726 385.095 L58.3995 385.095 L58.3995 399.169 Q58.3995 402.34 59.256 403.243 Q60.1356 404.146 62.7976 404.146 L67.1726 404.146 L67.1726 407.711 L62.7976 407.711 Q57.8671 407.711 55.9921 405.882 Q54.1171 404.03 54.1171 399.169 L54.1171 385.095 L50.9921 385.095 L50.9921 381.785 L54.1171 381.785 L54.1171 374.424 L58.3995 374.424 Z\" fill=\"#000000\" fill-rule=\"evenodd\" fill-opacity=\"1\" /><path clip-path=\"url(#clip130)\" d=\"M84.5568 394.678 Q79.3948 394.678 77.404 395.859 Q75.4133 397.039 75.4133 399.887 Q75.4133 402.155 76.8948 403.498 Q78.3994 404.817 80.9688 404.817 Q84.5105 404.817 86.6401 402.317 Q88.7928 399.794 88.7928 395.627 L88.7928 394.678 L84.5568 394.678 M93.0521 392.919 L93.0521 407.711 L88.7928 407.711 L88.7928 403.776 Q87.3345 406.137 85.1586 407.271 Q82.9827 408.382 79.8346 408.382 Q75.8531 408.382 73.492 406.16 Q71.1541 403.914 71.1541 400.164 Q71.1541 395.789 74.0707 393.567 Q77.0105 391.345 82.8207 391.345 L88.7928 391.345 L88.7928 390.928 Q88.7928 387.989 86.8484 386.391 Q84.9271 384.771 81.4318 384.771 Q79.2096 384.771 77.1031 385.303 Q74.9966 385.836 73.0522 386.901 L73.0522 382.965 Q75.3901 382.063 77.5892 381.623 Q79.7883 381.16 81.8716 381.16 Q87.4966 381.16 90.2743 384.077 Q93.0521 386.993 93.0521 392.919 Z\" fill=\"#000000\" fill-rule=\"evenodd\" fill-opacity=\"1\" /><path clip-path=\"url(#clip130)\" d=\"M124.001 393.683 L124.001 395.766 L104.418 395.766 Q104.696 400.164 107.057 402.479 Q109.441 404.771 113.677 404.771 Q116.131 404.771 118.422 404.169 Q120.737 403.567 123.006 402.364 L123.006 406.391 Q120.714 407.364 118.307 407.873 Q115.899 408.382 113.422 408.382 Q107.219 408.382 103.584 404.771 Q99.9733 401.16 99.9733 395.002 Q99.9733 388.637 103.399 384.91 Q106.848 381.16 112.682 381.16 Q117.913 381.16 120.945 384.54 Q124.001 387.896 124.001 393.683 M119.742 392.433 Q119.695 388.938 117.774 386.854 Q115.876 384.771 112.728 384.771 Q109.163 384.771 107.01 386.785 Q104.881 388.799 104.557 392.456 L119.742 392.433 Z\" fill=\"#000000\" fill-rule=\"evenodd\" fill-opacity=\"1\" /><path clip-path=\"url(#clip130)\" d=\"M130.83 371.692 L135.112 371.692 L135.112 392.965 L147.82 381.785 L153.26 381.785 L139.51 393.915 L153.839 407.711 L148.283 407.711 L135.112 395.049 L135.112 407.711 L130.83 407.711 L130.83 371.692 Z\" fill=\"#000000\" fill-rule=\"evenodd\" fill-opacity=\"1\" /><path clip-path=\"url(#clip130)\" d=\"M155.968 381.785 L160.228 381.785 L165.552 402.016 L170.853 381.785 L175.876 381.785 L181.2 402.016 L186.501 381.785 L190.76 381.785 L183.978 407.711 L178.954 407.711 L173.376 386.461 L167.774 407.711 L162.751 407.711 L155.968 381.785 Z\" fill=\"#000000\" fill-rule=\"evenodd\" fill-opacity=\"1\" /><path clip-path=\"url(#clip130)\" d=\"M207.264 384.771 Q203.839 384.771 201.848 387.456 Q199.857 390.118 199.857 394.771 Q199.857 399.424 201.825 402.109 Q203.815 404.771 207.264 404.771 Q210.667 404.771 212.658 402.086 Q214.649 399.401 214.649 394.771 Q214.649 390.165 212.658 387.479 Q210.667 384.771 207.264 384.771 M207.264 381.16 Q212.82 381.16 215.991 384.771 Q219.163 388.382 219.163 394.771 Q219.163 401.137 215.991 404.771 Q212.82 408.382 207.264 408.382 Q201.686 408.382 198.514 404.771 Q195.366 401.137 195.366 394.771 Q195.366 388.382 198.514 384.771 Q201.686 381.16 207.264 381.16 Z\" fill=\"#000000\" fill-rule=\"evenodd\" fill-opacity=\"1\" /><path clip-path=\"url(#clip130)\" d=\"M247.773 392.063 L247.773 407.711 L243.514 407.711 L243.514 392.202 Q243.514 388.521 242.079 386.692 Q240.644 384.864 237.774 384.864 Q234.324 384.864 232.334 387.063 Q230.343 389.262 230.343 393.058 L230.343 407.711 L226.061 407.711 L226.061 381.785 L230.343 381.785 L230.343 385.813 Q231.871 383.475 233.931 382.317 Q236.014 381.16 238.723 381.16 Q243.19 381.16 245.482 383.938 Q247.773 386.692 247.773 392.063 Z\" fill=\"#000000\" fill-rule=\"evenodd\" fill-opacity=\"1\" /><path clip-path=\"url(#clip130)\" d=\"M273.329 385.72 L273.329 371.692 L277.588 371.692 L277.588 407.711 L273.329 407.711 L273.329 403.822 Q271.986 406.137 269.926 407.271 Q267.889 408.382 265.019 408.382 Q260.32 408.382 257.357 404.632 Q254.417 400.882 254.417 394.771 Q254.417 388.66 257.357 384.91 Q260.32 381.16 265.019 381.16 Q267.889 381.16 269.926 382.294 Q271.986 383.405 273.329 385.72 M258.815 394.771 Q258.815 399.47 260.736 402.155 Q262.681 404.817 266.06 404.817 Q269.44 404.817 271.384 402.155 Q273.329 399.47 273.329 394.771 Q273.329 390.072 271.384 387.41 Q269.44 384.725 266.06 384.725 Q262.681 384.725 260.736 387.41 Q258.815 390.072 258.815 394.771 Z\" fill=\"#000000\" fill-rule=\"evenodd\" fill-opacity=\"1\" /><path clip-path=\"url(#clip130)\" d=\"M296.407 384.771 Q292.982 384.771 290.991 387.456 Q289 390.118 289 394.771 Q289 399.424 290.968 402.109 Q292.958 404.771 296.407 404.771 Q299.81 404.771 301.801 402.086 Q303.792 399.401 303.792 394.771 Q303.792 390.165 301.801 387.479 Q299.81 384.771 296.407 384.771 M296.407 381.16 Q301.963 381.16 305.134 384.771 Q308.306 388.382 308.306 394.771 Q308.306 401.137 305.134 404.771 Q301.963 408.382 296.407 408.382 Q290.829 408.382 287.658 404.771 Q284.509 401.137 284.509 394.771 Q284.509 388.382 287.658 384.771 Q290.829 381.16 296.407 381.16 Z\" fill=\"#000000\" fill-rule=\"evenodd\" fill-opacity=\"1\" /><path clip-path=\"url(#clip130)\" d=\"M92.9826 263.867 Q92.9826 259.168 91.0382 256.506 Q89.1169 253.821 85.7373 253.821 Q82.3577 253.821 80.4133 256.506 Q78.492 259.168 78.492 263.867 Q78.492 268.566 80.4133 271.251 Q82.3577 273.913 85.7373 273.913 Q89.1169 273.913 91.0382 271.251 Q92.9826 268.566 92.9826 263.867 M78.492 254.816 Q79.8346 252.501 81.8716 251.39 Q83.9318 250.256 86.779 250.256 Q91.5012 250.256 94.441 254.006 Q97.4039 257.756 97.4039 263.867 Q97.4039 269.978 94.441 273.728 Q91.5012 277.478 86.779 277.478 Q83.9318 277.478 81.8716 276.367 Q79.8346 275.233 78.492 272.918 L78.492 276.807 L74.2096 276.807 L74.2096 240.788 L78.492 240.788 L78.492 254.816 Z\" fill=\"#000000\" fill-rule=\"evenodd\" fill-opacity=\"1\" /><path clip-path=\"url(#clip130)\" d=\"M116.246 263.774 Q111.084 263.774 109.094 264.955 Q107.103 266.136 107.103 268.983 Q107.103 271.251 108.584 272.594 Q110.089 273.913 112.658 273.913 Q116.2 273.913 118.33 271.413 Q120.482 268.89 120.482 264.723 L120.482 263.774 L116.246 263.774 M124.742 262.015 L124.742 276.807 L120.482 276.807 L120.482 272.872 Q119.024 275.233 116.848 276.367 Q114.672 277.478 111.524 277.478 Q107.543 277.478 105.182 275.256 Q102.844 273.01 102.844 269.26 Q102.844 264.886 105.76 262.663 Q108.7 260.441 114.51 260.441 L120.482 260.441 L120.482 260.024 Q120.482 257.085 118.538 255.487 Q116.617 253.867 113.121 253.867 Q110.899 253.867 108.793 254.399 Q106.686 254.932 104.742 255.997 L104.742 252.062 Q107.08 251.159 109.279 250.719 Q111.478 250.256 113.561 250.256 Q119.186 250.256 121.964 253.173 Q124.742 256.089 124.742 262.015 Z\" fill=\"#000000\" fill-rule=\"evenodd\" fill-opacity=\"1\" /><path clip-path=\"url(#clip130)\" d=\"M150.043 251.645 L150.043 255.673 Q148.237 254.747 146.293 254.284 Q144.348 253.821 142.265 253.821 Q139.094 253.821 137.496 254.793 Q135.922 255.765 135.922 257.71 Q135.922 259.191 137.056 260.048 Q138.191 260.881 141.617 261.645 L143.075 261.969 Q147.612 262.941 149.51 264.723 Q151.431 266.483 151.431 269.654 Q151.431 273.265 148.561 275.372 Q145.714 277.478 140.714 277.478 Q138.631 277.478 136.362 277.061 Q134.117 276.668 131.617 275.858 L131.617 271.46 Q133.978 272.686 136.269 273.311 Q138.561 273.913 140.806 273.913 Q143.816 273.913 145.436 272.895 Q147.056 271.853 147.056 269.978 Q147.056 268.242 145.876 267.316 Q144.718 266.39 140.76 265.534 L139.279 265.186 Q135.32 264.353 133.561 262.64 Q131.802 260.904 131.802 257.895 Q131.802 254.237 134.394 252.247 Q136.987 250.256 141.756 250.256 Q144.117 250.256 146.2 250.603 Q148.283 250.95 150.043 251.645 Z\" fill=\"#000000\" fill-rule=\"evenodd\" fill-opacity=\"1\" /><path clip-path=\"url(#clip130)\" d=\"M158.052 240.788 L162.334 240.788 L162.334 262.061 L175.042 250.881 L180.482 250.881 L166.732 263.011 L181.061 276.807 L175.505 276.807 L162.334 264.145 L162.334 276.807 L158.052 276.807 L158.052 240.788 Z\" fill=\"#000000\" fill-rule=\"evenodd\" fill-opacity=\"1\" /><path clip-path=\"url(#clip130)\" d=\"M206.153 262.779 L206.153 264.862 L186.57 264.862 Q186.848 269.26 189.209 271.575 Q191.593 273.867 195.829 273.867 Q198.283 273.867 200.575 273.265 Q202.889 272.663 205.158 271.46 L205.158 275.487 Q202.866 276.46 200.459 276.969 Q198.052 277.478 195.575 277.478 Q189.371 277.478 185.737 273.867 Q182.126 270.256 182.126 264.098 Q182.126 257.733 185.552 254.006 Q189.001 250.256 194.834 250.256 Q200.065 250.256 203.098 253.636 Q206.153 256.992 206.153 262.779 M201.894 261.529 Q201.848 258.034 199.927 255.95 Q198.028 253.867 194.88 253.867 Q191.315 253.867 189.163 255.881 Q187.033 257.895 186.709 261.552 L201.894 261.529 Z\" fill=\"#000000\" fill-rule=\"evenodd\" fill-opacity=\"1\" /><path clip-path=\"url(#clip130)\" d=\"M217.357 243.52 L217.357 250.881 L226.13 250.881 L226.13 254.191 L217.357 254.191 L217.357 268.265 Q217.357 271.436 218.213 272.339 Q219.093 273.242 221.755 273.242 L226.13 273.242 L226.13 276.807 L221.755 276.807 Q216.825 276.807 214.95 274.978 Q213.075 273.126 213.075 268.265 L213.075 254.191 L209.95 254.191 L209.95 250.881 L213.075 250.881 L213.075 243.52 L217.357 243.52 Z\" fill=\"#000000\" fill-rule=\"evenodd\" fill-opacity=\"1\" /><path clip-path=\"url(#clip130)\" d=\"M250.343 263.867 Q250.343 259.168 248.398 256.506 Q246.477 253.821 243.098 253.821 Q239.718 253.821 237.774 256.506 Q235.852 259.168 235.852 263.867 Q235.852 268.566 237.774 271.251 Q239.718 273.913 243.098 273.913 Q246.477 273.913 248.398 271.251 Q250.343 268.566 250.343 263.867 M235.852 254.816 Q237.195 252.501 239.232 251.39 Q241.292 250.256 244.139 250.256 Q248.861 250.256 251.801 254.006 Q254.764 257.756 254.764 263.867 Q254.764 269.978 251.801 273.728 Q248.861 277.478 244.139 277.478 Q241.292 277.478 239.232 276.367 Q237.195 275.233 235.852 272.918 L235.852 276.807 L231.57 276.807 L231.57 240.788 L235.852 240.788 L235.852 254.816 Z\" fill=\"#000000\" fill-rule=\"evenodd\" fill-opacity=\"1\" /><path clip-path=\"url(#clip130)\" d=\"M273.607 263.774 Q268.445 263.774 266.454 264.955 Q264.463 266.136 264.463 268.983 Q264.463 271.251 265.945 272.594 Q267.449 273.913 270.019 273.913 Q273.56 273.913 275.69 271.413 Q277.843 268.89 277.843 264.723 L277.843 263.774 L273.607 263.774 M282.102 262.015 L282.102 276.807 L277.843 276.807 L277.843 272.872 Q276.384 275.233 274.209 276.367 Q272.033 277.478 268.884 277.478 Q264.903 277.478 262.542 275.256 Q260.204 273.01 260.204 269.26 Q260.204 264.886 263.121 262.663 Q266.06 260.441 271.871 260.441 L277.843 260.441 L277.843 260.024 Q277.843 257.085 275.898 255.487 Q273.977 253.867 270.482 253.867 Q268.259 253.867 266.153 254.399 Q264.047 254.932 262.102 255.997 L262.102 252.062 Q264.44 251.159 266.639 250.719 Q268.838 250.256 270.922 250.256 Q276.546 250.256 279.324 253.173 Q282.102 256.089 282.102 262.015 Z\" fill=\"#000000\" fill-rule=\"evenodd\" fill-opacity=\"1\" /><path clip-path=\"url(#clip130)\" d=\"M290.875 240.788 L295.134 240.788 L295.134 276.807 L290.875 276.807 L290.875 240.788 Z\" fill=\"#000000\" fill-rule=\"evenodd\" fill-opacity=\"1\" /><path clip-path=\"url(#clip130)\" d=\"M304.046 240.788 L308.306 240.788 L308.306 276.807 L304.046 276.807 L304.046 240.788 Z\" fill=\"#000000\" fill-rule=\"evenodd\" fill-opacity=\"1\" /><path clip-path=\"url(#clip130)\" d=\"M931.45 12.096 L969.69 12.096 L969.69 18.9825 L939.632 18.9825 L939.632 36.8875 L968.434 36.8875 L968.434 43.7741 L939.632 43.7741 L939.632 65.6895 L970.419 65.6895 L970.419 72.576 L931.45 72.576 L931.45 12.096 Z\" fill=\"#000000\" fill-rule=\"evenodd\" fill-opacity=\"1\" /><path clip-path=\"url(#clip130)\" d=\"M978.197 27.2059 L986.096 27.2059 L1000.27 65.2844 L1014.45 27.2059 L1022.35 27.2059 L1005.34 72.576 L995.211 72.576 L978.197 27.2059 Z\" fill=\"#000000\" fill-rule=\"evenodd\" fill-opacity=\"1\" /><path clip-path=\"url(#clip130)\" d=\"M1071.45 48.0275 L1071.45 51.6733 L1037.18 51.6733 Q1037.66 59.3701 1041.8 63.421 Q1045.97 67.4314 1053.38 67.4314 Q1057.68 67.4314 1061.69 66.3781 Q1065.74 65.3249 1069.71 63.2184 L1069.71 70.267 Q1065.7 71.9684 1061.48 72.8596 Q1057.27 73.7508 1052.94 73.7508 Q1042.08 73.7508 1035.72 67.4314 Q1029.4 61.1119 1029.4 50.3365 Q1029.4 39.1965 1035.4 32.6746 Q1041.43 26.1121 1051.64 26.1121 Q1060.8 26.1121 1066.1 32.0264 Q1071.45 37.9003 1071.45 48.0275 M1064 45.84 Q1063.91 39.7232 1060.55 36.0774 Q1057.23 32.4315 1051.72 32.4315 Q1045.48 32.4315 1041.72 35.9558 Q1037.99 39.4801 1037.42 45.8805 L1064 45.84 Z\" fill=\"#000000\" fill-rule=\"evenodd\" fill-opacity=\"1\" /><path clip-path=\"url(#clip130)\" d=\"M1121.4 45.1919 L1121.4 72.576 L1113.94 72.576 L1113.94 45.4349 Q1113.94 38.994 1111.43 35.7938 Q1108.92 32.5936 1103.9 32.5936 Q1097.86 32.5936 1094.38 36.4419 Q1090.89 40.2903 1090.89 46.9338 L1090.89 72.576 L1083.4 72.576 L1083.4 27.2059 L1090.89 27.2059 L1090.89 34.2544 Q1093.57 30.163 1097.17 28.1376 Q1100.82 26.1121 1105.56 26.1121 Q1113.38 26.1121 1117.39 30.9732 Q1121.4 35.7938 1121.4 45.1919 Z\" fill=\"#000000\" fill-rule=\"evenodd\" fill-opacity=\"1\" /><path clip-path=\"url(#clip130)\" d=\"M1143.64 14.324 L1143.64 27.2059 L1158.99 27.2059 L1158.99 32.9987 L1143.64 32.9987 L1143.64 57.6282 Q1143.64 63.1779 1145.13 64.7578 Q1146.67 66.3376 1151.33 66.3376 L1158.99 66.3376 L1158.99 72.576 L1151.33 72.576 Q1142.7 72.576 1139.42 69.3758 Q1136.14 66.1351 1136.14 57.6282 L1136.14 32.9987 L1130.67 32.9987 L1130.67 27.2059 L1136.14 27.2059 L1136.14 14.324 L1143.64 14.324 Z\" fill=\"#000000\" fill-rule=\"evenodd\" fill-opacity=\"1\" /><path clip-path=\"url(#clip130)\" d=\"M1186.37 32.4315 Q1180.38 32.4315 1176.89 37.1306 Q1173.41 41.7891 1173.41 49.9314 Q1173.41 58.0738 1176.85 62.7728 Q1180.34 67.4314 1186.37 67.4314 Q1192.33 67.4314 1195.81 62.7323 Q1199.3 58.0333 1199.3 49.9314 Q1199.3 41.8701 1195.81 37.1711 Q1192.33 32.4315 1186.37 32.4315 M1186.37 26.1121 Q1196.1 26.1121 1201.64 32.4315 Q1207.19 38.7509 1207.19 49.9314 Q1207.19 61.0714 1201.64 67.4314 Q1196.1 73.7508 1186.37 73.7508 Q1176.61 73.7508 1171.06 67.4314 Q1165.55 61.0714 1165.55 49.9314 Q1165.55 38.7509 1171.06 32.4315 Q1176.61 26.1121 1186.37 26.1121 Z\" fill=\"#000000\" fill-rule=\"evenodd\" fill-opacity=\"1\" /><path clip-path=\"url(#clip130)\" d=\"M1248.47 28.5427 L1248.47 35.5912 Q1245.31 33.9709 1241.91 33.1607 Q1238.51 32.3505 1234.86 32.3505 Q1229.31 32.3505 1226.52 34.0519 Q1223.76 35.7533 1223.76 39.156 Q1223.76 41.7486 1225.75 43.2475 Q1227.73 44.7058 1233.73 46.0426 L1236.28 46.6097 Q1244.22 48.3111 1247.54 51.4303 Q1250.9 54.509 1250.9 60.0587 Q1250.9 66.3781 1245.88 70.0644 Q1240.9 73.7508 1232.15 73.7508 Q1228.5 73.7508 1224.53 73.0216 Q1220.6 72.3329 1216.23 70.9151 L1216.23 63.2184 Q1220.36 65.3654 1224.37 66.4591 Q1228.38 67.5124 1232.31 67.5124 Q1237.58 67.5124 1240.41 65.73 Q1243.25 63.9071 1243.25 60.6258 Q1243.25 57.5877 1241.18 55.9673 Q1239.16 54.3469 1232.23 52.8481 L1229.64 52.2405 Q1222.71 50.7821 1219.63 47.7845 Q1216.55 44.7463 1216.55 39.4801 Q1216.55 33.0797 1221.09 29.5959 Q1225.63 26.1121 1233.97 26.1121 Q1238.1 26.1121 1241.75 26.7198 Q1245.39 27.3274 1248.47 28.5427 Z\" fill=\"#000000\" fill-rule=\"evenodd\" fill-opacity=\"1\" /><path clip-path=\"url(#clip130)\" d=\"M1296.36 65.7705 L1296.36 89.8329 L1288.86 89.8329 L1288.86 27.2059 L1296.36 27.2059 L1296.36 34.0924 Q1298.7 30.0415 1302.27 28.0971 Q1305.87 26.1121 1310.86 26.1121 Q1319.12 26.1121 1324.27 32.6746 Q1329.45 39.2371 1329.45 49.9314 Q1329.45 60.6258 1324.27 67.1883 Q1319.12 73.7508 1310.86 73.7508 Q1305.87 73.7508 1302.27 71.8063 Q1298.7 69.8214 1296.36 65.7705 M1321.71 49.9314 Q1321.71 41.7081 1318.31 37.0496 Q1314.95 32.3505 1309.03 32.3505 Q1303.12 32.3505 1299.72 37.0496 Q1296.36 41.7081 1296.36 49.9314 Q1296.36 58.1548 1299.72 62.8538 Q1303.12 67.5124 1309.03 67.5124 Q1314.95 67.5124 1318.31 62.8538 Q1321.71 58.1548 1321.71 49.9314 Z\" fill=\"#000000\" fill-rule=\"evenodd\" fill-opacity=\"1\" /><path clip-path=\"url(#clip130)\" d=\"M1359.39 32.4315 Q1353.39 32.4315 1349.91 37.1306 Q1346.42 41.7891 1346.42 49.9314 Q1346.42 58.0738 1349.87 62.7728 Q1353.35 67.4314 1359.39 67.4314 Q1365.34 67.4314 1368.83 62.7323 Q1372.31 58.0333 1372.31 49.9314 Q1372.31 41.8701 1368.83 37.1711 Q1365.34 32.4315 1359.39 32.4315 M1359.39 26.1121 Q1369.11 26.1121 1374.66 32.4315 Q1380.21 38.7509 1380.21 49.9314 Q1380.21 61.0714 1374.66 67.4314 Q1369.11 73.7508 1359.39 73.7508 Q1349.62 73.7508 1344.07 67.4314 Q1338.57 61.0714 1338.57 49.9314 Q1338.57 38.7509 1344.07 32.4315 Q1349.62 26.1121 1359.39 26.1121 Z\" fill=\"#000000\" fill-rule=\"evenodd\" fill-opacity=\"1\" /><path clip-path=\"url(#clip130)\" d=\"M1418.85 34.1734 Q1417.6 33.4443 1416.1 33.1202 Q1414.64 32.7556 1412.86 32.7556 Q1406.54 32.7556 1403.14 36.8875 Q1399.77 40.9789 1399.77 48.6757 L1399.77 72.576 L1392.28 72.576 L1392.28 27.2059 L1399.77 27.2059 L1399.77 34.2544 Q1402.12 30.1225 1405.89 28.1376 Q1409.66 26.1121 1415.05 26.1121 Q1415.82 26.1121 1416.75 26.2337 Q1417.68 26.3147 1418.81 26.5172 L1418.85 34.1734 Z\" fill=\"#000000\" fill-rule=\"evenodd\" fill-opacity=\"1\" /><path clip-path=\"url(#clip130)\" d=\"M1482.9 34.0924 L1482.9 9.54393 L1490.35 9.54393 L1490.35 72.576 L1482.9 72.576 L1482.9 65.7705 Q1480.55 69.8214 1476.94 71.8063 Q1473.38 73.7508 1468.36 73.7508 Q1460.13 73.7508 1454.95 67.1883 Q1449.8 60.6258 1449.8 49.9314 Q1449.8 39.2371 1454.95 32.6746 Q1460.13 26.1121 1468.36 26.1121 Q1473.38 26.1121 1476.94 28.0971 Q1480.55 30.0415 1482.9 34.0924 M1457.5 49.9314 Q1457.5 58.1548 1460.86 62.8538 Q1464.27 67.5124 1470.18 67.5124 Q1476.09 67.5124 1479.5 62.8538 Q1482.9 58.1548 1482.9 49.9314 Q1482.9 41.7081 1479.5 37.0496 Q1476.09 32.3505 1470.18 32.3505 Q1464.27 32.3505 1460.86 37.0496 Q1457.5 41.7081 1457.5 49.9314 Z\" fill=\"#000000\" fill-rule=\"evenodd\" fill-opacity=\"1\" /><path clip-path=\"url(#clip130)\" d=\"M1544.51 48.0275 L1544.51 51.6733 L1510.24 51.6733 Q1510.73 59.3701 1514.86 63.421 Q1519.03 67.4314 1526.45 67.4314 Q1530.74 67.4314 1534.75 66.3781 Q1538.8 65.3249 1542.77 63.2184 L1542.77 70.267 Q1538.76 71.9684 1534.55 72.8596 Q1530.34 73.7508 1526 73.7508 Q1515.14 73.7508 1508.78 67.4314 Q1502.47 61.1119 1502.47 50.3365 Q1502.47 39.1965 1508.46 32.6746 Q1514.5 26.1121 1524.7 26.1121 Q1533.86 26.1121 1539.17 32.0264 Q1544.51 37.9003 1544.51 48.0275 M1537.06 45.84 Q1536.98 39.7232 1533.62 36.0774 Q1530.29 32.4315 1524.79 32.4315 Q1518.55 32.4315 1514.78 35.9558 Q1511.05 39.4801 1510.49 45.8805 L1537.06 45.84 Z\" fill=\"#000000\" fill-rule=\"evenodd\" fill-opacity=\"1\" /><path clip-path=\"url(#clip130)\" d=\"M1563.96 65.7705 L1563.96 89.8329 L1556.46 89.8329 L1556.46 27.2059 L1563.96 27.2059 L1563.96 34.0924 Q1566.31 30.0415 1569.87 28.0971 Q1573.48 26.1121 1578.46 26.1121 Q1586.72 26.1121 1591.87 32.6746 Q1597.05 39.2371 1597.05 49.9314 Q1597.05 60.6258 1591.87 67.1883 Q1586.72 73.7508 1578.46 73.7508 Q1573.48 73.7508 1569.87 71.8063 Q1566.31 69.8214 1563.96 65.7705 M1589.32 49.9314 Q1589.32 41.7081 1585.91 37.0496 Q1582.55 32.3505 1576.64 32.3505 Q1570.72 32.3505 1567.32 37.0496 Q1563.96 41.7081 1563.96 49.9314 Q1563.96 58.1548 1567.32 62.8538 Q1570.72 67.5124 1576.64 67.5124 Q1582.55 67.5124 1585.91 62.8538 Q1589.32 58.1548 1589.32 49.9314 Z\" fill=\"#000000\" fill-rule=\"evenodd\" fill-opacity=\"1\" /><path clip-path=\"url(#clip130)\" d=\"M1626.99 32.4315 Q1620.99 32.4315 1617.51 37.1306 Q1614.03 41.7891 1614.03 49.9314 Q1614.03 58.0738 1617.47 62.7728 Q1620.95 67.4314 1626.99 67.4314 Q1632.94 67.4314 1636.43 62.7323 Q1639.91 58.0333 1639.91 49.9314 Q1639.91 41.8701 1636.43 37.1711 Q1632.94 32.4315 1626.99 32.4315 M1626.99 26.1121 Q1636.71 26.1121 1642.26 32.4315 Q1647.81 38.7509 1647.81 49.9314 Q1647.81 61.0714 1642.26 67.4314 Q1636.71 73.7508 1626.99 73.7508 Q1617.23 73.7508 1611.68 67.4314 Q1606.17 61.0714 1606.17 49.9314 Q1606.17 38.7509 1611.68 32.4315 Q1617.23 26.1121 1626.99 26.1121 Z\" fill=\"#000000\" fill-rule=\"evenodd\" fill-opacity=\"1\" /><path clip-path=\"url(#clip130)\" d=\"M1686.46 34.1734 Q1685.2 33.4443 1683.7 33.1202 Q1682.24 32.7556 1680.46 32.7556 Q1674.14 32.7556 1670.74 36.8875 Q1667.38 40.9789 1667.38 48.6757 L1667.38 72.576 L1659.88 72.576 L1659.88 27.2059 L1667.38 27.2059 L1667.38 34.2544 Q1669.73 30.1225 1673.49 28.1376 Q1677.26 26.1121 1682.65 26.1121 Q1683.42 26.1121 1684.35 26.2337 Q1685.28 26.3147 1686.42 26.5172 L1686.46 34.1734 Z\" fill=\"#000000\" fill-rule=\"evenodd\" fill-opacity=\"1\" /><path clip-path=\"url(#clip130)\" d=\"M1701.65 14.324 L1701.65 27.2059 L1717 27.2059 L1717 32.9987 L1701.65 32.9987 L1701.65 57.6282 Q1701.65 63.1779 1703.15 64.7578 Q1704.69 66.3376 1709.34 66.3376 L1717 66.3376 L1717 72.576 L1709.34 72.576 Q1700.72 72.576 1697.44 69.3758 Q1694.15 66.1351 1694.15 57.6282 L1694.15 32.9987 L1688.69 32.9987 L1688.69 27.2059 L1694.15 27.2059 L1694.15 14.324 L1701.65 14.324 Z\" fill=\"#000000\" fill-rule=\"evenodd\" fill-opacity=\"1\" /><path clip-path=\"url(#clip130)\" d=\"M1765.61 48.0275 L1765.61 51.6733 L1731.34 51.6733 Q1731.83 59.3701 1735.96 63.421 Q1740.13 67.4314 1747.54 67.4314 Q1751.84 67.4314 1755.85 66.3781 Q1759.9 65.3249 1763.87 63.2184 L1763.87 70.267 Q1759.86 71.9684 1755.65 72.8596 Q1751.43 73.7508 1747.1 73.7508 Q1736.24 73.7508 1729.88 67.4314 Q1723.56 61.1119 1723.56 50.3365 Q1723.56 39.1965 1729.56 32.6746 Q1735.59 26.1121 1745.8 26.1121 Q1754.96 26.1121 1760.26 32.0264 Q1765.61 37.9003 1765.61 48.0275 M1758.16 45.84 Q1758.08 39.7232 1754.71 36.0774 Q1751.39 32.4315 1745.88 32.4315 Q1739.65 32.4315 1735.88 35.9558 Q1732.15 39.4801 1731.58 45.8805 L1758.16 45.84 Z\" fill=\"#000000\" fill-rule=\"evenodd\" fill-opacity=\"1\" /><path clip-path=\"url(#clip132)\" d=\"\n",
       "M643.033 1411.48 L401.148 1411.48 L401.148 1376.57 L643.033 1376.57 L643.033 1411.48 L643.033 1411.48  Z\n",
       "  \" fill=\"#009af9\" fill-rule=\"evenodd\" fill-opacity=\"1\"/>\n",
       "<polyline clip-path=\"url(#clip132)\" style=\"stroke:#000000; stroke-linecap:butt; stroke-linejoin:round; stroke-width:4; stroke-opacity:1; fill:none\" points=\"\n",
       "  643.033,1411.48 401.148,1411.48 401.148,1376.57 643.033,1376.57 643.033,1411.48 \n",
       "  \"/>\n",
       "<path clip-path=\"url(#clip132)\" d=\"\n",
       "M1126.8 1367.85 L401.148 1367.85 L401.148 1332.94 L1126.8 1332.94 L1126.8 1367.85 L1126.8 1367.85  Z\n",
       "  \" fill=\"#009af9\" fill-rule=\"evenodd\" fill-opacity=\"1\"/>\n",
       "<polyline clip-path=\"url(#clip132)\" style=\"stroke:#000000; stroke-linecap:butt; stroke-linejoin:round; stroke-width:4; stroke-opacity:1; fill:none\" points=\"\n",
       "  1126.8,1367.85 401.148,1367.85 401.148,1332.94 1126.8,1332.94 1126.8,1367.85 \n",
       "  \"/>\n",
       "<path clip-path=\"url(#clip132)\" d=\"\n",
       "M481.777 1324.21 L401.148 1324.21 L401.148 1289.3 L481.777 1289.3 L481.777 1324.21 L481.777 1324.21  Z\n",
       "  \" fill=\"#009af9\" fill-rule=\"evenodd\" fill-opacity=\"1\"/>\n",
       "<polyline clip-path=\"url(#clip132)\" style=\"stroke:#000000; stroke-linecap:butt; stroke-linejoin:round; stroke-width:4; stroke-opacity:1; fill:none\" points=\"\n",
       "  481.777,1324.21 401.148,1324.21 401.148,1289.3 481.777,1289.3 481.777,1324.21 \n",
       "  \"/>\n",
       "<path clip-path=\"url(#clip132)\" d=\"\n",
       "M1126.8 1280.58 L401.148 1280.58 L401.148 1245.67 L1126.8 1245.67 L1126.8 1280.58 L1126.8 1280.58  Z\n",
       "  \" fill=\"#009af9\" fill-rule=\"evenodd\" fill-opacity=\"1\"/>\n",
       "<polyline clip-path=\"url(#clip132)\" style=\"stroke:#000000; stroke-linecap:butt; stroke-linejoin:round; stroke-width:4; stroke-opacity:1; fill:none\" points=\"\n",
       "  1126.8,1280.58 401.148,1280.58 401.148,1245.67 1126.8,1245.67 1126.8,1280.58 \n",
       "  \"/>\n",
       "<path clip-path=\"url(#clip132)\" d=\"\n",
       "M481.777 1236.94 L401.148 1236.94 L401.148 1202.04 L481.777 1202.04 L481.777 1236.94 L481.777 1236.94  Z\n",
       "  \" fill=\"#009af9\" fill-rule=\"evenodd\" fill-opacity=\"1\"/>\n",
       "<polyline clip-path=\"url(#clip132)\" style=\"stroke:#000000; stroke-linecap:butt; stroke-linejoin:round; stroke-width:4; stroke-opacity:1; fill:none\" points=\"\n",
       "  481.777,1236.94 401.148,1236.94 401.148,1202.04 481.777,1202.04 481.777,1236.94 \n",
       "  \"/>\n",
       "<path clip-path=\"url(#clip132)\" d=\"\n",
       "M481.777 1193.31 L401.148 1193.31 L401.148 1158.4 L481.777 1158.4 L481.777 1193.31 L481.777 1193.31  Z\n",
       "  \" fill=\"#009af9\" fill-rule=\"evenodd\" fill-opacity=\"1\"/>\n",
       "<polyline clip-path=\"url(#clip132)\" style=\"stroke:#000000; stroke-linecap:butt; stroke-linejoin:round; stroke-width:4; stroke-opacity:1; fill:none\" points=\"\n",
       "  481.777,1193.31 401.148,1193.31 401.148,1158.4 481.777,1158.4 481.777,1193.31 \n",
       "  \"/>\n",
       "<path clip-path=\"url(#clip132)\" d=\"\n",
       "M562.405 1149.67 L401.148 1149.67 L401.148 1114.77 L562.405 1114.77 L562.405 1149.67 L562.405 1149.67  Z\n",
       "  \" fill=\"#009af9\" fill-rule=\"evenodd\" fill-opacity=\"1\"/>\n",
       "<polyline clip-path=\"url(#clip132)\" style=\"stroke:#000000; stroke-linecap:butt; stroke-linejoin:round; stroke-width:4; stroke-opacity:1; fill:none\" points=\"\n",
       "  562.405,1149.67 401.148,1149.67 401.148,1114.77 562.405,1114.77 562.405,1149.67 \n",
       "  \"/>\n",
       "<path clip-path=\"url(#clip132)\" d=\"\n",
       "M804.29 1106.04 L401.148 1106.04 L401.148 1071.13 L804.29 1071.13 L804.29 1106.04 L804.29 1106.04  Z\n",
       "  \" fill=\"#009af9\" fill-rule=\"evenodd\" fill-opacity=\"1\"/>\n",
       "<polyline clip-path=\"url(#clip132)\" style=\"stroke:#000000; stroke-linecap:butt; stroke-linejoin:round; stroke-width:4; stroke-opacity:1; fill:none\" points=\"\n",
       "  804.29,1106.04 401.148,1106.04 401.148,1071.13 804.29,1071.13 804.29,1106.04 \n",
       "  \"/>\n",
       "<path clip-path=\"url(#clip132)\" d=\"\n",
       "M965.546 1062.4 L401.148 1062.4 L401.148 1027.5 L965.546 1027.5 L965.546 1062.4 L965.546 1062.4  Z\n",
       "  \" fill=\"#009af9\" fill-rule=\"evenodd\" fill-opacity=\"1\"/>\n",
       "<polyline clip-path=\"url(#clip132)\" style=\"stroke:#000000; stroke-linecap:butt; stroke-linejoin:round; stroke-width:4; stroke-opacity:1; fill:none\" points=\"\n",
       "  965.546,1062.4 401.148,1062.4 401.148,1027.5 965.546,1027.5 965.546,1062.4 \n",
       "  \"/>\n",
       "<path clip-path=\"url(#clip132)\" d=\"\n",
       "M481.777 1018.77 L401.148 1018.77 L401.148 983.862 L481.777 983.862 L481.777 1018.77 L481.777 1018.77  Z\n",
       "  \" fill=\"#009af9\" fill-rule=\"evenodd\" fill-opacity=\"1\"/>\n",
       "<polyline clip-path=\"url(#clip132)\" style=\"stroke:#000000; stroke-linecap:butt; stroke-linejoin:round; stroke-width:4; stroke-opacity:1; fill:none\" points=\"\n",
       "  481.777,1018.77 401.148,1018.77 401.148,983.862 481.777,983.862 481.777,1018.77 \n",
       "  \"/>\n",
       "<path clip-path=\"url(#clip132)\" d=\"\n",
       "M1005.86 975.135 L401.148 975.135 L401.148 940.227 L1005.86 940.227 L1005.86 975.135 L1005.86 975.135  Z\n",
       "  \" fill=\"#009af9\" fill-rule=\"evenodd\" fill-opacity=\"1\"/>\n",
       "<polyline clip-path=\"url(#clip132)\" style=\"stroke:#000000; stroke-linecap:butt; stroke-linejoin:round; stroke-width:4; stroke-opacity:1; fill:none\" points=\"\n",
       "  1005.86,975.135 401.148,975.135 401.148,940.227 1005.86,940.227 1005.86,975.135 \n",
       "  \"/>\n",
       "<path clip-path=\"url(#clip132)\" d=\"\n",
       "M602.719 931.501 L401.148 931.501 L401.148 896.593 L602.719 896.593 L602.719 931.501 L602.719 931.501  Z\n",
       "  \" fill=\"#009af9\" fill-rule=\"evenodd\" fill-opacity=\"1\"/>\n",
       "<polyline clip-path=\"url(#clip132)\" style=\"stroke:#000000; stroke-linecap:butt; stroke-linejoin:round; stroke-width:4; stroke-opacity:1; fill:none\" points=\"\n",
       "  602.719,931.501 401.148,931.501 401.148,896.593 602.719,896.593 602.719,931.501 \n",
       "  \"/>\n",
       "<path clip-path=\"url(#clip132)\" d=\"\n",
       "M481.777 887.866 L401.148 887.866 L401.148 852.958 L481.777 852.958 L481.777 887.866 L481.777 887.866  Z\n",
       "  \" fill=\"#009af9\" fill-rule=\"evenodd\" fill-opacity=\"1\"/>\n",
       "<polyline clip-path=\"url(#clip132)\" style=\"stroke:#000000; stroke-linecap:butt; stroke-linejoin:round; stroke-width:4; stroke-opacity:1; fill:none\" points=\"\n",
       "  481.777,887.866 401.148,887.866 401.148,852.958 481.777,852.958 481.777,887.866 \n",
       "  \"/>\n",
       "<path clip-path=\"url(#clip132)\" d=\"\n",
       "M1005.86 844.231 L401.148 844.231 L401.148 809.323 L1005.86 809.323 L1005.86 844.231 L1005.86 844.231  Z\n",
       "  \" fill=\"#009af9\" fill-rule=\"evenodd\" fill-opacity=\"1\"/>\n",
       "<polyline clip-path=\"url(#clip132)\" style=\"stroke:#000000; stroke-linecap:butt; stroke-linejoin:round; stroke-width:4; stroke-opacity:1; fill:none\" points=\"\n",
       "  1005.86,844.231 401.148,844.231 401.148,809.323 1005.86,809.323 1005.86,844.231 \n",
       "  \"/>\n",
       "<path clip-path=\"url(#clip132)\" d=\"\n",
       "M1046.17 800.597 L401.148 800.597 L401.148 765.689 L1046.17 765.689 L1046.17 800.597 L1046.17 800.597  Z\n",
       "  \" fill=\"#009af9\" fill-rule=\"evenodd\" fill-opacity=\"1\"/>\n",
       "<polyline clip-path=\"url(#clip132)\" style=\"stroke:#000000; stroke-linecap:butt; stroke-linejoin:round; stroke-width:4; stroke-opacity:1; fill:none\" points=\"\n",
       "  1046.17,800.597 401.148,800.597 401.148,765.689 1046.17,765.689 1046.17,800.597 \n",
       "  \"/>\n",
       "<path clip-path=\"url(#clip132)\" d=\"\n",
       "M602.719 756.962 L401.148 756.962 L401.148 722.054 L602.719 722.054 L602.719 756.962 L602.719 756.962  Z\n",
       "  \" fill=\"#009af9\" fill-rule=\"evenodd\" fill-opacity=\"1\"/>\n",
       "<polyline clip-path=\"url(#clip132)\" style=\"stroke:#000000; stroke-linecap:butt; stroke-linejoin:round; stroke-width:4; stroke-opacity:1; fill:none\" points=\"\n",
       "  602.719,756.962 401.148,756.962 401.148,722.054 602.719,722.054 602.719,756.962 \n",
       "  \"/>\n",
       "<path clip-path=\"url(#clip132)\" d=\"\n",
       "M2255.6 713.327 L401.148 713.327 L401.148 678.419 L2255.6 678.419 L2255.6 713.327 L2255.6 713.327  Z\n",
       "  \" fill=\"#009af9\" fill-rule=\"evenodd\" fill-opacity=\"1\"/>\n",
       "<polyline clip-path=\"url(#clip132)\" style=\"stroke:#000000; stroke-linecap:butt; stroke-linejoin:round; stroke-width:4; stroke-opacity:1; fill:none\" points=\"\n",
       "  2255.6,713.327 401.148,713.327 401.148,678.419 2255.6,678.419 2255.6,713.327 \n",
       "  \"/>\n",
       "<path clip-path=\"url(#clip132)\" d=\"\n",
       "M2295.91 669.693 L401.148 669.693 L401.148 634.785 L2295.91 634.785 L2295.91 669.693 L2295.91 669.693  Z\n",
       "  \" fill=\"#009af9\" fill-rule=\"evenodd\" fill-opacity=\"1\"/>\n",
       "<polyline clip-path=\"url(#clip132)\" style=\"stroke:#000000; stroke-linecap:butt; stroke-linejoin:round; stroke-width:4; stroke-opacity:1; fill:none\" points=\"\n",
       "  2295.91,669.693 401.148,669.693 401.148,634.785 2295.91,634.785 2295.91,669.693 \n",
       "  \"/>\n",
       "<path clip-path=\"url(#clip132)\" d=\"\n",
       "M481.777 626.058 L401.148 626.058 L401.148 591.15 L481.777 591.15 L481.777 626.058 L481.777 626.058  Z\n",
       "  \" fill=\"#009af9\" fill-rule=\"evenodd\" fill-opacity=\"1\"/>\n",
       "<polyline clip-path=\"url(#clip132)\" style=\"stroke:#000000; stroke-linecap:butt; stroke-linejoin:round; stroke-width:4; stroke-opacity:1; fill:none\" points=\"\n",
       "  481.777,626.058 401.148,626.058 401.148,591.15 481.777,591.15 481.777,626.058 \n",
       "  \"/>\n",
       "<path clip-path=\"url(#clip132)\" d=\"\n",
       "M965.546 582.423 L401.148 582.423 L401.148 547.516 L965.546 547.516 L965.546 582.423 L965.546 582.423  Z\n",
       "  \" fill=\"#009af9\" fill-rule=\"evenodd\" fill-opacity=\"1\"/>\n",
       "<polyline clip-path=\"url(#clip132)\" style=\"stroke:#000000; stroke-linecap:butt; stroke-linejoin:round; stroke-width:4; stroke-opacity:1; fill:none\" points=\"\n",
       "  965.546,582.423 401.148,582.423 401.148,547.516 965.546,547.516 965.546,582.423 \n",
       "  \"/>\n",
       "<path clip-path=\"url(#clip132)\" d=\"\n",
       "M804.29 538.789 L401.148 538.789 L401.148 503.881 L804.29 503.881 L804.29 538.789 L804.29 538.789  Z\n",
       "  \" fill=\"#009af9\" fill-rule=\"evenodd\" fill-opacity=\"1\"/>\n",
       "<polyline clip-path=\"url(#clip132)\" style=\"stroke:#000000; stroke-linecap:butt; stroke-linejoin:round; stroke-width:4; stroke-opacity:1; fill:none\" points=\"\n",
       "  804.29,538.789 401.148,538.789 401.148,503.881 804.29,503.881 804.29,538.789 \n",
       "  \"/>\n",
       "<path clip-path=\"url(#clip132)\" d=\"\n",
       "M481.777 495.154 L401.148 495.154 L401.148 460.246 L481.777 460.246 L481.777 495.154 L481.777 495.154  Z\n",
       "  \" fill=\"#009af9\" fill-rule=\"evenodd\" fill-opacity=\"1\"/>\n",
       "<polyline clip-path=\"url(#clip132)\" style=\"stroke:#000000; stroke-linecap:butt; stroke-linejoin:round; stroke-width:4; stroke-opacity:1; fill:none\" points=\"\n",
       "  481.777,495.154 401.148,495.154 401.148,460.246 481.777,460.246 481.777,495.154 \n",
       "  \"/>\n",
       "<path clip-path=\"url(#clip132)\" d=\"\n",
       "M562.405 451.519 L401.148 451.519 L401.148 416.612 L562.405 416.612 L562.405 451.519 L562.405 451.519  Z\n",
       "  \" fill=\"#009af9\" fill-rule=\"evenodd\" fill-opacity=\"1\"/>\n",
       "<polyline clip-path=\"url(#clip132)\" style=\"stroke:#000000; stroke-linecap:butt; stroke-linejoin:round; stroke-width:4; stroke-opacity:1; fill:none\" points=\"\n",
       "  562.405,451.519 401.148,451.519 401.148,416.612 562.405,416.612 562.405,451.519 \n",
       "  \"/>\n",
       "<path clip-path=\"url(#clip132)\" d=\"\n",
       "M723.662 407.885 L401.148 407.885 L401.148 372.977 L723.662 372.977 L723.662 407.885 L723.662 407.885  Z\n",
       "  \" fill=\"#009af9\" fill-rule=\"evenodd\" fill-opacity=\"1\"/>\n",
       "<polyline clip-path=\"url(#clip132)\" style=\"stroke:#000000; stroke-linecap:butt; stroke-linejoin:round; stroke-width:4; stroke-opacity:1; fill:none\" points=\"\n",
       "  723.662,407.885 401.148,407.885 401.148,372.977 723.662,372.977 723.662,407.885 \n",
       "  \"/>\n",
       "<path clip-path=\"url(#clip132)\" d=\"\n",
       "M925.232 364.25 L401.148 364.25 L401.148 329.342 L925.232 329.342 L925.232 364.25 L925.232 364.25  Z\n",
       "  \" fill=\"#009af9\" fill-rule=\"evenodd\" fill-opacity=\"1\"/>\n",
       "<polyline clip-path=\"url(#clip132)\" style=\"stroke:#000000; stroke-linecap:butt; stroke-linejoin:round; stroke-width:4; stroke-opacity:1; fill:none\" points=\"\n",
       "  925.232,364.25 401.148,364.25 401.148,329.342 925.232,329.342 925.232,364.25 \n",
       "  \"/>\n",
       "<path clip-path=\"url(#clip132)\" d=\"\n",
       "M1126.8 320.615 L401.148 320.615 L401.148 285.708 L1126.8 285.708 L1126.8 320.615 L1126.8 320.615  Z\n",
       "  \" fill=\"#009af9\" fill-rule=\"evenodd\" fill-opacity=\"1\"/>\n",
       "<polyline clip-path=\"url(#clip132)\" style=\"stroke:#000000; stroke-linecap:butt; stroke-linejoin:round; stroke-width:4; stroke-opacity:1; fill:none\" points=\"\n",
       "  1126.8,320.615 401.148,320.615 401.148,285.708 1126.8,285.708 1126.8,320.615 \n",
       "  \"/>\n",
       "<path clip-path=\"url(#clip132)\" d=\"\n",
       "M481.777 276.981 L401.148 276.981 L401.148 242.073 L481.777 242.073 L481.777 276.981 L481.777 276.981  Z\n",
       "  \" fill=\"#009af9\" fill-rule=\"evenodd\" fill-opacity=\"1\"/>\n",
       "<polyline clip-path=\"url(#clip132)\" style=\"stroke:#000000; stroke-linecap:butt; stroke-linejoin:round; stroke-width:4; stroke-opacity:1; fill:none\" points=\"\n",
       "  481.777,276.981 401.148,276.981 401.148,242.073 481.777,242.073 481.777,276.981 \n",
       "  \"/>\n",
       "<path clip-path=\"url(#clip132)\" d=\"\n",
       "M562.405 233.346 L401.148 233.346 L401.148 198.438 L562.405 198.438 L562.405 233.346 L562.405 233.346  Z\n",
       "  \" fill=\"#009af9\" fill-rule=\"evenodd\" fill-opacity=\"1\"/>\n",
       "<polyline clip-path=\"url(#clip132)\" style=\"stroke:#000000; stroke-linecap:butt; stroke-linejoin:round; stroke-width:4; stroke-opacity:1; fill:none\" points=\"\n",
       "  562.405,233.346 401.148,233.346 401.148,198.438 562.405,198.438 562.405,233.346 \n",
       "  \"/>\n",
       "<circle clip-path=\"url(#clip132)\" style=\"fill:#009af9; stroke:none; fill-opacity:0\" cx=\"643.033\" cy=\"1394.03\" r=\"2\"/>\n",
       "<circle clip-path=\"url(#clip132)\" style=\"fill:#009af9; stroke:none; fill-opacity:0\" cx=\"1126.8\" cy=\"1350.39\" r=\"2\"/>\n",
       "<circle clip-path=\"url(#clip132)\" style=\"fill:#009af9; stroke:none; fill-opacity:0\" cx=\"481.777\" cy=\"1306.76\" r=\"2\"/>\n",
       "<circle clip-path=\"url(#clip132)\" style=\"fill:#009af9; stroke:none; fill-opacity:0\" cx=\"1126.8\" cy=\"1263.12\" r=\"2\"/>\n",
       "<circle clip-path=\"url(#clip132)\" style=\"fill:#009af9; stroke:none; fill-opacity:0\" cx=\"481.777\" cy=\"1219.49\" r=\"2\"/>\n",
       "<circle clip-path=\"url(#clip132)\" style=\"fill:#009af9; stroke:none; fill-opacity:0\" cx=\"481.777\" cy=\"1175.85\" r=\"2\"/>\n",
       "<circle clip-path=\"url(#clip132)\" style=\"fill:#009af9; stroke:none; fill-opacity:0\" cx=\"562.405\" cy=\"1132.22\" r=\"2\"/>\n",
       "<circle clip-path=\"url(#clip132)\" style=\"fill:#009af9; stroke:none; fill-opacity:0\" cx=\"804.29\" cy=\"1088.59\" r=\"2\"/>\n",
       "<circle clip-path=\"url(#clip132)\" style=\"fill:#009af9; stroke:none; fill-opacity:0\" cx=\"965.546\" cy=\"1044.95\" r=\"2\"/>\n",
       "<circle clip-path=\"url(#clip132)\" style=\"fill:#009af9; stroke:none; fill-opacity:0\" cx=\"481.777\" cy=\"1001.32\" r=\"2\"/>\n",
       "<circle clip-path=\"url(#clip132)\" style=\"fill:#009af9; stroke:none; fill-opacity:0\" cx=\"1005.86\" cy=\"957.681\" r=\"2\"/>\n",
       "<circle clip-path=\"url(#clip132)\" style=\"fill:#009af9; stroke:none; fill-opacity:0\" cx=\"602.719\" cy=\"914.047\" r=\"2\"/>\n",
       "<circle clip-path=\"url(#clip132)\" style=\"fill:#009af9; stroke:none; fill-opacity:0\" cx=\"481.777\" cy=\"870.412\" r=\"2\"/>\n",
       "<circle clip-path=\"url(#clip132)\" style=\"fill:#009af9; stroke:none; fill-opacity:0\" cx=\"1005.86\" cy=\"826.777\" r=\"2\"/>\n",
       "<circle clip-path=\"url(#clip132)\" style=\"fill:#009af9; stroke:none; fill-opacity:0\" cx=\"1046.17\" cy=\"783.143\" r=\"2\"/>\n",
       "<circle clip-path=\"url(#clip132)\" style=\"fill:#009af9; stroke:none; fill-opacity:0\" cx=\"602.719\" cy=\"739.508\" r=\"2\"/>\n",
       "<circle clip-path=\"url(#clip132)\" style=\"fill:#009af9; stroke:none; fill-opacity:0\" cx=\"2255.6\" cy=\"695.873\" r=\"2\"/>\n",
       "<circle clip-path=\"url(#clip132)\" style=\"fill:#009af9; stroke:none; fill-opacity:0\" cx=\"2295.91\" cy=\"652.239\" r=\"2\"/>\n",
       "<circle clip-path=\"url(#clip132)\" style=\"fill:#009af9; stroke:none; fill-opacity:0\" cx=\"481.777\" cy=\"608.604\" r=\"2\"/>\n",
       "<circle clip-path=\"url(#clip132)\" style=\"fill:#009af9; stroke:none; fill-opacity:0\" cx=\"965.546\" cy=\"564.969\" r=\"2\"/>\n",
       "<circle clip-path=\"url(#clip132)\" style=\"fill:#009af9; stroke:none; fill-opacity:0\" cx=\"804.29\" cy=\"521.335\" r=\"2\"/>\n",
       "<circle clip-path=\"url(#clip132)\" style=\"fill:#009af9; stroke:none; fill-opacity:0\" cx=\"481.777\" cy=\"477.7\" r=\"2\"/>\n",
       "<circle clip-path=\"url(#clip132)\" style=\"fill:#009af9; stroke:none; fill-opacity:0\" cx=\"562.405\" cy=\"434.065\" r=\"2\"/>\n",
       "<circle clip-path=\"url(#clip132)\" style=\"fill:#009af9; stroke:none; fill-opacity:0\" cx=\"723.662\" cy=\"390.431\" r=\"2\"/>\n",
       "<circle clip-path=\"url(#clip132)\" style=\"fill:#009af9; stroke:none; fill-opacity:0\" cx=\"925.232\" cy=\"346.796\" r=\"2\"/>\n",
       "<circle clip-path=\"url(#clip132)\" style=\"fill:#009af9; stroke:none; fill-opacity:0\" cx=\"1126.8\" cy=\"303.161\" r=\"2\"/>\n",
       "<circle clip-path=\"url(#clip132)\" style=\"fill:#009af9; stroke:none; fill-opacity:0\" cx=\"481.777\" cy=\"259.527\" r=\"2\"/>\n",
       "<circle clip-path=\"url(#clip132)\" style=\"fill:#009af9; stroke:none; fill-opacity:0\" cx=\"562.405\" cy=\"215.892\" r=\"2\"/>\n",
       "<path clip-path=\"url(#clip130)\" d=\"\n",
       "M2010.22 272.585 L2285.81 272.585 L2285.81 168.905 L2010.22 168.905  Z\n",
       "  \" fill=\"#ffffff\" fill-rule=\"evenodd\" fill-opacity=\"1\"/>\n",
       "<polyline clip-path=\"url(#clip130)\" style=\"stroke:#000000; stroke-linecap:butt; stroke-linejoin:round; stroke-width:4; stroke-opacity:1; fill:none\" points=\"\n",
       "  2010.22,272.585 2285.81,272.585 2285.81,168.905 2010.22,168.905 2010.22,272.585 \n",
       "  \"/>\n",
       "<path clip-path=\"url(#clip130)\" d=\"\n",
       "M2032.53 241.481 L2166.43 241.481 L2166.43 200.009 L2032.53 200.009 L2032.53 241.481  Z\n",
       "  \" fill=\"#009af9\" fill-rule=\"evenodd\" fill-opacity=\"1\"/>\n",
       "<polyline clip-path=\"url(#clip130)\" style=\"stroke:#000000; stroke-linecap:butt; stroke-linejoin:round; stroke-width:4; stroke-opacity:1; fill:none\" points=\"\n",
       "  2032.53,241.481 2166.43,241.481 2166.43,200.009 2032.53,200.009 2032.53,241.481 \n",
       "  \"/>\n",
       "<path clip-path=\"url(#clip130)\" d=\"M2202.59 240.432 Q2200.78 245.062 2199.07 246.474 Q2197.36 247.886 2194.49 247.886 L2191.08 247.886 L2191.08 244.321 L2193.58 244.321 Q2195.34 244.321 2196.31 243.488 Q2197.29 242.654 2198.47 239.552 L2199.23 237.608 L2188.75 212.099 L2193.26 212.099 L2201.36 232.377 L2209.46 212.099 L2213.98 212.099 L2202.59 240.432 Z\" fill=\"#000000\" fill-rule=\"evenodd\" fill-opacity=\"1\" /><path clip-path=\"url(#clip130)\" d=\"M2221.27 234.089 L2228.91 234.089 L2228.91 207.724 L2220.6 209.391 L2220.6 205.131 L2228.86 203.465 L2233.54 203.465 L2233.54 234.089 L2241.18 234.089 L2241.18 238.025 L2221.27 238.025 L2221.27 234.089 Z\" fill=\"#000000\" fill-rule=\"evenodd\" fill-opacity=\"1\" /></svg>\n"
      ]
     },
     "execution_count": 153,
     "metadata": {},
     "output_type": "execute_result"
    }
   ],
   "source": [
    "x = collect(keys(sprt))\n",
    "y = collect(values(sprt))\n",
    "bar(x, y, title=\"Eventos por deporte\", orientation=:h, shadow=true)"
   ]
  }
 ],
 "metadata": {
  "kernelspec": {
   "display_name": "Julia 1.6.2",
   "language": "julia",
   "name": "julia-1.6"
  },
  "language_info": {
   "file_extension": ".jl",
   "mimetype": "application/julia",
   "name": "julia",
   "version": "1.6.2"
  }
 },
 "nbformat": 4,
 "nbformat_minor": 5
}
